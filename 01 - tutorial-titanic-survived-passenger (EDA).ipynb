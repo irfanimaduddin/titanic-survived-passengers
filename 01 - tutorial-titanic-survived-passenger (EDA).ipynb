{
 "cells": [
  {
   "cell_type": "markdown",
   "id": "6dbfb198",
   "metadata": {},
   "source": [
    "# 01 - Tutorial Titanic Survived Passangers (EDA) \n",
    "\n",
    "by: Irfan Imaduddin <br>\n",
    "ref: https://www.kaggle.com/code/andrej0marinchenko/titanic-eda-upd/notebook <br>\n",
    "contact: irfanimaduddin[at]gmail.com <br>\n",
    "\n",
    "---"
   ]
  },
  {
   "cell_type": "markdown",
   "id": "f372c252",
   "metadata": {},
   "source": [
    "## Setup"
   ]
  },
  {
   "cell_type": "markdown",
   "id": "f21e2af9",
   "metadata": {},
   "source": [
    "Import modules"
   ]
  },
  {
   "cell_type": "code",
   "execution_count": 1,
   "id": "53b2ed68",
   "metadata": {},
   "outputs": [],
   "source": [
    "import ipywidgets\n",
    "import numpy as np\n",
    "import pandas as pd\n",
    "\n",
    "import seaborn as sns\n",
    "import matplotlib.pyplot as plt\n",
    "\n",
    "import catboost as cb\n",
    "\n",
    "from sklearn.metrics import accuracy_score, confusion_matrix\n",
    "from sklearn.linear_model import LogisticRegression\n",
    "from sklearn.model_selection import train_test_split\n",
    "from sklearn.preprocessing import LabelEncoder, MinMaxScaler, StandardScaler\n",
    "\n",
    "import warnings\n",
    "warnings.filterwarnings(\"ignore\")"
   ]
  },
  {
   "cell_type": "markdown",
   "id": "1fc81341",
   "metadata": {},
   "source": [
    "Read files"
   ]
  },
  {
   "cell_type": "code",
   "execution_count": 2,
   "id": "6b5a2e1a",
   "metadata": {},
   "outputs": [],
   "source": [
    "dataset_train = pd.read_csv(\"train.csv\")\n",
    "dataset_test = pd.read_csv(\"test.csv\")\n",
    "dataset_result = pd.read_csv(\"gender_submission.csv\")"
   ]
  },
  {
   "cell_type": "markdown",
   "id": "46013277",
   "metadata": {},
   "source": [
    "## Inspect Data"
   ]
  },
  {
   "cell_type": "code",
   "execution_count": 3,
   "id": "8a35f58d",
   "metadata": {},
   "outputs": [
    {
     "data": {
      "text/html": [
       "<div>\n",
       "<style scoped>\n",
       "    .dataframe tbody tr th:only-of-type {\n",
       "        vertical-align: middle;\n",
       "    }\n",
       "\n",
       "    .dataframe tbody tr th {\n",
       "        vertical-align: top;\n",
       "    }\n",
       "\n",
       "    .dataframe thead th {\n",
       "        text-align: right;\n",
       "    }\n",
       "</style>\n",
       "<table border=\"1\" class=\"dataframe\">\n",
       "  <thead>\n",
       "    <tr style=\"text-align: right;\">\n",
       "      <th></th>\n",
       "      <th>PassengerId</th>\n",
       "      <th>Survived</th>\n",
       "      <th>Pclass</th>\n",
       "      <th>Name</th>\n",
       "      <th>Sex</th>\n",
       "      <th>Age</th>\n",
       "      <th>SibSp</th>\n",
       "      <th>Parch</th>\n",
       "      <th>Ticket</th>\n",
       "      <th>Fare</th>\n",
       "      <th>Cabin</th>\n",
       "      <th>Embarked</th>\n",
       "    </tr>\n",
       "  </thead>\n",
       "  <tbody>\n",
       "    <tr>\n",
       "      <th>0</th>\n",
       "      <td>1</td>\n",
       "      <td>0</td>\n",
       "      <td>3</td>\n",
       "      <td>Braund, Mr. Owen Harris</td>\n",
       "      <td>male</td>\n",
       "      <td>22.0</td>\n",
       "      <td>1</td>\n",
       "      <td>0</td>\n",
       "      <td>A/5 21171</td>\n",
       "      <td>7.2500</td>\n",
       "      <td>NaN</td>\n",
       "      <td>S</td>\n",
       "    </tr>\n",
       "    <tr>\n",
       "      <th>1</th>\n",
       "      <td>2</td>\n",
       "      <td>1</td>\n",
       "      <td>1</td>\n",
       "      <td>Cumings, Mrs. John Bradley (Florence Briggs Th...</td>\n",
       "      <td>female</td>\n",
       "      <td>38.0</td>\n",
       "      <td>1</td>\n",
       "      <td>0</td>\n",
       "      <td>PC 17599</td>\n",
       "      <td>71.2833</td>\n",
       "      <td>C85</td>\n",
       "      <td>C</td>\n",
       "    </tr>\n",
       "    <tr>\n",
       "      <th>2</th>\n",
       "      <td>3</td>\n",
       "      <td>1</td>\n",
       "      <td>3</td>\n",
       "      <td>Heikkinen, Miss. Laina</td>\n",
       "      <td>female</td>\n",
       "      <td>26.0</td>\n",
       "      <td>0</td>\n",
       "      <td>0</td>\n",
       "      <td>STON/O2. 3101282</td>\n",
       "      <td>7.9250</td>\n",
       "      <td>NaN</td>\n",
       "      <td>S</td>\n",
       "    </tr>\n",
       "    <tr>\n",
       "      <th>3</th>\n",
       "      <td>4</td>\n",
       "      <td>1</td>\n",
       "      <td>1</td>\n",
       "      <td>Futrelle, Mrs. Jacques Heath (Lily May Peel)</td>\n",
       "      <td>female</td>\n",
       "      <td>35.0</td>\n",
       "      <td>1</td>\n",
       "      <td>0</td>\n",
       "      <td>113803</td>\n",
       "      <td>53.1000</td>\n",
       "      <td>C123</td>\n",
       "      <td>S</td>\n",
       "    </tr>\n",
       "    <tr>\n",
       "      <th>4</th>\n",
       "      <td>5</td>\n",
       "      <td>0</td>\n",
       "      <td>3</td>\n",
       "      <td>Allen, Mr. William Henry</td>\n",
       "      <td>male</td>\n",
       "      <td>35.0</td>\n",
       "      <td>0</td>\n",
       "      <td>0</td>\n",
       "      <td>373450</td>\n",
       "      <td>8.0500</td>\n",
       "      <td>NaN</td>\n",
       "      <td>S</td>\n",
       "    </tr>\n",
       "  </tbody>\n",
       "</table>\n",
       "</div>"
      ],
      "text/plain": [
       "   PassengerId  Survived  Pclass  \\\n",
       "0            1         0       3   \n",
       "1            2         1       1   \n",
       "2            3         1       3   \n",
       "3            4         1       1   \n",
       "4            5         0       3   \n",
       "\n",
       "                                                Name     Sex   Age  SibSp  \\\n",
       "0                            Braund, Mr. Owen Harris    male  22.0      1   \n",
       "1  Cumings, Mrs. John Bradley (Florence Briggs Th...  female  38.0      1   \n",
       "2                             Heikkinen, Miss. Laina  female  26.0      0   \n",
       "3       Futrelle, Mrs. Jacques Heath (Lily May Peel)  female  35.0      1   \n",
       "4                           Allen, Mr. William Henry    male  35.0      0   \n",
       "\n",
       "   Parch            Ticket     Fare Cabin Embarked  \n",
       "0      0         A/5 21171   7.2500   NaN        S  \n",
       "1      0          PC 17599  71.2833   C85        C  \n",
       "2      0  STON/O2. 3101282   7.9250   NaN        S  \n",
       "3      0            113803  53.1000  C123        S  \n",
       "4      0            373450   8.0500   NaN        S  "
      ]
     },
     "execution_count": 3,
     "metadata": {},
     "output_type": "execute_result"
    }
   ],
   "source": [
    "dataset_train.head()"
   ]
  },
  {
   "cell_type": "code",
   "execution_count": 4,
   "id": "a7229c2a",
   "metadata": {},
   "outputs": [
    {
     "name": "stdout",
     "output_type": "stream",
     "text": [
      "<class 'pandas.core.frame.DataFrame'>\n",
      "RangeIndex: 891 entries, 0 to 890\n",
      "Data columns (total 12 columns):\n",
      " #   Column       Non-Null Count  Dtype  \n",
      "---  ------       --------------  -----  \n",
      " 0   PassengerId  891 non-null    int64  \n",
      " 1   Survived     891 non-null    int64  \n",
      " 2   Pclass       891 non-null    int64  \n",
      " 3   Name         891 non-null    object \n",
      " 4   Sex          891 non-null    object \n",
      " 5   Age          714 non-null    float64\n",
      " 6   SibSp        891 non-null    int64  \n",
      " 7   Parch        891 non-null    int64  \n",
      " 8   Ticket       891 non-null    object \n",
      " 9   Fare         891 non-null    float64\n",
      " 10  Cabin        204 non-null    object \n",
      " 11  Embarked     889 non-null    object \n",
      "dtypes: float64(2), int64(5), object(5)\n",
      "memory usage: 83.7+ KB\n"
     ]
    }
   ],
   "source": [
    "dataset_train.info()"
   ]
  },
  {
   "cell_type": "code",
   "execution_count": 5,
   "id": "717975e9",
   "metadata": {},
   "outputs": [
    {
     "data": {
      "text/html": [
       "<div>\n",
       "<style scoped>\n",
       "    .dataframe tbody tr th:only-of-type {\n",
       "        vertical-align: middle;\n",
       "    }\n",
       "\n",
       "    .dataframe tbody tr th {\n",
       "        vertical-align: top;\n",
       "    }\n",
       "\n",
       "    .dataframe thead th {\n",
       "        text-align: right;\n",
       "    }\n",
       "</style>\n",
       "<table border=\"1\" class=\"dataframe\">\n",
       "  <thead>\n",
       "    <tr style=\"text-align: right;\">\n",
       "      <th></th>\n",
       "      <th>PassengerId</th>\n",
       "      <th>Pclass</th>\n",
       "      <th>Name</th>\n",
       "      <th>Sex</th>\n",
       "      <th>Age</th>\n",
       "      <th>SibSp</th>\n",
       "      <th>Parch</th>\n",
       "      <th>Ticket</th>\n",
       "      <th>Fare</th>\n",
       "      <th>Cabin</th>\n",
       "      <th>Embarked</th>\n",
       "    </tr>\n",
       "  </thead>\n",
       "  <tbody>\n",
       "    <tr>\n",
       "      <th>0</th>\n",
       "      <td>892</td>\n",
       "      <td>3</td>\n",
       "      <td>Kelly, Mr. James</td>\n",
       "      <td>male</td>\n",
       "      <td>34.5</td>\n",
       "      <td>0</td>\n",
       "      <td>0</td>\n",
       "      <td>330911</td>\n",
       "      <td>7.8292</td>\n",
       "      <td>NaN</td>\n",
       "      <td>Q</td>\n",
       "    </tr>\n",
       "    <tr>\n",
       "      <th>1</th>\n",
       "      <td>893</td>\n",
       "      <td>3</td>\n",
       "      <td>Wilkes, Mrs. James (Ellen Needs)</td>\n",
       "      <td>female</td>\n",
       "      <td>47.0</td>\n",
       "      <td>1</td>\n",
       "      <td>0</td>\n",
       "      <td>363272</td>\n",
       "      <td>7.0000</td>\n",
       "      <td>NaN</td>\n",
       "      <td>S</td>\n",
       "    </tr>\n",
       "    <tr>\n",
       "      <th>2</th>\n",
       "      <td>894</td>\n",
       "      <td>2</td>\n",
       "      <td>Myles, Mr. Thomas Francis</td>\n",
       "      <td>male</td>\n",
       "      <td>62.0</td>\n",
       "      <td>0</td>\n",
       "      <td>0</td>\n",
       "      <td>240276</td>\n",
       "      <td>9.6875</td>\n",
       "      <td>NaN</td>\n",
       "      <td>Q</td>\n",
       "    </tr>\n",
       "    <tr>\n",
       "      <th>3</th>\n",
       "      <td>895</td>\n",
       "      <td>3</td>\n",
       "      <td>Wirz, Mr. Albert</td>\n",
       "      <td>male</td>\n",
       "      <td>27.0</td>\n",
       "      <td>0</td>\n",
       "      <td>0</td>\n",
       "      <td>315154</td>\n",
       "      <td>8.6625</td>\n",
       "      <td>NaN</td>\n",
       "      <td>S</td>\n",
       "    </tr>\n",
       "    <tr>\n",
       "      <th>4</th>\n",
       "      <td>896</td>\n",
       "      <td>3</td>\n",
       "      <td>Hirvonen, Mrs. Alexander (Helga E Lindqvist)</td>\n",
       "      <td>female</td>\n",
       "      <td>22.0</td>\n",
       "      <td>1</td>\n",
       "      <td>1</td>\n",
       "      <td>3101298</td>\n",
       "      <td>12.2875</td>\n",
       "      <td>NaN</td>\n",
       "      <td>S</td>\n",
       "    </tr>\n",
       "  </tbody>\n",
       "</table>\n",
       "</div>"
      ],
      "text/plain": [
       "   PassengerId  Pclass                                          Name     Sex  \\\n",
       "0          892       3                              Kelly, Mr. James    male   \n",
       "1          893       3              Wilkes, Mrs. James (Ellen Needs)  female   \n",
       "2          894       2                     Myles, Mr. Thomas Francis    male   \n",
       "3          895       3                              Wirz, Mr. Albert    male   \n",
       "4          896       3  Hirvonen, Mrs. Alexander (Helga E Lindqvist)  female   \n",
       "\n",
       "    Age  SibSp  Parch   Ticket     Fare Cabin Embarked  \n",
       "0  34.5      0      0   330911   7.8292   NaN        Q  \n",
       "1  47.0      1      0   363272   7.0000   NaN        S  \n",
       "2  62.0      0      0   240276   9.6875   NaN        Q  \n",
       "3  27.0      0      0   315154   8.6625   NaN        S  \n",
       "4  22.0      1      1  3101298  12.2875   NaN        S  "
      ]
     },
     "execution_count": 5,
     "metadata": {},
     "output_type": "execute_result"
    }
   ],
   "source": [
    "dataset_test.head()"
   ]
  },
  {
   "cell_type": "code",
   "execution_count": 6,
   "id": "46114467",
   "metadata": {},
   "outputs": [
    {
     "name": "stdout",
     "output_type": "stream",
     "text": [
      "<class 'pandas.core.frame.DataFrame'>\n",
      "RangeIndex: 418 entries, 0 to 417\n",
      "Data columns (total 11 columns):\n",
      " #   Column       Non-Null Count  Dtype  \n",
      "---  ------       --------------  -----  \n",
      " 0   PassengerId  418 non-null    int64  \n",
      " 1   Pclass       418 non-null    int64  \n",
      " 2   Name         418 non-null    object \n",
      " 3   Sex          418 non-null    object \n",
      " 4   Age          332 non-null    float64\n",
      " 5   SibSp        418 non-null    int64  \n",
      " 6   Parch        418 non-null    int64  \n",
      " 7   Ticket       418 non-null    object \n",
      " 8   Fare         417 non-null    float64\n",
      " 9   Cabin        91 non-null     object \n",
      " 10  Embarked     418 non-null    object \n",
      "dtypes: float64(2), int64(4), object(5)\n",
      "memory usage: 36.0+ KB\n"
     ]
    }
   ],
   "source": [
    "dataset_test.info()"
   ]
  },
  {
   "cell_type": "code",
   "execution_count": 7,
   "id": "6077976c",
   "metadata": {},
   "outputs": [
    {
     "data": {
      "text/html": [
       "<div>\n",
       "<style scoped>\n",
       "    .dataframe tbody tr th:only-of-type {\n",
       "        vertical-align: middle;\n",
       "    }\n",
       "\n",
       "    .dataframe tbody tr th {\n",
       "        vertical-align: top;\n",
       "    }\n",
       "\n",
       "    .dataframe thead th {\n",
       "        text-align: right;\n",
       "    }\n",
       "</style>\n",
       "<table border=\"1\" class=\"dataframe\">\n",
       "  <thead>\n",
       "    <tr style=\"text-align: right;\">\n",
       "      <th></th>\n",
       "      <th>PassengerId</th>\n",
       "      <th>Survived</th>\n",
       "    </tr>\n",
       "  </thead>\n",
       "  <tbody>\n",
       "    <tr>\n",
       "      <th>0</th>\n",
       "      <td>892</td>\n",
       "      <td>0</td>\n",
       "    </tr>\n",
       "    <tr>\n",
       "      <th>1</th>\n",
       "      <td>893</td>\n",
       "      <td>1</td>\n",
       "    </tr>\n",
       "    <tr>\n",
       "      <th>2</th>\n",
       "      <td>894</td>\n",
       "      <td>0</td>\n",
       "    </tr>\n",
       "    <tr>\n",
       "      <th>3</th>\n",
       "      <td>895</td>\n",
       "      <td>0</td>\n",
       "    </tr>\n",
       "    <tr>\n",
       "      <th>4</th>\n",
       "      <td>896</td>\n",
       "      <td>1</td>\n",
       "    </tr>\n",
       "  </tbody>\n",
       "</table>\n",
       "</div>"
      ],
      "text/plain": [
       "   PassengerId  Survived\n",
       "0          892         0\n",
       "1          893         1\n",
       "2          894         0\n",
       "3          895         0\n",
       "4          896         1"
      ]
     },
     "execution_count": 7,
     "metadata": {},
     "output_type": "execute_result"
    }
   ],
   "source": [
    "dataset_result.head()"
   ]
  },
  {
   "cell_type": "code",
   "execution_count": 8,
   "id": "c040746f",
   "metadata": {},
   "outputs": [
    {
     "name": "stdout",
     "output_type": "stream",
     "text": [
      "<class 'pandas.core.frame.DataFrame'>\n",
      "RangeIndex: 418 entries, 0 to 417\n",
      "Data columns (total 2 columns):\n",
      " #   Column       Non-Null Count  Dtype\n",
      "---  ------       --------------  -----\n",
      " 0   PassengerId  418 non-null    int64\n",
      " 1   Survived     418 non-null    int64\n",
      "dtypes: int64(2)\n",
      "memory usage: 6.7 KB\n"
     ]
    }
   ],
   "source": [
    "dataset_result.info()"
   ]
  },
  {
   "cell_type": "code",
   "execution_count": 9,
   "id": "5bc4ee8d",
   "metadata": {},
   "outputs": [
    {
     "data": {
      "text/html": [
       "<div>\n",
       "<style scoped>\n",
       "    .dataframe tbody tr th:only-of-type {\n",
       "        vertical-align: middle;\n",
       "    }\n",
       "\n",
       "    .dataframe tbody tr th {\n",
       "        vertical-align: top;\n",
       "    }\n",
       "\n",
       "    .dataframe thead th {\n",
       "        text-align: right;\n",
       "    }\n",
       "</style>\n",
       "<table border=\"1\" class=\"dataframe\">\n",
       "  <thead>\n",
       "    <tr style=\"text-align: right;\">\n",
       "      <th></th>\n",
       "      <th>count</th>\n",
       "      <th>mean</th>\n",
       "      <th>std</th>\n",
       "      <th>min</th>\n",
       "      <th>25%</th>\n",
       "      <th>50%</th>\n",
       "      <th>75%</th>\n",
       "      <th>max</th>\n",
       "    </tr>\n",
       "  </thead>\n",
       "  <tbody>\n",
       "    <tr>\n",
       "      <th>PassengerId</th>\n",
       "      <td>891.0</td>\n",
       "      <td>446.000000</td>\n",
       "      <td>257.353842</td>\n",
       "      <td>1.00</td>\n",
       "      <td>223.5000</td>\n",
       "      <td>446.0000</td>\n",
       "      <td>668.5</td>\n",
       "      <td>891.0000</td>\n",
       "    </tr>\n",
       "    <tr>\n",
       "      <th>Survived</th>\n",
       "      <td>891.0</td>\n",
       "      <td>0.383838</td>\n",
       "      <td>0.486592</td>\n",
       "      <td>0.00</td>\n",
       "      <td>0.0000</td>\n",
       "      <td>0.0000</td>\n",
       "      <td>1.0</td>\n",
       "      <td>1.0000</td>\n",
       "    </tr>\n",
       "    <tr>\n",
       "      <th>Pclass</th>\n",
       "      <td>891.0</td>\n",
       "      <td>2.308642</td>\n",
       "      <td>0.836071</td>\n",
       "      <td>1.00</td>\n",
       "      <td>2.0000</td>\n",
       "      <td>3.0000</td>\n",
       "      <td>3.0</td>\n",
       "      <td>3.0000</td>\n",
       "    </tr>\n",
       "    <tr>\n",
       "      <th>Age</th>\n",
       "      <td>714.0</td>\n",
       "      <td>29.699118</td>\n",
       "      <td>14.526497</td>\n",
       "      <td>0.42</td>\n",
       "      <td>20.1250</td>\n",
       "      <td>28.0000</td>\n",
       "      <td>38.0</td>\n",
       "      <td>80.0000</td>\n",
       "    </tr>\n",
       "    <tr>\n",
       "      <th>SibSp</th>\n",
       "      <td>891.0</td>\n",
       "      <td>0.523008</td>\n",
       "      <td>1.102743</td>\n",
       "      <td>0.00</td>\n",
       "      <td>0.0000</td>\n",
       "      <td>0.0000</td>\n",
       "      <td>1.0</td>\n",
       "      <td>8.0000</td>\n",
       "    </tr>\n",
       "    <tr>\n",
       "      <th>Parch</th>\n",
       "      <td>891.0</td>\n",
       "      <td>0.381594</td>\n",
       "      <td>0.806057</td>\n",
       "      <td>0.00</td>\n",
       "      <td>0.0000</td>\n",
       "      <td>0.0000</td>\n",
       "      <td>0.0</td>\n",
       "      <td>6.0000</td>\n",
       "    </tr>\n",
       "    <tr>\n",
       "      <th>Fare</th>\n",
       "      <td>891.0</td>\n",
       "      <td>32.204208</td>\n",
       "      <td>49.693429</td>\n",
       "      <td>0.00</td>\n",
       "      <td>7.9104</td>\n",
       "      <td>14.4542</td>\n",
       "      <td>31.0</td>\n",
       "      <td>512.3292</td>\n",
       "    </tr>\n",
       "  </tbody>\n",
       "</table>\n",
       "</div>"
      ],
      "text/plain": [
       "             count        mean         std   min       25%       50%    75%  \\\n",
       "PassengerId  891.0  446.000000  257.353842  1.00  223.5000  446.0000  668.5   \n",
       "Survived     891.0    0.383838    0.486592  0.00    0.0000    0.0000    1.0   \n",
       "Pclass       891.0    2.308642    0.836071  1.00    2.0000    3.0000    3.0   \n",
       "Age          714.0   29.699118   14.526497  0.42   20.1250   28.0000   38.0   \n",
       "SibSp        891.0    0.523008    1.102743  0.00    0.0000    0.0000    1.0   \n",
       "Parch        891.0    0.381594    0.806057  0.00    0.0000    0.0000    0.0   \n",
       "Fare         891.0   32.204208   49.693429  0.00    7.9104   14.4542   31.0   \n",
       "\n",
       "                  max  \n",
       "PassengerId  891.0000  \n",
       "Survived       1.0000  \n",
       "Pclass         3.0000  \n",
       "Age           80.0000  \n",
       "SibSp          8.0000  \n",
       "Parch          6.0000  \n",
       "Fare         512.3292  "
      ]
     },
     "execution_count": 9,
     "metadata": {},
     "output_type": "execute_result"
    }
   ],
   "source": [
    "dataset_train.describe().T"
   ]
  },
  {
   "cell_type": "markdown",
   "id": "f56013b7",
   "metadata": {},
   "source": [
    "### Summary\n",
    "  \n",
    "1. **Variable Description** <br>\n",
    "    a. `PassengerId`: unique id number for each passenger. <br>\n",
    "    b. `Survived`: survival label as the **target** or **dependent** variable (`1` = survived passenger, `0` = not survived or died passenger). <br>\n",
    "    c. `Pclass`: passenger class. The values are `1`, `2` and `3` which represents for the first class (upper deck), the second class (middle deck) and the third class (lower deck), respectively. <br>\n",
    "    d. `Name`: name of passenger. <br>\n",
    "    e. `Sex`: gender of passenger. (`male` and `female`) <br> \n",
    "    f. `Age`: age of passenger in years. <br>\n",
    "    g. `SibSp`: number of siblings or spouses aboard the Titanic. Sibling = brother, sister, stepbrother, stepsister; Spouse = husband, wife (mistresses and fiancés were ignored). <br>\n",
    "    h. `Parch`: number of parents or children aboard the Titanic. Parent = mother, father; Child = daughter, son, stepdaughter, stepson; Some children travelled only with a nanny, therefore parch = 0 for them. <br>\n",
    "    i. `Ticket`: ticket number owned by each passenger. <br> \n",
    "    j. `Fare`: amount of money spent on ticket. <br>\n",
    "    k. `Cabin`: cabin number for each passenger. <br>\n",
    "    l. `Embarked`: port of embarkation for every passenger (`C` = Cherbourg, `Q` = Queenstown, `S` = Southampton). <br><br>\n",
    "\n",
    "2. **Feature types** <br>\n",
    "    a. **Categorical** : Survived, Pclass, Sex, SibSp, Parch, Embarked <br>\n",
    "    b. **Numerical** : PassengerId, Age, Fare <br>\n",
    "    c. **Mixed** : Name, Ticket, Cabin <br> <br>\n",
    "\n",
    "3. **Length of dataset** <br>\n",
    "    a. `dataset_train` = 891 <br>\n",
    "    b. `dataset_test` = 418 <br>\n",
    "    c. `dataset_result` = 418 <br> <br>"
   ]
  },
  {
   "cell_type": "markdown",
   "id": "ebd88aad",
   "metadata": {},
   "source": [
    "## Missing Values"
   ]
  },
  {
   "cell_type": "markdown",
   "id": "d8e0b522",
   "metadata": {},
   "source": [
    "Number of missing values in `dataset_train`"
   ]
  },
  {
   "cell_type": "code",
   "execution_count": 10,
   "id": "50141e17",
   "metadata": {
    "scrolled": false
   },
   "outputs": [
    {
     "name": "stdout",
     "output_type": "stream",
     "text": [
      "Missing values: `Age` = 177; `Cabin` = 204; `Embarked` = 2\n"
     ]
    },
    {
     "data": {
      "image/png": "[encoded data removed]",
      "text/plain": [
       "<Figure size 1800x720 with 3 Axes>"
      ]
     },
     "metadata": {
      "needs_background": "light"
     },
     "output_type": "display_data"
    }
   ],
   "source": [
    "import missingno\n",
    "\n",
    "missingno.bar(dataset_train)\n",
    "print(\"Missing values: `Age` = 177; `Cabin` = 204; `Embarked` = 2\")\n",
    "plt.show()"
   ]
  },
  {
   "cell_type": "markdown",
   "id": "ac7d76e8",
   "metadata": {},
   "source": [
    "Number of missing values in `dataset_test`"
   ]
  },
  {
   "cell_type": "code",
   "execution_count": 11,
   "id": "356db694",
   "metadata": {
    "scrolled": false
   },
   "outputs": [
    {
     "name": "stdout",
     "output_type": "stream",
     "text": [
      "Missing values: `Age` = 86; `Fare` = 1; `Cabin` =  327\n"
     ]
    },
    {
     "data": {
      "image/png": "[encoded data removed]",
      "text/plain": [
       "<Figure size 1800x720 with 3 Axes>"
      ]
     },
     "metadata": {
      "needs_background": "light"
     },
     "output_type": "display_data"
    }
   ],
   "source": [
    "missingno.bar(dataset_test)\n",
    "print(\"Missing values: `Age` = 86; `Fare` = 1; `Cabin` =  327\")\n",
    "plt.show()"
   ]
  },
  {
   "cell_type": "markdown",
   "id": "c7cdbe75",
   "metadata": {},
   "source": [
    "Distribution of missing values in `dataset_train`"
   ]
  },
  {
   "cell_type": "code",
   "execution_count": 12,
   "id": "657807b4",
   "metadata": {
    "scrolled": false
   },
   "outputs": [
    {
     "name": "stdout",
     "output_type": "stream",
     "text": [
      "Missing values: `Age` = 177; `Cabin` = 204; `Embarked` = 2\n"
     ]
    },
    {
     "data": {
      "image/png": "[encoded data removed]",
      "text/plain": [
       "<Figure size 1800x720 with 2 Axes>"
      ]
     },
     "metadata": {
      "needs_background": "light"
     },
     "output_type": "display_data"
    }
   ],
   "source": [
    "missingno.matrix(dataset_train)\n",
    "print(\"Missing values: `Age` = 177; `Cabin` = 204; `Embarked` = 2\")\n",
    "plt.show()"
   ]
  },
  {
   "cell_type": "markdown",
   "id": "0c613de9",
   "metadata": {},
   "source": [
    "Distribution of missing values in `dataset_test`"
   ]
  },
  {
   "cell_type": "code",
   "execution_count": 13,
   "id": "cbcda139",
   "metadata": {
    "scrolled": false
   },
   "outputs": [
    {
     "name": "stdout",
     "output_type": "stream",
     "text": [
      "Missing values: `Age` = 86; `Fare` = 1; `Cabin` =  327\n"
     ]
    },
    {
     "data": {
      "image/png": "[encoded data removed]",
      "text/plain": [
       "<Figure size 1800x720 with 2 Axes>"
      ]
     },
     "metadata": {
      "needs_background": "light"
     },
     "output_type": "display_data"
    }
   ],
   "source": [
    "missingno.matrix(dataset_test)\n",
    "print(\"Missing values: `Age` = 86; `Fare` = 1; `Cabin` =  327\")\n",
    "plt.show()"
   ]
  },
  {
   "cell_type": "markdown",
   "id": "eb925285",
   "metadata": {},
   "source": [
    "There are several features that have null values, which are: <br>\n",
    "    a. `dataset_train` → `Age` = 177; `Cabin` =  204; `Embarked` = 2 <br>\n",
    "    b. `dataset_test` → `Age` = 86; `Fare`: 1; `Cabin` =  327 <br> <br>\n",
    "\n",
    "Let's check what kind of missingness that we have above. In general, there are three kinds of missingness.\n",
    "\n",
    "![](https://cjasn.asnjournals.org/content/clinjasn/early/2014/02/06/CJN.10141013/F2.large.jpg?width=800&height=600&carousel=1)\n",
    "\n",
    "Source: https://cjasn.asnjournals.org/content/early/2014/02/06/CJN.10141013/tab-figures-data?versioned=true. For more information, please check this [link](https://en.wikipedia.org/wiki/Missing_data)."
   ]
  },
  {
   "cell_type": "markdown",
   "id": "e97ac6eb",
   "metadata": {},
   "source": [
    "For `Embarked` feature in `dataset_train`,"
   ]
  },
  {
   "cell_type": "code",
   "execution_count": 14,
   "id": "982d4c90",
   "metadata": {},
   "outputs": [
    {
     "data": {
      "text/html": [
       "<div>\n",
       "<style scoped>\n",
       "    .dataframe tbody tr th:only-of-type {\n",
       "        vertical-align: middle;\n",
       "    }\n",
       "\n",
       "    .dataframe tbody tr th {\n",
       "        vertical-align: top;\n",
       "    }\n",
       "\n",
       "    .dataframe thead th {\n",
       "        text-align: right;\n",
       "    }\n",
       "</style>\n",
       "<table border=\"1\" class=\"dataframe\">\n",
       "  <thead>\n",
       "    <tr style=\"text-align: right;\">\n",
       "      <th></th>\n",
       "      <th>PassengerId</th>\n",
       "      <th>Survived</th>\n",
       "      <th>Pclass</th>\n",
       "      <th>Name</th>\n",
       "      <th>Sex</th>\n",
       "      <th>Age</th>\n",
       "      <th>SibSp</th>\n",
       "      <th>Parch</th>\n",
       "      <th>Ticket</th>\n",
       "      <th>Fare</th>\n",
       "      <th>Cabin</th>\n",
       "      <th>Embarked</th>\n",
       "    </tr>\n",
       "  </thead>\n",
       "  <tbody>\n",
       "    <tr>\n",
       "      <th>61</th>\n",
       "      <td>62</td>\n",
       "      <td>1</td>\n",
       "      <td>1</td>\n",
       "      <td>Icard, Miss. Amelie</td>\n",
       "      <td>female</td>\n",
       "      <td>38.0</td>\n",
       "      <td>0</td>\n",
       "      <td>0</td>\n",
       "      <td>113572</td>\n",
       "      <td>80.0</td>\n",
       "      <td>B28</td>\n",
       "      <td>NaN</td>\n",
       "    </tr>\n",
       "    <tr>\n",
       "      <th>829</th>\n",
       "      <td>830</td>\n",
       "      <td>1</td>\n",
       "      <td>1</td>\n",
       "      <td>Stone, Mrs. George Nelson (Martha Evelyn)</td>\n",
       "      <td>female</td>\n",
       "      <td>62.0</td>\n",
       "      <td>0</td>\n",
       "      <td>0</td>\n",
       "      <td>113572</td>\n",
       "      <td>80.0</td>\n",
       "      <td>B28</td>\n",
       "      <td>NaN</td>\n",
       "    </tr>\n",
       "  </tbody>\n",
       "</table>\n",
       "</div>"
      ],
      "text/plain": [
       "     PassengerId  Survived  Pclass                                       Name  \\\n",
       "61            62         1       1                        Icard, Miss. Amelie   \n",
       "829          830         1       1  Stone, Mrs. George Nelson (Martha Evelyn)   \n",
       "\n",
       "        Sex   Age  SibSp  Parch  Ticket  Fare Cabin Embarked  \n",
       "61   female  38.0      0      0  113572  80.0   B28      NaN  \n",
       "829  female  62.0      0      0  113572  80.0   B28      NaN  "
      ]
     },
     "execution_count": 14,
     "metadata": {},
     "output_type": "execute_result"
    }
   ],
   "source": [
    "dataset_train[dataset_train['Embarked'].isnull()]"
   ]
  },
  {
   "cell_type": "markdown",
   "id": "38a54351",
   "metadata": {},
   "source": [
    "We can see that there is no relation between `Embarked` with other features in the dataset. So, the missingness in `Embarked` is completely at random (MCAR)."
   ]
  },
  {
   "cell_type": "markdown",
   "id": "d7ed8d62",
   "metadata": {},
   "source": [
    "For `Fare` feature in `dataset_test`,"
   ]
  },
  {
   "cell_type": "code",
   "execution_count": 15,
   "id": "58876074",
   "metadata": {},
   "outputs": [
    {
     "data": {
      "text/html": [
       "<div>\n",
       "<style scoped>\n",
       "    .dataframe tbody tr th:only-of-type {\n",
       "        vertical-align: middle;\n",
       "    }\n",
       "\n",
       "    .dataframe tbody tr th {\n",
       "        vertical-align: top;\n",
       "    }\n",
       "\n",
       "    .dataframe thead th {\n",
       "        text-align: right;\n",
       "    }\n",
       "</style>\n",
       "<table border=\"1\" class=\"dataframe\">\n",
       "  <thead>\n",
       "    <tr style=\"text-align: right;\">\n",
       "      <th></th>\n",
       "      <th>PassengerId</th>\n",
       "      <th>Pclass</th>\n",
       "      <th>Name</th>\n",
       "      <th>Sex</th>\n",
       "      <th>Age</th>\n",
       "      <th>SibSp</th>\n",
       "      <th>Parch</th>\n",
       "      <th>Ticket</th>\n",
       "      <th>Fare</th>\n",
       "      <th>Cabin</th>\n",
       "      <th>Embarked</th>\n",
       "    </tr>\n",
       "  </thead>\n",
       "  <tbody>\n",
       "    <tr>\n",
       "      <th>152</th>\n",
       "      <td>1044</td>\n",
       "      <td>3</td>\n",
       "      <td>Storey, Mr. Thomas</td>\n",
       "      <td>male</td>\n",
       "      <td>60.5</td>\n",
       "      <td>0</td>\n",
       "      <td>0</td>\n",
       "      <td>3701</td>\n",
       "      <td>NaN</td>\n",
       "      <td>NaN</td>\n",
       "      <td>S</td>\n",
       "    </tr>\n",
       "  </tbody>\n",
       "</table>\n",
       "</div>"
      ],
      "text/plain": [
       "     PassengerId  Pclass                Name   Sex   Age  SibSp  Parch Ticket  \\\n",
       "152         1044       3  Storey, Mr. Thomas  male  60.5      0      0   3701   \n",
       "\n",
       "     Fare Cabin Embarked  \n",
       "152   NaN   NaN        S  "
      ]
     },
     "execution_count": 15,
     "metadata": {},
     "output_type": "execute_result"
    }
   ],
   "source": [
    "dataset_test[dataset_test['Fare'].isnull()]"
   ]
  },
  {
   "cell_type": "markdown",
   "id": "c622518e",
   "metadata": {},
   "source": [
    "This record contains two NULL values (`Fare` and `Cabin`). But it doesn't mean that when `Fare` has a null value, so `Cabin` does and vice versa. The missingness at this feature seems doesn't have any correlation between other features. Since we know that `Pclass` will determine how much a person has to pay a ticket fare, that doesn't mean that passengers within `3` category on `Pclass` have missing `Fare` values. So, this missingness is also the MCAR.  "
   ]
  },
  {
   "cell_type": "markdown",
   "id": "4763f839",
   "metadata": {},
   "source": [
    "For `Age` and `Cabin` features,"
   ]
  },
  {
   "cell_type": "code",
   "execution_count": 16,
   "id": "700bd457",
   "metadata": {},
   "outputs": [
    {
     "data": {
      "image/png": "[encoded data removed]",
      "text/plain": [
       "<Figure size 1800x720 with 2 Axes>"
      ]
     },
     "metadata": {
      "needs_background": "light"
     },
     "output_type": "display_data"
    }
   ],
   "source": [
    "missingno.matrix(dataset_train.sort_values('Age'))\n",
    "plt.show()"
   ]
  },
  {
   "cell_type": "markdown",
   "id": "1eb56bb5",
   "metadata": {},
   "source": [
    "We don't see there is a pattern of missingness between `Age` and `Cabin` features. This might be a case of MAR as we can't directly see the reason for missingness of data in these features. To make it more clear, let's check the correlation between features which have missing values quantitatively. "
   ]
  },
  {
   "cell_type": "code",
   "execution_count": 17,
   "id": "eb23a384",
   "metadata": {},
   "outputs": [
    {
     "data": {
      "image/png": "[encoded data removed]",
      "text/plain": [
       "<Figure size 1440x864 with 2 Axes>"
      ]
     },
     "metadata": {
      "needs_background": "light"
     },
     "output_type": "display_data"
    }
   ],
   "source": [
    "missingno.heatmap(dataset_train)\n",
    "plt.show()"
   ]
  },
  {
   "cell_type": "markdown",
   "id": "723fb158",
   "metadata": {},
   "source": [
    "The plot above shows that there are no strong correlations (positive or negative) between missing values of different features. Low correlations indicate that the data are MAR."
   ]
  },
  {
   "cell_type": "markdown",
   "id": "ddeda6f1",
   "metadata": {},
   "source": [
    "## Handling Missing Values\n",
    "\n",
    "![](https://imgur.com/68u0dD2.png)\n"
   ]
  },
  {
   "cell_type": "markdown",
   "id": "495ff412",
   "metadata": {},
   "source": [
    "### Missing values of `Embarked` feature in `dataset_train`"
   ]
  },
  {
   "cell_type": "code",
   "execution_count": 18,
   "id": "5933d5e8",
   "metadata": {},
   "outputs": [
    {
     "data": {
      "text/html": [
       "<div>\n",
       "<style scoped>\n",
       "    .dataframe tbody tr th:only-of-type {\n",
       "        vertical-align: middle;\n",
       "    }\n",
       "\n",
       "    .dataframe tbody tr th {\n",
       "        vertical-align: top;\n",
       "    }\n",
       "\n",
       "    .dataframe thead th {\n",
       "        text-align: right;\n",
       "    }\n",
       "</style>\n",
       "<table border=\"1\" class=\"dataframe\">\n",
       "  <thead>\n",
       "    <tr style=\"text-align: right;\">\n",
       "      <th></th>\n",
       "      <th>PassengerId</th>\n",
       "      <th>Survived</th>\n",
       "      <th>Pclass</th>\n",
       "      <th>Name</th>\n",
       "      <th>Sex</th>\n",
       "      <th>Age</th>\n",
       "      <th>SibSp</th>\n",
       "      <th>Parch</th>\n",
       "      <th>Ticket</th>\n",
       "      <th>Fare</th>\n",
       "      <th>Cabin</th>\n",
       "      <th>Embarked</th>\n",
       "    </tr>\n",
       "  </thead>\n",
       "  <tbody>\n",
       "    <tr>\n",
       "      <th>61</th>\n",
       "      <td>62</td>\n",
       "      <td>1</td>\n",
       "      <td>1</td>\n",
       "      <td>Icard, Miss. Amelie</td>\n",
       "      <td>female</td>\n",
       "      <td>38.0</td>\n",
       "      <td>0</td>\n",
       "      <td>0</td>\n",
       "      <td>113572</td>\n",
       "      <td>80.0</td>\n",
       "      <td>B28</td>\n",
       "      <td>NaN</td>\n",
       "    </tr>\n",
       "    <tr>\n",
       "      <th>829</th>\n",
       "      <td>830</td>\n",
       "      <td>1</td>\n",
       "      <td>1</td>\n",
       "      <td>Stone, Mrs. George Nelson (Martha Evelyn)</td>\n",
       "      <td>female</td>\n",
       "      <td>62.0</td>\n",
       "      <td>0</td>\n",
       "      <td>0</td>\n",
       "      <td>113572</td>\n",
       "      <td>80.0</td>\n",
       "      <td>B28</td>\n",
       "      <td>NaN</td>\n",
       "    </tr>\n",
       "  </tbody>\n",
       "</table>\n",
       "</div>"
      ],
      "text/plain": [
       "     PassengerId  Survived  Pclass                                       Name  \\\n",
       "61            62         1       1                        Icard, Miss. Amelie   \n",
       "829          830         1       1  Stone, Mrs. George Nelson (Martha Evelyn)   \n",
       "\n",
       "        Sex   Age  SibSp  Parch  Ticket  Fare Cabin Embarked  \n",
       "61   female  38.0      0      0  113572  80.0   B28      NaN  \n",
       "829  female  62.0      0      0  113572  80.0   B28      NaN  "
      ]
     },
     "execution_count": 18,
     "metadata": {},
     "output_type": "execute_result"
    }
   ],
   "source": [
    "dataset_train[dataset_train['Embarked'].isnull()]"
   ]
  },
  {
   "cell_type": "markdown",
   "id": "1ebe5983",
   "metadata": {},
   "source": [
    "These two survived ladies are in a same cabin with same ticket number and fare. They might have relation and come from a same place. To fill where they embarked, we can use the value that appears the most (mode). Let's check embarked distribution for first class passengers. "
   ]
  },
  {
   "cell_type": "code",
   "execution_count": 19,
   "id": "07a0b377",
   "metadata": {},
   "outputs": [
    {
     "name": "stdout",
     "output_type": "stream",
     "text": [
      "54.41% first class passengers that survived was embarked from S\n"
     ]
    },
    {
     "data": {
      "image/png": "[encoded data removed]",
      "text/plain": [
       "<Figure size 432x288 with 1 Axes>"
      ]
     },
     "metadata": {
      "needs_background": "light"
     },
     "output_type": "display_data"
    }
   ],
   "source": [
    "data = dataset_train[(dataset_train['Pclass'] == 1)]\n",
    "\n",
    "sns.countplot(data=data, x=\"Survived\", hue=\"Embarked\")\n",
    "\n",
    "survived_embarked_mode = data[data['Survived'] == 1]['Embarked'].mode().values[0]\n",
    "survived_embarked_val = np.round(len(data[(data['Survived'] == 1) & (data['Embarked'] == survived_embarked_mode)])/len(data[(data['Survived'] == 1)])*100, 2)\n",
    "\n",
    "print('{}% first class passengers that survived was embarked from {}'.format(survived_embarked_val, survived_embarked_mode))\n",
    "\n",
    "plt.show()"
   ]
  },
  {
   "cell_type": "markdown",
   "id": "ea0208c3",
   "metadata": {},
   "source": [
    "Fill `Embarked` missing values with `S`"
   ]
  },
  {
   "cell_type": "code",
   "execution_count": 20,
   "id": "f9fc877f",
   "metadata": {},
   "outputs": [],
   "source": [
    "dataset_train['Embarked'].fillna('S', inplace=True)"
   ]
  },
  {
   "cell_type": "code",
   "execution_count": 21,
   "id": "aed13157",
   "metadata": {},
   "outputs": [
    {
     "data": {
      "text/html": [
       "<div>\n",
       "<style scoped>\n",
       "    .dataframe tbody tr th:only-of-type {\n",
       "        vertical-align: middle;\n",
       "    }\n",
       "\n",
       "    .dataframe tbody tr th {\n",
       "        vertical-align: top;\n",
       "    }\n",
       "\n",
       "    .dataframe thead th {\n",
       "        text-align: right;\n",
       "    }\n",
       "</style>\n",
       "<table border=\"1\" class=\"dataframe\">\n",
       "  <thead>\n",
       "    <tr style=\"text-align: right;\">\n",
       "      <th></th>\n",
       "      <th>PassengerId</th>\n",
       "      <th>Survived</th>\n",
       "      <th>Pclass</th>\n",
       "      <th>Name</th>\n",
       "      <th>Sex</th>\n",
       "      <th>Age</th>\n",
       "      <th>SibSp</th>\n",
       "      <th>Parch</th>\n",
       "      <th>Ticket</th>\n",
       "      <th>Fare</th>\n",
       "      <th>Cabin</th>\n",
       "      <th>Embarked</th>\n",
       "    </tr>\n",
       "  </thead>\n",
       "  <tbody>\n",
       "  </tbody>\n",
       "</table>\n",
       "</div>"
      ],
      "text/plain": [
       "Empty DataFrame\n",
       "Columns: [PassengerId, Survived, Pclass, Name, Sex, Age, SibSp, Parch, Ticket, Fare, Cabin, Embarked]\n",
       "Index: []"
      ]
     },
     "execution_count": 21,
     "metadata": {},
     "output_type": "execute_result"
    }
   ],
   "source": [
    "dataset_train[dataset_train['Embarked'].isnull()]"
   ]
  },
  {
   "cell_type": "markdown",
   "id": "ebfd993d",
   "metadata": {},
   "source": [
    "### Missing values of `Fare` feature in `dataset_test`"
   ]
  },
  {
   "cell_type": "code",
   "execution_count": 22,
   "id": "4ba47ac3",
   "metadata": {},
   "outputs": [
    {
     "data": {
      "text/html": [
       "<div>\n",
       "<style scoped>\n",
       "    .dataframe tbody tr th:only-of-type {\n",
       "        vertical-align: middle;\n",
       "    }\n",
       "\n",
       "    .dataframe tbody tr th {\n",
       "        vertical-align: top;\n",
       "    }\n",
       "\n",
       "    .dataframe thead th {\n",
       "        text-align: right;\n",
       "    }\n",
       "</style>\n",
       "<table border=\"1\" class=\"dataframe\">\n",
       "  <thead>\n",
       "    <tr style=\"text-align: right;\">\n",
       "      <th></th>\n",
       "      <th>PassengerId</th>\n",
       "      <th>Pclass</th>\n",
       "      <th>Name</th>\n",
       "      <th>Sex</th>\n",
       "      <th>Age</th>\n",
       "      <th>SibSp</th>\n",
       "      <th>Parch</th>\n",
       "      <th>Ticket</th>\n",
       "      <th>Fare</th>\n",
       "      <th>Cabin</th>\n",
       "      <th>Embarked</th>\n",
       "    </tr>\n",
       "  </thead>\n",
       "  <tbody>\n",
       "    <tr>\n",
       "      <th>152</th>\n",
       "      <td>1044</td>\n",
       "      <td>3</td>\n",
       "      <td>Storey, Mr. Thomas</td>\n",
       "      <td>male</td>\n",
       "      <td>60.5</td>\n",
       "      <td>0</td>\n",
       "      <td>0</td>\n",
       "      <td>3701</td>\n",
       "      <td>NaN</td>\n",
       "      <td>NaN</td>\n",
       "      <td>S</td>\n",
       "    </tr>\n",
       "  </tbody>\n",
       "</table>\n",
       "</div>"
      ],
      "text/plain": [
       "     PassengerId  Pclass                Name   Sex   Age  SibSp  Parch Ticket  \\\n",
       "152         1044       3  Storey, Mr. Thomas  male  60.5      0      0   3701   \n",
       "\n",
       "     Fare Cabin Embarked  \n",
       "152   NaN   NaN        S  "
      ]
     },
     "execution_count": 22,
     "metadata": {},
     "output_type": "execute_result"
    }
   ],
   "source": [
    "dataset_test[dataset_test['Fare'].isnull()]"
   ]
  },
  {
   "cell_type": "code",
   "execution_count": 23,
   "id": "e3ceb448",
   "metadata": {},
   "outputs": [
    {
     "name": "stdout",
     "output_type": "stream",
     "text": [
      "The mean, median and mode of fare distribution in `dataset_test` are 12.46, 7.896 and 7.75\n"
     ]
    },
    {
     "data": {
      "image/png": "[encoded data removed]",
      "text/plain": [
       "<Figure size 540x360 with 1 Axes>"
      ]
     },
     "metadata": {
      "needs_background": "light"
     },
     "output_type": "display_data"
    }
   ],
   "source": [
    "data = dataset_test[dataset_test['Pclass'] == 3]\n",
    "sns.displot(data=data, x='Fare', bins=15, kde=True, fill=True, aspect=1.5)\n",
    "\n",
    "plt.axvline(x=data['Fare'].mean(), ymin=0, ymax=0.85, label='Mean', color=\"orange\", linewidth=2.5)\n",
    "plt.axvline(x=data['Fare'].median(), ymin=0, ymax=0.85, label='Median', color=\"red\", linewidth=2.5)\n",
    "plt.axvline(x=data['Fare'].mode().values[0], ymin=0, ymax=0.85, label='Mode', color=\"blue\", linewidth=2.5)\n",
    "\n",
    "plt.legend()\n",
    "\n",
    "print(\"The mean, median and mode of fare distribution in `dataset_test` are {}, {} and {}\".format(np.round(data['Fare'].mean(), 3), np.round(data['Fare'].median(), 3), np.round(data['Fare'].mode().values[0], 3)))\n",
    "\n",
    "plt.show()"
   ]
  },
  {
   "cell_type": "markdown",
   "id": "33ebf626",
   "metadata": {},
   "source": [
    "We can fill the missing value in `Fare` feature using median of the distribution."
   ]
  },
  {
   "cell_type": "code",
   "execution_count": 24,
   "id": "ce32a367",
   "metadata": {},
   "outputs": [],
   "source": [
    "dataset_test['Fare'].fillna(np.round(data['Fare'].median(), 3), inplace=True)"
   ]
  },
  {
   "cell_type": "markdown",
   "id": "d65c4f61",
   "metadata": {},
   "source": [
    "### Missing values of `Age` features"
   ]
  },
  {
   "cell_type": "markdown",
   "id": "4be9ada0",
   "metadata": {},
   "source": [
    "Let's check some statistics,"
   ]
  },
  {
   "cell_type": "code",
   "execution_count": 25,
   "id": "7cecb448",
   "metadata": {},
   "outputs": [
    {
     "name": "stdout",
     "output_type": "stream",
     "text": [
      "The mean, median and mode of age distribution in `dataset_train` are 30, 28 and 24\n"
     ]
    },
    {
     "data": {
      "image/png": "[encoded data removed]",
      "text/plain": [
       "<Figure size 540x360 with 1 Axes>"
      ]
     },
     "metadata": {
      "needs_background": "light"
     },
     "output_type": "display_data"
    }
   ],
   "source": [
    "sns.displot(data=dataset_train, x='Age', kind=\"hist\", bins=35, kde=True, fill=True, aspect=1.5)\n",
    "\n",
    "age_mean = round(dataset_train['Age'].mean())\n",
    "age_mode = round(dataset_train['Age'].mode().values[0])\n",
    "age_median = round(dataset_train['Age'].median())\n",
    "\n",
    "plt.axvline(x=age_mode, ymin=0, ymax=0.85, label='Mode', color=\"blue\", linewidth=2.5)\n",
    "plt.axvline(x=age_median, ymin=0, ymax=0.85, label='Median', color=\"red\", linewidth=2.5)\n",
    "plt.axvline(x=age_mean, ymin=0, ymax=0.85, label='Mean', color=\"orange\", linewidth=2.5)\n",
    "\n",
    "plt.legend()\n",
    "\n",
    "print(\"The mean, median and mode of age distribution in `dataset_train` are {}, {} and {}\".format(age_mean, age_median, age_mode))\n",
    "\n",
    "plt.show()"
   ]
  },
  {
   "cell_type": "code",
   "execution_count": 26,
   "id": "731cb57c",
   "metadata": {},
   "outputs": [
    {
     "name": "stdout",
     "output_type": "stream",
     "text": [
      "The mean, median and mode of age distribution in `dataset_test` are 30, 27 and 21\n"
     ]
    },
    {
     "data": {
      "image/png": "[encoded data removed]",
      "text/plain": [
       "<Figure size 540x360 with 1 Axes>"
      ]
     },
     "metadata": {
      "needs_background": "light"
     },
     "output_type": "display_data"
    }
   ],
   "source": [
    "sns.displot(data=dataset_test, x='Age', kind=\"hist\", bins=35, kde=True, fill=True, aspect=1.5)\n",
    "\n",
    "age_mean = round(dataset_test['Age'].mean())\n",
    "age_mode = round(dataset_test['Age'].mode().values[0])\n",
    "age_median = round(dataset_test['Age'].median())\n",
    "\n",
    "plt.axvline(x=age_mode, ymin=0, ymax=0.75, label='Mode', color=\"blue\", linewidth=2.5)\n",
    "plt.axvline(x=age_median, ymin=0, ymax=0.75, label='Median', color=\"red\", linewidth=2.5)\n",
    "plt.axvline(x=age_mean, ymin=0, ymax=0.75, label='Mean', color=\"orange\", linewidth=2.5)\n",
    "\n",
    "plt.legend()\n",
    "\n",
    "print(\"The mean, median and mode of age distribution in `dataset_test` are {}, {} and {}\".format(age_mean, age_median, age_mode))\n",
    "\n",
    "plt.show()"
   ]
  },
  {
   "cell_type": "markdown",
   "id": "c1c5b4e5",
   "metadata": {},
   "source": [
    "We can use median from each distribution to fulfill the missing values"
   ]
  },
  {
   "cell_type": "code",
   "execution_count": 27,
   "id": "64f26ae4",
   "metadata": {},
   "outputs": [],
   "source": [
    "dataset_train['Age'].fillna(dataset_train['Age'].median(), inplace=True)\n",
    "dataset_test['Age'].fillna(dataset_test['Age'].median(), inplace=True)"
   ]
  },
  {
   "cell_type": "markdown",
   "id": "d49cc75e",
   "metadata": {},
   "source": [
    "### Missing values of `Cabin` features"
   ]
  },
  {
   "cell_type": "markdown",
   "id": "b412e813",
   "metadata": {},
   "source": [
    "Let's check missingness percentages of `Cabin`,"
   ]
  },
  {
   "cell_type": "code",
   "execution_count": 28,
   "id": "2f62d576",
   "metadata": {},
   "outputs": [
    {
     "name": "stdout",
     "output_type": "stream",
     "text": [
      "Missingness percentage of `Cabin` feature in `dataset_train` and `dataset_test` are 77.1% and 78.23% respectively\n"
     ]
    }
   ],
   "source": [
    "missingness_cabin_train = np.round(dataset_train['Cabin'].isnull().sum()/len(dataset_train)*100, 2)\n",
    "missingness_cabin_test = np.round(dataset_test['Cabin'].isnull().sum()/len(dataset_test)*100, 2)\n",
    "\n",
    "print(\"Missingness percentage of `Cabin` feature in `dataset_train` and `dataset_test` are {}% and {}% respectively\".format(missingness_cabin_train, missingness_cabin_test))"
   ]
  },
  {
   "cell_type": "markdown",
   "id": "295d56e9",
   "metadata": {},
   "source": [
    "Since missingness of this feature in both datasets are high, we can drop this features from the data. "
   ]
  },
  {
   "cell_type": "code",
   "execution_count": 29,
   "id": "19d9de3b",
   "metadata": {},
   "outputs": [],
   "source": [
    "dataset_train = dataset_train.drop('Cabin', axis=1)\n",
    "dataset_test = dataset_test.drop('Cabin', axis=1)"
   ]
  },
  {
   "cell_type": "code",
   "execution_count": 30,
   "id": "7027cff6",
   "metadata": {},
   "outputs": [
    {
     "name": "stdout",
     "output_type": "stream",
     "text": [
      "<class 'pandas.core.frame.DataFrame'>\n",
      "RangeIndex: 891 entries, 0 to 890\n",
      "Data columns (total 11 columns):\n",
      " #   Column       Non-Null Count  Dtype  \n",
      "---  ------       --------------  -----  \n",
      " 0   PassengerId  891 non-null    int64  \n",
      " 1   Survived     891 non-null    int64  \n",
      " 2   Pclass       891 non-null    int64  \n",
      " 3   Name         891 non-null    object \n",
      " 4   Sex          891 non-null    object \n",
      " 5   Age          891 non-null    float64\n",
      " 6   SibSp        891 non-null    int64  \n",
      " 7   Parch        891 non-null    int64  \n",
      " 8   Ticket       891 non-null    object \n",
      " 9   Fare         891 non-null    float64\n",
      " 10  Embarked     891 non-null    object \n",
      "dtypes: float64(2), int64(5), object(4)\n",
      "memory usage: 76.7+ KB\n"
     ]
    }
   ],
   "source": [
    "dataset_train.info()"
   ]
  },
  {
   "cell_type": "code",
   "execution_count": 31,
   "id": "e821958d",
   "metadata": {},
   "outputs": [
    {
     "name": "stdout",
     "output_type": "stream",
     "text": [
      "<class 'pandas.core.frame.DataFrame'>\n",
      "RangeIndex: 418 entries, 0 to 417\n",
      "Data columns (total 10 columns):\n",
      " #   Column       Non-Null Count  Dtype  \n",
      "---  ------       --------------  -----  \n",
      " 0   PassengerId  418 non-null    int64  \n",
      " 1   Pclass       418 non-null    int64  \n",
      " 2   Name         418 non-null    object \n",
      " 3   Sex          418 non-null    object \n",
      " 4   Age          418 non-null    float64\n",
      " 5   SibSp        418 non-null    int64  \n",
      " 6   Parch        418 non-null    int64  \n",
      " 7   Ticket       418 non-null    object \n",
      " 8   Fare         418 non-null    float64\n",
      " 9   Embarked     418 non-null    object \n",
      "dtypes: float64(2), int64(4), object(4)\n",
      "memory usage: 32.8+ KB\n"
     ]
    }
   ],
   "source": [
    "dataset_test.info()"
   ]
  },
  {
   "cell_type": "markdown",
   "id": "acaac902",
   "metadata": {},
   "source": [
    "Changing data types"
   ]
  },
  {
   "cell_type": "code",
   "execution_count": 32,
   "id": "a734105c",
   "metadata": {},
   "outputs": [],
   "source": [
    "# dataset_train['Survived'] = dataset_train['Survived'].astype('category')\n",
    "dataset_train['Pclass'] = dataset_train['Pclass'].astype('category')\n",
    "dataset_train['Sex'] = dataset_train['Sex'].astype('category')\n",
    "dataset_train['Embarked'] = dataset_train['Embarked'].astype('category')\n",
    "\n",
    "dataset_test['Pclass'] = dataset_test['Pclass'].astype('category')\n",
    "dataset_test['Sex'] = dataset_test['Sex'].astype('category')\n",
    "dataset_test['Embarked'] = dataset_test['Embarked'].astype('category')"
   ]
  },
  {
   "cell_type": "code",
   "execution_count": 33,
   "id": "1057ddfd",
   "metadata": {
    "scrolled": true
   },
   "outputs": [
    {
     "name": "stdout",
     "output_type": "stream",
     "text": [
      "<class 'pandas.core.frame.DataFrame'>\n",
      "RangeIndex: 891 entries, 0 to 890\n",
      "Data columns (total 11 columns):\n",
      " #   Column       Non-Null Count  Dtype   \n",
      "---  ------       --------------  -----   \n",
      " 0   PassengerId  891 non-null    int64   \n",
      " 1   Survived     891 non-null    int64   \n",
      " 2   Pclass       891 non-null    category\n",
      " 3   Name         891 non-null    object  \n",
      " 4   Sex          891 non-null    category\n",
      " 5   Age          891 non-null    float64 \n",
      " 6   SibSp        891 non-null    int64   \n",
      " 7   Parch        891 non-null    int64   \n",
      " 8   Ticket       891 non-null    object  \n",
      " 9   Fare         891 non-null    float64 \n",
      " 10  Embarked     891 non-null    category\n",
      "dtypes: category(3), float64(2), int64(4), object(2)\n",
      "memory usage: 58.8+ KB\n"
     ]
    }
   ],
   "source": [
    "dataset_train.info()"
   ]
  },
  {
   "cell_type": "code",
   "execution_count": 34,
   "id": "4a7db092",
   "metadata": {},
   "outputs": [
    {
     "name": "stdout",
     "output_type": "stream",
     "text": [
      "<class 'pandas.core.frame.DataFrame'>\n",
      "RangeIndex: 418 entries, 0 to 417\n",
      "Data columns (total 10 columns):\n",
      " #   Column       Non-Null Count  Dtype   \n",
      "---  ------       --------------  -----   \n",
      " 0   PassengerId  418 non-null    int64   \n",
      " 1   Pclass       418 non-null    category\n",
      " 2   Name         418 non-null    object  \n",
      " 3   Sex          418 non-null    category\n",
      " 4   Age          418 non-null    float64 \n",
      " 5   SibSp        418 non-null    int64   \n",
      " 6   Parch        418 non-null    int64   \n",
      " 7   Ticket       418 non-null    object  \n",
      " 8   Fare         418 non-null    float64 \n",
      " 9   Embarked     418 non-null    category\n",
      "dtypes: category(3), float64(2), int64(3), object(2)\n",
      "memory usage: 24.6+ KB\n"
     ]
    }
   ],
   "source": [
    "dataset_test.info()"
   ]
  },
  {
   "cell_type": "markdown",
   "id": "c9228511",
   "metadata": {},
   "source": [
    "## What factors that make a person could survive from a sinking ship?"
   ]
  },
  {
   "cell_type": "markdown",
   "id": "02bd9a60",
   "metadata": {},
   "source": [
    "This will determine which columns will be used for the next steps. Let's breakdown each column by its description. <br>"
   ]
  },
  {
   "cell_type": "markdown",
   "id": "6dcae0d6",
   "metadata": {},
   "source": [
    "### a. `PassengerId` \n",
    "A sequential value that distinguishes each individual in the dataset we are dealing now. It is already represented by each row in the dataset. So, this column is <font color='red'>NOT A FACTOR</font> why someone can survive. <br>"
   ]
  },
  {
   "cell_type": "markdown",
   "id": "b9b253a8",
   "metadata": {},
   "source": [
    "### b. `Pclass` \n",
    "Proxy for socio-economic status (SES) of each passenger."
   ]
  },
  {
   "cell_type": "code",
   "execution_count": 35,
   "id": "c97701f2",
   "metadata": {},
   "outputs": [
    {
     "data": {
      "image/png": "[encoded data removed]",
      "text/plain": [
       "<Figure size 432x432 with 1 Axes>"
      ]
     },
     "metadata": {
      "needs_background": "light"
     },
     "output_type": "display_data"
    }
   ],
   "source": [
    "sns.factorplot(data=dataset_train, x=\"Pclass\", y=\"Survived\", kind=\"bar\", size=6)\n",
    "plt.ylabel(\"Survived Probability\")\n",
    "plt.show()"
   ]
  },
  {
   "cell_type": "markdown",
   "id": "a5264e64",
   "metadata": {},
   "source": [
    "When a ship sinks, passengers on the upper deck will have a longer time to sink with the ship than on the middle or lower deck. It's a privilege. So, `Pclass` is <font color='green'>A FACTOR</font>."
   ]
  },
  {
   "cell_type": "markdown",
   "id": "b9289b4c",
   "metadata": {},
   "source": [
    "### c. `Name` \n",
    "The name of a passenger. Everyday, we know that celebrities and influential people will always get a \"privilege\" in various ways. But when it becomes a disaster, everyone has an equal chance to survive. So, this one is <font color='red'>NOT A FACTOR</font>. But what if name title makes it becomes a factor? Let's check it. \n"
   ]
  },
  {
   "cell_type": "code",
   "execution_count": 36,
   "id": "4d7be70c",
   "metadata": {},
   "outputs": [],
   "source": [
    "dataset_train[\"Title\"] = [i.split(\".\")[0].split(\",\")[-1].strip() for i in dataset_train[\"Name\"]]\n",
    "dataset_test[\"Title\"] = [i.split(\".\")[0].split(\",\")[-1].strip() for i in dataset_test[\"Name\"]]"
   ]
  },
  {
   "cell_type": "code",
   "execution_count": 37,
   "id": "ec6209b8",
   "metadata": {},
   "outputs": [
    {
     "data": {
      "image/png": "[encoded data removed]",
      "text/plain": [
       "<Figure size 432x288 with 1 Axes>"
      ]
     },
     "metadata": {
      "needs_background": "light"
     },
     "output_type": "display_data"
    }
   ],
   "source": [
    "sns.countplot(data=dataset_train, x=\"Title\")\n",
    "plt.xticks(rotation = 60)\n",
    "plt.show()"
   ]
  },
  {
   "cell_type": "markdown",
   "id": "5b7bde6e",
   "metadata": {},
   "source": [
    "Change title name"
   ]
  },
  {
   "cell_type": "code",
   "execution_count": 38,
   "id": "9a9fed83",
   "metadata": {},
   "outputs": [],
   "source": [
    "dataset_train[\"Title\"] = dataset_train[\"Title\"].replace([\"Lady\",\"the Countess\",\"Capt\",\"Col\",\"Don\",\"Dr\",\"Major\",\"Rev\",\"Sir\",\"Jonkheer\",\"Dona\", \"Mme\", \"Mlle\", \"Ms\"],\"Other\")\n",
    "dataset_test[\"Title\"] = dataset_test[\"Title\"].replace([\"Lady\",\"the Countess\",\"Capt\",\"Col\",\"Don\",\"Dr\",\"Major\",\"Rev\",\"Sir\",\"Jonkheer\",\"Dona\", \"Mme\", \"Mlle\", \"Ms\"],\"Other\")"
   ]
  },
  {
   "cell_type": "code",
   "execution_count": 39,
   "id": "e6b32c2f",
   "metadata": {},
   "outputs": [
    {
     "data": {
      "image/png": "[encoded data removed]",
      "text/plain": [
       "<Figure size 432x288 with 1 Axes>"
      ]
     },
     "metadata": {
      "needs_background": "light"
     },
     "output_type": "display_data"
    }
   ],
   "source": [
    "sns.countplot(data=dataset_train, x=\"Title\")\n",
    "plt.show()"
   ]
  },
  {
   "cell_type": "code",
   "execution_count": 40,
   "id": "526f3397",
   "metadata": {},
   "outputs": [
    {
     "data": {
      "image/png": "[encoded data removed]",
      "text/plain": [
       "<Figure size 432x432 with 1 Axes>"
      ]
     },
     "metadata": {
      "needs_background": "light"
     },
     "output_type": "display_data"
    }
   ],
   "source": [
    "sns.factorplot(data=dataset_train, x=\"Title\", y=\"Survived\", kind=\"bar\", size=6)\n",
    "plt.ylabel(\"Survived Probability\")\n",
    "plt.show()"
   ]
  },
  {
   "cell_type": "markdown",
   "id": "891c5c57",
   "metadata": {},
   "source": [
    "Title seems determine who might survive. But this seems to be more gender-related. So, this is <font color='red'>NOT A FACTOR</font>."
   ]
  },
  {
   "cell_type": "markdown",
   "id": "d751933d",
   "metadata": {},
   "source": [
    "### d. `Sex`. \n",
    "As we know, men are actually stronger than women. This is a \"stereotype\". But somehow men can use their strength for rescuing themselves or weaker people."
   ]
  },
  {
   "cell_type": "code",
   "execution_count": 41,
   "id": "4cfd0610",
   "metadata": {},
   "outputs": [
    {
     "data": {
      "image/png": "[encoded data removed]",
      "text/plain": [
       "<Figure size 432x432 with 1 Axes>"
      ]
     },
     "metadata": {
      "needs_background": "light"
     },
     "output_type": "display_data"
    }
   ],
   "source": [
    "sns.factorplot(data=dataset_train, x=\"Sex\", y=\"Survived\", kind=\"bar\", size=6)\n",
    "plt.ylabel(\"Survived Probability\")\n",
    "plt.show()"
   ]
  },
  {
   "cell_type": "markdown",
   "id": "a5feaee0",
   "metadata": {},
   "source": [
    "From plot above we see that men seems to risk their lives to save women. `Sex` can be <font color='green'>A FACTOR</font> to determine who will survive. <br>"
   ]
  },
  {
   "cell_type": "markdown",
   "id": "c21bc39f",
   "metadata": {},
   "source": [
    "### e. `Age`"
   ]
  },
  {
   "cell_type": "code",
   "execution_count": 42,
   "id": "a4b4b657",
   "metadata": {},
   "outputs": [
    {
     "data": {
      "image/png": "[encoded data removed]",
      "text/plain": [
       "<Figure size 591.875x360 with 1 Axes>"
      ]
     },
     "metadata": {
      "needs_background": "light"
     },
     "output_type": "display_data"
    }
   ],
   "source": [
    "sns.displot(data=dataset_train, x='Age', hue=\"Survived\", kind=\"hist\", kde=False, aspect=1.5)\n",
    "plt.show()"
   ]
  },
  {
   "cell_type": "markdown",
   "id": "87516c8f",
   "metadata": {},
   "source": [
    "Adults are more likely to have higher survival chance than babies, young children and the elderly. But from the plot we see that passengers age within 20 - 30 have lower survival rate than babies and elderly. Their might sacrifice themselves to save others. So, `Age` is <font color='green'>A FACTOR</font>. <br>"
   ]
  },
  {
   "cell_type": "markdown",
   "id": "ee9f3825",
   "metadata": {},
   "source": [
    "### f. `Ticket` \n",
    "The ticket number owned by each passenger. This is not really informative since it is already represented by `Pclass`. So, the ticket number is <font color='red'>NOT A FACTOR</font>. <br>\n"
   ]
  },
  {
   "cell_type": "markdown",
   "id": "34ca4556",
   "metadata": {},
   "source": [
    "### g. `Cabin` \n",
    "The cabin number for each passenger. This feature is already dropped in previous section. It can also be represented by `Pclass`. So, this is <font color='red'>NOT A FACTOR</font>. <br>\n"
   ]
  },
  {
   "cell_type": "markdown",
   "id": "c0de34f2",
   "metadata": {},
   "source": [
    "### h. `Embarked` \n",
    "Port of embarkation for every passenger. The values are `C`, `Q` and `S` which stands for Cherbourg, Queenstown and Southampton, respectively."
   ]
  },
  {
   "cell_type": "code",
   "execution_count": 43,
   "id": "bda14180",
   "metadata": {},
   "outputs": [
    {
     "data": {
      "image/png": "[encoded data removed]",
      "text/plain": [
       "<Figure size 432x432 with 1 Axes>"
      ]
     },
     "metadata": {
      "needs_background": "light"
     },
     "output_type": "display_data"
    }
   ],
   "source": [
    "sns.factorplot(data=dataset_train, x=\"Embarked\", y=\"Survived\", kind=\"bar\", size=6)\n",
    "plt.ylabel(\"Survived Probability\")\n",
    "plt.show()"
   ]
  },
  {
   "cell_type": "markdown",
   "id": "6c2e3661",
   "metadata": {},
   "source": [
    "For some people, this feature is not a factor. But what if the place where a person came from has a culture of activity that makes him/her stronger than people from other places? From the plot, we also see that passengers from Cherbourg have higher survival rate from others. So, in my opinion this feature will be <font color='green'>A FACTOR</font>. <br>"
   ]
  },
  {
   "cell_type": "markdown",
   "id": "f5de8ccb",
   "metadata": {},
   "source": [
    "### i. `Fare` \n",
    "Passenger fare for a ticket.\n"
   ]
  },
  {
   "cell_type": "code",
   "execution_count": 44,
   "id": "01c2fead",
   "metadata": {},
   "outputs": [
    {
     "data": {
      "image/png": "[encoded data removed]",
      "text/plain": [
       "<Figure size 360x360 with 1 Axes>"
      ]
     },
     "metadata": {
      "needs_background": "light"
     },
     "output_type": "display_data"
    }
   ],
   "source": [
    "sns.catplot(data=dataset_train, x='Fare', y='Pclass', kind='point')\n",
    "plt.show()"
   ]
  },
  {
   "cell_type": "code",
   "execution_count": 45,
   "id": "e50a0fd5",
   "metadata": {},
   "outputs": [
    {
     "data": {
      "image/png": "[encoded data removed]",
      "text/plain": [
       "<Figure size 360x360 with 1 Axes>"
      ]
     },
     "metadata": {
      "needs_background": "light"
     },
     "output_type": "display_data"
    }
   ],
   "source": [
    "dataset_train['Cat_fare'] = pd.cut(dataset_train['Fare'], bins=[-1, 25, 50, 100, 550], labels=[0, 1, 2, 3])\n",
    "dataset_test['Cat_fare'] = pd.cut(dataset_test['Fare'], bins=[-1, 25, 50, 100, 550], labels=[0, 1, 2, 3])\n",
    "\n",
    "sns.catplot(data=dataset_train, x='Cat_fare', y='Survived', kind='point')\n",
    "plt.show()"
   ]
  },
  {
   "cell_type": "markdown",
   "id": "49c872b9",
   "metadata": {},
   "source": [
    "This feature is actually represented by `Pclass` and not directly related to survival rate. But we can see that passenger will possibly survive if they pay higher fare. In my opinion, this is optional. But we can try to use this feature as <font color='green'>A FACTOR</font>. <br>"
   ]
  },
  {
   "cell_type": "markdown",
   "id": "6ef01d2d",
   "metadata": {},
   "source": [
    "### j. `SibSp` and `Parch`\n",
    "`SibSp` represents number of siblings or spouses aboard the Titanic while `Parch` is number of parents or children. When a person sails with his/her relatives, there will be a tendency for that person to think about even saving them when a disaster happens. What if we sum these features and get a new category called `family_size`.\n"
   ]
  },
  {
   "cell_type": "code",
   "execution_count": 46,
   "id": "49723e86",
   "metadata": {},
   "outputs": [],
   "source": [
    "dataset_train['Family_size'] = dataset_train['SibSp'] + dataset_train['Parch'] + 1\n",
    "dataset_test['Family_size'] = dataset_test['SibSp'] + dataset_test['Parch'] + 1"
   ]
  },
  {
   "cell_type": "code",
   "execution_count": 47,
   "id": "e6040974",
   "metadata": {},
   "outputs": [
    {
     "data": {
      "image/png": "[encoded data removed]",
      "text/plain": [
       "<Figure size 540x360 with 1 Axes>"
      ]
     },
     "metadata": {
      "needs_background": "light"
     },
     "output_type": "display_data"
    }
   ],
   "source": [
    "sns.factorplot(data=dataset_train, x=\"Family_size\", y=\"Survived\", kind=\"bar\", aspect=1.5)\n",
    "plt.ylabel(\"Survived Probability\")\n",
    "plt.show()"
   ]
  },
  {
   "cell_type": "markdown",
   "id": "5b342cd8",
   "metadata": {},
   "source": [
    "Family with size `1` means it's him/her self. A family with size less than 5 have higher survival rate. Let's create a new category of family. For a family size less than 5 equals to 1, others are 0."
   ]
  },
  {
   "cell_type": "code",
   "execution_count": 48,
   "id": "f1661bdb",
   "metadata": {},
   "outputs": [],
   "source": [
    "dataset_train[\"Cat_family\"] = [1 if i < 5 else 0 for i in dataset_train[\"Family_size\"]]\n",
    "dataset_test[\"Cat_family\"] = [1 if i < 5 else 0 for i in dataset_test[\"Family_size\"]]"
   ]
  },
  {
   "cell_type": "code",
   "execution_count": 49,
   "id": "069418ad",
   "metadata": {},
   "outputs": [
    {
     "data": {
      "image/png": "[encoded data removed]",
      "text/plain": [
       "<Figure size 540x360 with 1 Axes>"
      ]
     },
     "metadata": {
      "needs_background": "light"
     },
     "output_type": "display_data"
    }
   ],
   "source": [
    "sns.factorplot(data=dataset_train, x=\"Cat_family\", y=\"Survived\", kind=\"bar\", aspect=1.5)\n",
    "plt.ylabel(\"Survived Probability\")\n",
    "plt.show()"
   ]
  },
  {
   "cell_type": "markdown",
   "id": "926d82e1",
   "metadata": {},
   "source": [
    "We clearly see that our hypothesis is true. This is <font color='green'>A FACTOR</font> for someone to survive on the Titanic. <br>"
   ]
  },
  {
   "cell_type": "markdown",
   "id": "dc0de672",
   "metadata": {},
   "source": [
    "### Summary\n",
    "\n",
    "Factors that make a person could survive from a sinking ship are `Pclass`, `Sex`, `Age`, `Embarked`, `Cat_fare`, and `Cat_family`. So let's select those features in our dataset."
   ]
  },
  {
   "cell_type": "code",
   "execution_count": 50,
   "id": "874d08c9",
   "metadata": {},
   "outputs": [],
   "source": [
    "df_train = dataset_train[['Survived', 'Pclass', 'Sex', 'Age', 'Fare', 'Embarked', 'Cat_family']]\n",
    "df_test = dataset_test[['Pclass', 'Sex', 'Age', 'Fare', 'Embarked', 'Cat_family']]\n",
    "\n",
    "df_train['Survived'] = df_train['Survived'].astype('category')\n",
    "df_train['Cat_family'] = df_train['Cat_family'].astype('category')\n",
    "\n",
    "df_test['Cat_family'] = df_test['Cat_family'].astype('category')"
   ]
  },
  {
   "cell_type": "code",
   "execution_count": 51,
   "id": "c016b615",
   "metadata": {},
   "outputs": [
    {
     "data": {
      "text/html": [
       "<div>\n",
       "<style scoped>\n",
       "    .dataframe tbody tr th:only-of-type {\n",
       "        vertical-align: middle;\n",
       "    }\n",
       "\n",
       "    .dataframe tbody tr th {\n",
       "        vertical-align: top;\n",
       "    }\n",
       "\n",
       "    .dataframe thead th {\n",
       "        text-align: right;\n",
       "    }\n",
       "</style>\n",
       "<table border=\"1\" class=\"dataframe\">\n",
       "  <thead>\n",
       "    <tr style=\"text-align: right;\">\n",
       "      <th></th>\n",
       "      <th>Survived</th>\n",
       "      <th>Pclass</th>\n",
       "      <th>Sex</th>\n",
       "      <th>Age</th>\n",
       "      <th>Fare</th>\n",
       "      <th>Embarked</th>\n",
       "      <th>Cat_family</th>\n",
       "    </tr>\n",
       "  </thead>\n",
       "  <tbody>\n",
       "    <tr>\n",
       "      <th>0</th>\n",
       "      <td>0</td>\n",
       "      <td>3</td>\n",
       "      <td>male</td>\n",
       "      <td>22.0</td>\n",
       "      <td>7.2500</td>\n",
       "      <td>S</td>\n",
       "      <td>1</td>\n",
       "    </tr>\n",
       "    <tr>\n",
       "      <th>1</th>\n",
       "      <td>1</td>\n",
       "      <td>1</td>\n",
       "      <td>female</td>\n",
       "      <td>38.0</td>\n",
       "      <td>71.2833</td>\n",
       "      <td>C</td>\n",
       "      <td>1</td>\n",
       "    </tr>\n",
       "    <tr>\n",
       "      <th>2</th>\n",
       "      <td>1</td>\n",
       "      <td>3</td>\n",
       "      <td>female</td>\n",
       "      <td>26.0</td>\n",
       "      <td>7.9250</td>\n",
       "      <td>S</td>\n",
       "      <td>1</td>\n",
       "    </tr>\n",
       "    <tr>\n",
       "      <th>3</th>\n",
       "      <td>1</td>\n",
       "      <td>1</td>\n",
       "      <td>female</td>\n",
       "      <td>35.0</td>\n",
       "      <td>53.1000</td>\n",
       "      <td>S</td>\n",
       "      <td>1</td>\n",
       "    </tr>\n",
       "    <tr>\n",
       "      <th>4</th>\n",
       "      <td>0</td>\n",
       "      <td>3</td>\n",
       "      <td>male</td>\n",
       "      <td>35.0</td>\n",
       "      <td>8.0500</td>\n",
       "      <td>S</td>\n",
       "      <td>1</td>\n",
       "    </tr>\n",
       "  </tbody>\n",
       "</table>\n",
       "</div>"
      ],
      "text/plain": [
       "  Survived Pclass     Sex   Age     Fare Embarked Cat_family\n",
       "0        0      3    male  22.0   7.2500        S          1\n",
       "1        1      1  female  38.0  71.2833        C          1\n",
       "2        1      3  female  26.0   7.9250        S          1\n",
       "3        1      1  female  35.0  53.1000        S          1\n",
       "4        0      3    male  35.0   8.0500        S          1"
      ]
     },
     "execution_count": 51,
     "metadata": {},
     "output_type": "execute_result"
    }
   ],
   "source": [
    "df_train.head()"
   ]
  },
  {
   "cell_type": "code",
   "execution_count": 52,
   "id": "f893d517",
   "metadata": {},
   "outputs": [
    {
     "data": {
      "text/html": [
       "<div>\n",
       "<style scoped>\n",
       "    .dataframe tbody tr th:only-of-type {\n",
       "        vertical-align: middle;\n",
       "    }\n",
       "\n",
       "    .dataframe tbody tr th {\n",
       "        vertical-align: top;\n",
       "    }\n",
       "\n",
       "    .dataframe thead th {\n",
       "        text-align: right;\n",
       "    }\n",
       "</style>\n",
       "<table border=\"1\" class=\"dataframe\">\n",
       "  <thead>\n",
       "    <tr style=\"text-align: right;\">\n",
       "      <th></th>\n",
       "      <th>Pclass</th>\n",
       "      <th>Sex</th>\n",
       "      <th>Age</th>\n",
       "      <th>Fare</th>\n",
       "      <th>Embarked</th>\n",
       "      <th>Cat_family</th>\n",
       "    </tr>\n",
       "  </thead>\n",
       "  <tbody>\n",
       "    <tr>\n",
       "      <th>0</th>\n",
       "      <td>3</td>\n",
       "      <td>male</td>\n",
       "      <td>34.5</td>\n",
       "      <td>7.8292</td>\n",
       "      <td>Q</td>\n",
       "      <td>1</td>\n",
       "    </tr>\n",
       "    <tr>\n",
       "      <th>1</th>\n",
       "      <td>3</td>\n",
       "      <td>female</td>\n",
       "      <td>47.0</td>\n",
       "      <td>7.0000</td>\n",
       "      <td>S</td>\n",
       "      <td>1</td>\n",
       "    </tr>\n",
       "    <tr>\n",
       "      <th>2</th>\n",
       "      <td>2</td>\n",
       "      <td>male</td>\n",
       "      <td>62.0</td>\n",
       "      <td>9.6875</td>\n",
       "      <td>Q</td>\n",
       "      <td>1</td>\n",
       "    </tr>\n",
       "    <tr>\n",
       "      <th>3</th>\n",
       "      <td>3</td>\n",
       "      <td>male</td>\n",
       "      <td>27.0</td>\n",
       "      <td>8.6625</td>\n",
       "      <td>S</td>\n",
       "      <td>1</td>\n",
       "    </tr>\n",
       "    <tr>\n",
       "      <th>4</th>\n",
       "      <td>3</td>\n",
       "      <td>female</td>\n",
       "      <td>22.0</td>\n",
       "      <td>12.2875</td>\n",
       "      <td>S</td>\n",
       "      <td>1</td>\n",
       "    </tr>\n",
       "  </tbody>\n",
       "</table>\n",
       "</div>"
      ],
      "text/plain": [
       "  Pclass     Sex   Age     Fare Embarked Cat_family\n",
       "0      3    male  34.5   7.8292        Q          1\n",
       "1      3  female  47.0   7.0000        S          1\n",
       "2      2    male  62.0   9.6875        Q          1\n",
       "3      3    male  27.0   8.6625        S          1\n",
       "4      3  female  22.0  12.2875        S          1"
      ]
     },
     "execution_count": 52,
     "metadata": {},
     "output_type": "execute_result"
    }
   ],
   "source": [
    "df_test.head()"
   ]
  },
  {
   "cell_type": "code",
   "execution_count": 53,
   "id": "22bce5ac",
   "metadata": {},
   "outputs": [
    {
     "name": "stdout",
     "output_type": "stream",
     "text": [
      "<class 'pandas.core.frame.DataFrame'>\n",
      "RangeIndex: 891 entries, 0 to 890\n",
      "Data columns (total 7 columns):\n",
      " #   Column      Non-Null Count  Dtype   \n",
      "---  ------      --------------  -----   \n",
      " 0   Survived    891 non-null    category\n",
      " 1   Pclass      891 non-null    category\n",
      " 2   Sex         891 non-null    category\n",
      " 3   Age         891 non-null    float64 \n",
      " 4   Fare        891 non-null    float64 \n",
      " 5   Embarked    891 non-null    category\n",
      " 6   Cat_family  891 non-null    category\n",
      "dtypes: category(5), float64(2)\n",
      "memory usage: 19.0 KB\n"
     ]
    }
   ],
   "source": [
    "df_train.info()"
   ]
  },
  {
   "cell_type": "code",
   "execution_count": 54,
   "id": "7a28ba0b",
   "metadata": {},
   "outputs": [
    {
     "name": "stdout",
     "output_type": "stream",
     "text": [
      "<class 'pandas.core.frame.DataFrame'>\n",
      "RangeIndex: 418 entries, 0 to 417\n",
      "Data columns (total 6 columns):\n",
      " #   Column      Non-Null Count  Dtype   \n",
      "---  ------      --------------  -----   \n",
      " 0   Pclass      418 non-null    category\n",
      " 1   Sex         418 non-null    category\n",
      " 2   Age         418 non-null    float64 \n",
      " 3   Fare        418 non-null    float64 \n",
      " 4   Embarked    418 non-null    category\n",
      " 5   Cat_family  418 non-null    category\n",
      "dtypes: category(4), float64(2)\n",
      "memory usage: 8.8 KB\n"
     ]
    }
   ],
   "source": [
    "df_test.info()"
   ]
  },
  {
   "cell_type": "markdown",
   "id": "3f6663f6",
   "metadata": {},
   "source": [
    "## More Visualizations"
   ]
  },
  {
   "cell_type": "markdown",
   "id": "d8b1f8fc",
   "metadata": {},
   "source": [
    "`Survived` distributions"
   ]
  },
  {
   "cell_type": "code",
   "execution_count": 55,
   "id": "a0f4f2ae",
   "metadata": {},
   "outputs": [
    {
     "data": {
      "image/png": "[encoded data removed]",
      "text/plain": [
       "<Figure size 432x288 with 1 Axes>"
      ]
     },
     "metadata": {
      "needs_background": "light"
     },
     "output_type": "display_data"
    }
   ],
   "source": [
    "sns.countplot(data=df_train, x='Survived') \n",
    "plt.show()"
   ]
  },
  {
   "cell_type": "code",
   "execution_count": 101,
   "id": "ebff9ecf",
   "metadata": {},
   "outputs": [
    {
     "data": {
      "text/plain": [
       "0    61.616162\n",
       "1    38.383838\n",
       "Name: Survived, dtype: float64"
      ]
     },
     "execution_count": 101,
     "metadata": {},
     "output_type": "execute_result"
    }
   ],
   "source": [
    "df_train['Survived'].value_counts()/len(df_train)*100"
   ]
  },
  {
   "cell_type": "markdown",
   "id": "832c559c",
   "metadata": {},
   "source": [
    "The data has a roughly 62:38 split, so we can treat our train dataset as being balanced and use the accuracy score as a metric."
   ]
  },
  {
   "cell_type": "markdown",
   "id": "686be785",
   "metadata": {},
   "source": [
    "Passenger classes by embarkation place"
   ]
  },
  {
   "cell_type": "code",
   "execution_count": 56,
   "id": "39e7bd0a",
   "metadata": {},
   "outputs": [
    {
     "name": "stdout",
     "output_type": "stream",
     "text": [
      "Passengers from Queenstown are mostly in the lower deck\n"
     ]
    },
    {
     "data": {
      "image/png": "[encoded data removed]",
      "text/plain": [
       "<Figure size 432x288 with 1 Axes>"
      ]
     },
     "metadata": {
      "needs_background": "light"
     },
     "output_type": "display_data"
    }
   ],
   "source": [
    "sns.countplot(df_train['Pclass'], hue=df_train['Embarked']) \n",
    "\n",
    "print('Passengers from Queenstown are mostly in the lower deck')\n",
    "\n",
    "plt.show()"
   ]
  },
  {
   "cell_type": "markdown",
   "id": "ed21e2fd",
   "metadata": {},
   "source": [
    "Survived passengers by `Age`"
   ]
  },
  {
   "cell_type": "code",
   "execution_count": 57,
   "id": "121ea444",
   "metadata": {},
   "outputs": [
    {
     "data": {
      "image/png": "[encoded data removed]",
      "text/plain": [
       "<Figure size 610.5x360 with 1 Axes>"
      ]
     },
     "metadata": {
      "needs_background": "light"
     },
     "output_type": "display_data"
    }
   ],
   "source": [
    "data = df_train[df_train['Survived'] == 1]\n",
    "\n",
    "sns.displot(data=data, x='Age', hue=\"Sex\", kind=\"hist\", kde=True, fill=True, aspect=1.5)\n",
    "\n",
    "plt.title(\"Survived passengers\")\n",
    "plt.show()"
   ]
  },
  {
   "cell_type": "markdown",
   "id": "ba43e539",
   "metadata": {},
   "source": [
    "## Features Engineering"
   ]
  },
  {
   "cell_type": "markdown",
   "id": "2c7ffe7c",
   "metadata": {},
   "source": [
    "**Feature types** <br>\n",
    "    * **Categorical** : `Survived`, `Pclass`, `Sex`, `Embarked`, `Cat_fare`, and `Cat_family` <br>\n",
    "    * **Numerical** : `Age`, `Fare` <br>  \n",
    "    \n",
    "Let's encode `Title`, `Sex` and `Embarked` by using **LabelEncoder** and rescale `Age` and `Fare` by using **StandardScaler**."
   ]
  },
  {
   "cell_type": "code",
   "execution_count": 58,
   "id": "90ac00cb",
   "metadata": {},
   "outputs": [],
   "source": [
    "encoder = LabelEncoder()\n",
    "\n",
    "train_encoded_sex = encoder.fit_transform(df_train['Sex'].values)\n",
    "train_encoded_embarked = encoder.fit_transform(df_train['Embarked'].values)\n",
    "test_encoded_sex = encoder.fit_transform(df_test['Sex'].values)\n",
    "test_encoded_embarked = encoder.fit_transform(df_test['Embarked'].values)\n",
    "\n",
    "df_train['encoded_sex'] = train_encoded_sex\n",
    "df_train['encoded_embarked'] = train_encoded_embarked\n",
    "df_test['encoded_sex'] = test_encoded_sex\n",
    "df_test['encoded_embarked'] = test_encoded_embarked\n",
    "\n",
    "df_train['encoded_sex'] = df_train['encoded_sex'].astype('category')\n",
    "df_train['encoded_embarked'] = df_train['encoded_embarked'].astype('category')\n",
    "df_test['encoded_sex'] = df_test['encoded_sex'].astype('category')\n",
    "df_test['encoded_embarked'] = df_test['encoded_embarked'].astype('category')\n",
    "\n",
    "\n",
    "scaler = StandardScaler()\n",
    "\n",
    "train_scaled_age = scaler.fit_transform(np.asarray(df_train['Age']).reshape(-1, 1))\n",
    "train_scaled_fare = scaler.fit_transform(np.asarray(df_train['Fare']).reshape(-1, 1))\n",
    "test_scaled_age = scaler.fit_transform(np.asarray(df_test['Age']).reshape(-1, 1))\n",
    "test_scaled_fare = scaler.fit_transform(np.asarray(df_test['Fare']).reshape(-1, 1))\n",
    "\n",
    "df_train['scaled_age'] = train_scaled_age.reshape(-1)\n",
    "df_train['scaled_fare'] = train_scaled_fare.reshape(-1)\n",
    "df_test['scaled_age'] = test_scaled_age.reshape(-1)\n",
    "df_test['scaled_fare'] = test_scaled_fare.reshape(-1)"
   ]
  },
  {
   "cell_type": "code",
   "execution_count": 59,
   "id": "7aef1a06",
   "metadata": {},
   "outputs": [],
   "source": [
    "df_train = df_train.drop(['Sex', 'Age', 'Fare', 'Embarked'], axis=1)\n",
    "df_test = df_test.drop(['Sex', 'Age', 'Fare', 'Embarked'], axis=1)"
   ]
  },
  {
   "cell_type": "code",
   "execution_count": 60,
   "id": "8032d427",
   "metadata": {},
   "outputs": [
    {
     "name": "stdout",
     "output_type": "stream",
     "text": [
      "<class 'pandas.core.frame.DataFrame'>\n",
      "RangeIndex: 891 entries, 0 to 890\n",
      "Data columns (total 7 columns):\n",
      " #   Column            Non-Null Count  Dtype   \n",
      "---  ------            --------------  -----   \n",
      " 0   Survived          891 non-null    category\n",
      " 1   Pclass            891 non-null    category\n",
      " 2   Cat_family        891 non-null    category\n",
      " 3   encoded_sex       891 non-null    category\n",
      " 4   encoded_embarked  891 non-null    category\n",
      " 5   scaled_age        891 non-null    float64 \n",
      " 6   scaled_fare       891 non-null    float64 \n",
      "dtypes: category(5), float64(2)\n",
      "memory usage: 19.0 KB\n"
     ]
    }
   ],
   "source": [
    "df_train.info()"
   ]
  },
  {
   "cell_type": "code",
   "execution_count": 61,
   "id": "3c348b19",
   "metadata": {},
   "outputs": [
    {
     "name": "stdout",
     "output_type": "stream",
     "text": [
      "<class 'pandas.core.frame.DataFrame'>\n",
      "RangeIndex: 418 entries, 0 to 417\n",
      "Data columns (total 6 columns):\n",
      " #   Column            Non-Null Count  Dtype   \n",
      "---  ------            --------------  -----   \n",
      " 0   Pclass            418 non-null    category\n",
      " 1   Cat_family        418 non-null    category\n",
      " 2   encoded_sex       418 non-null    category\n",
      " 3   encoded_embarked  418 non-null    category\n",
      " 4   scaled_age        418 non-null    float64 \n",
      " 5   scaled_fare       418 non-null    float64 \n",
      "dtypes: category(4), float64(2)\n",
      "memory usage: 8.8 KB\n"
     ]
    }
   ],
   "source": [
    "df_test.info()"
   ]
  },
  {
   "cell_type": "markdown",
   "id": "6c332c0b",
   "metadata": {},
   "source": [
    "## Let's Get It Started!"
   ]
  },
  {
   "cell_type": "markdown",
   "id": "862adaf9",
   "metadata": {},
   "source": [
    "### Logistic Regression (aka logit, MaxEnt) Classifier"
   ]
  },
  {
   "cell_type": "markdown",
   "id": "52545710",
   "metadata": {},
   "source": [
    "Define independent and dependent (target) features"
   ]
  },
  {
   "cell_type": "code",
   "execution_count": 62,
   "id": "48da762a",
   "metadata": {},
   "outputs": [],
   "source": [
    "y = df_train['Survived']\n",
    "X = df_train.drop('Survived', axis=1)\n",
    "\n",
    "# Divide train dataset into train and validation sets\n",
    "X_train, X_valid, y_train, y_valid = train_test_split(X, y, test_size=0.25, random_state=2022)"
   ]
  },
  {
   "cell_type": "markdown",
   "id": "6e9fc3b5",
   "metadata": {},
   "source": [
    "Define the model"
   ]
  },
  {
   "cell_type": "code",
   "execution_count": 63,
   "id": "81d476b0",
   "metadata": {},
   "outputs": [],
   "source": [
    "model = LogisticRegression(max_iter=1000, n_jobs=2, random_state=2022)"
   ]
  },
  {
   "cell_type": "markdown",
   "id": "7d179d19",
   "metadata": {},
   "source": [
    "Fit the model"
   ]
  },
  {
   "cell_type": "code",
   "execution_count": 64,
   "id": "4bf61bee",
   "metadata": {},
   "outputs": [
    {
     "data": {
      "text/html": [
       "<style>#sk-container-id-1 {color: black;background-color: white;}#sk-container-id-1 pre{padding: 0;}#sk-container-id-1 div.sk-toggleable {background-color: white;}#sk-container-id-1 label.sk-toggleable__label {cursor: pointer;display: block;width: 100%;margin-bottom: 0;padding: 0.3em;box-sizing: border-box;text-align: center;}#sk-container-id-1 label.sk-toggleable__label-arrow:before {content: \"▸\";float: left;margin-right: 0.25em;color: #696969;}#sk-container-id-1 label.sk-toggleable__label-arrow:hover:before {color: black;}#sk-container-id-1 div.sk-estimator:hover label.sk-toggleable__label-arrow:before {color: black;}#sk-container-id-1 div.sk-toggleable__content {max-height: 0;max-width: 0;overflow: hidden;text-align: left;background-color: #f0f8ff;}#sk-container-id-1 div.sk-toggleable__content pre {margin: 0.2em;color: black;border-radius: 0.25em;background-color: #f0f8ff;}#sk-container-id-1 input.sk-toggleable__control:checked~div.sk-toggleable__content {max-height: 200px;max-width: 100%;overflow: auto;}#sk-container-id-1 input.sk-toggleable__control:checked~label.sk-toggleable__label-arrow:before {content: \"▾\";}#sk-container-id-1 div.sk-estimator input.sk-toggleable__control:checked~label.sk-toggleable__label {background-color: #d4ebff;}#sk-container-id-1 div.sk-label input.sk-toggleable__control:checked~label.sk-toggleable__label {background-color: #d4ebff;}#sk-container-id-1 input.sk-hidden--visually {border: 0;clip: rect(1px 1px 1px 1px);clip: rect(1px, 1px, 1px, 1px);height: 1px;margin: -1px;overflow: hidden;padding: 0;position: absolute;width: 1px;}#sk-container-id-1 div.sk-estimator {font-family: monospace;background-color: #f0f8ff;border: 1px dotted black;border-radius: 0.25em;box-sizing: border-box;margin-bottom: 0.5em;}#sk-container-id-1 div.sk-estimator:hover {background-color: #d4ebff;}#sk-container-id-1 div.sk-parallel-item::after {content: \"\";width: 100%;border-bottom: 1px solid gray;flex-grow: 1;}#sk-container-id-1 div.sk-label:hover label.sk-toggleable__label {background-color: #d4ebff;}#sk-container-id-1 div.sk-serial::before {content: \"\";position: absolute;border-left: 1px solid gray;box-sizing: border-box;top: 0;bottom: 0;left: 50%;z-index: 0;}#sk-container-id-1 div.sk-serial {display: flex;flex-direction: column;align-items: center;background-color: white;padding-right: 0.2em;padding-left: 0.2em;position: relative;}#sk-container-id-1 div.sk-item {position: relative;z-index: 1;}#sk-container-id-1 div.sk-parallel {display: flex;align-items: stretch;justify-content: center;background-color: white;position: relative;}#sk-container-id-1 div.sk-item::before, #sk-container-id-1 div.sk-parallel-item::before {content: \"\";position: absolute;border-left: 1px solid gray;box-sizing: border-box;top: 0;bottom: 0;left: 50%;z-index: -1;}#sk-container-id-1 div.sk-parallel-item {display: flex;flex-direction: column;z-index: 1;position: relative;background-color: white;}#sk-container-id-1 div.sk-parallel-item:first-child::after {align-self: flex-end;width: 50%;}#sk-container-id-1 div.sk-parallel-item:last-child::after {align-self: flex-start;width: 50%;}#sk-container-id-1 div.sk-parallel-item:only-child::after {width: 0;}#sk-container-id-1 div.sk-dashed-wrapped {border: 1px dashed gray;margin: 0 0.4em 0.5em 0.4em;box-sizing: border-box;padding-bottom: 0.4em;background-color: white;}#sk-container-id-1 div.sk-label label {font-family: monospace;font-weight: bold;display: inline-block;line-height: 1.2em;}#sk-container-id-1 div.sk-label-container {text-align: center;}#sk-container-id-1 div.sk-container {/* jupyter's `normalize.less` sets `[hidden] { display: none; }` but bootstrap.min.css set `[hidden] { display: none !important; }` so we also need the `!important` here to be able to override the default hidden behavior on the sphinx rendered scikit-learn.org. See: https://github.com/scikit-learn/scikit-learn/issues/21755 */display: inline-block !important;position: relative;}#sk-container-id-1 div.sk-text-repr-fallback {display: none;}</style><div id=\"sk-container-id-1\" class=\"sk-top-container\"><div class=\"sk-text-repr-fallback\"><pre>LogisticRegression(max_iter=1000, n_jobs=2, random_state=2022)</pre><b>In a Jupyter environment, please rerun this cell to show the HTML representation or trust the notebook. <br />On GitHub, the HTML representation is unable to render, please try loading this page with nbviewer.org.</b></div><div class=\"sk-container\" hidden><div class=\"sk-item\"><div class=\"sk-estimator sk-toggleable\"><input class=\"sk-toggleable__control sk-hidden--visually\" id=\"sk-estimator-id-1\" type=\"checkbox\" checked><label for=\"sk-estimator-id-1\" class=\"sk-toggleable__label sk-toggleable__label-arrow\">LogisticRegression</label><div class=\"sk-toggleable__content\"><pre>LogisticRegression(max_iter=1000, n_jobs=2, random_state=2022)</pre></div></div></div></div></div>"
      ],
      "text/plain": [
       "LogisticRegression(max_iter=1000, n_jobs=2, random_state=2022)"
      ]
     },
     "execution_count": 64,
     "metadata": {},
     "output_type": "execute_result"
    }
   ],
   "source": [
    "model.fit(X_train, y_train)"
   ]
  },
  {
   "cell_type": "markdown",
   "id": "61ba63ef",
   "metadata": {},
   "source": [
    "Predict the validation sets"
   ]
  },
  {
   "cell_type": "code",
   "execution_count": 65,
   "id": "fb245819",
   "metadata": {},
   "outputs": [],
   "source": [
    "predictions = model.predict(X_valid)"
   ]
  },
  {
   "cell_type": "code",
   "execution_count": 66,
   "id": "8bbe4c25",
   "metadata": {},
   "outputs": [
    {
     "data": {
      "text/plain": [
       "0.8295964125560538"
      ]
     },
     "execution_count": 66,
     "metadata": {},
     "output_type": "execute_result"
    }
   ],
   "source": [
    "model.score(X_valid, y_valid)"
   ]
  },
  {
   "cell_type": "markdown",
   "id": "054e30ef",
   "metadata": {},
   "source": [
    "Checking the accuracy"
   ]
  },
  {
   "cell_type": "code",
   "execution_count": 67,
   "id": "8a87e1a9",
   "metadata": {},
   "outputs": [
    {
     "data": {
      "text/plain": [
       "0.8295964125560538"
      ]
     },
     "execution_count": 67,
     "metadata": {},
     "output_type": "execute_result"
    }
   ],
   "source": [
    "accuracy_score(y_valid, predictions)"
   ]
  },
  {
   "cell_type": "code",
   "execution_count": 68,
   "id": "d4767f3d",
   "metadata": {},
   "outputs": [
    {
     "data": {
      "text/plain": [
       "array([[128,  15],\n",
       "       [ 23,  57]], dtype=int64)"
      ]
     },
     "execution_count": 68,
     "metadata": {},
     "output_type": "execute_result"
    }
   ],
   "source": [
    "confusion_matrix(y_valid, predictions)"
   ]
  },
  {
   "cell_type": "markdown",
   "id": "2f55a03a",
   "metadata": {},
   "source": [
    "Predict the test set"
   ]
  },
  {
   "cell_type": "code",
   "execution_count": 69,
   "id": "f6f71cd4",
   "metadata": {},
   "outputs": [],
   "source": [
    "test_predictions = model.predict(df_test)"
   ]
  },
  {
   "cell_type": "markdown",
   "id": "1ec7927f",
   "metadata": {},
   "source": [
    "Check the confusion matrix and the accuracy score"
   ]
  },
  {
   "cell_type": "code",
   "execution_count": 70,
   "id": "22ebe471",
   "metadata": {},
   "outputs": [
    {
     "data": {
      "text/plain": [
       "array([[253,  13],\n",
       "       [  8, 144]], dtype=int64)"
      ]
     },
     "execution_count": 70,
     "metadata": {},
     "output_type": "execute_result"
    }
   ],
   "source": [
    "confusion_matrix(dataset_result['Survived'], test_predictions)"
   ]
  },
  {
   "cell_type": "code",
   "execution_count": 71,
   "id": "7150ce1b",
   "metadata": {},
   "outputs": [
    {
     "data": {
      "text/plain": [
       "0.9497607655502392"
      ]
     },
     "execution_count": 71,
     "metadata": {},
     "output_type": "execute_result"
    }
   ],
   "source": [
    "accuracy_score(dataset_result['Survived'], test_predictions)"
   ]
  },
  {
   "cell_type": "code",
   "execution_count": 72,
   "id": "3989af16",
   "metadata": {},
   "outputs": [],
   "source": [
    "ds = pd.DataFrame({\"PassengerId\":dataset_test['PassengerId'].values,\n",
    "                  \"Survived\": test_predictions,\n",
    "                  })"
   ]
  },
  {
   "cell_type": "code",
   "execution_count": 73,
   "id": "eecdb0d0",
   "metadata": {},
   "outputs": [
    {
     "data": {
      "text/html": [
       "<div>\n",
       "<style scoped>\n",
       "    .dataframe tbody tr th:only-of-type {\n",
       "        vertical-align: middle;\n",
       "    }\n",
       "\n",
       "    .dataframe tbody tr th {\n",
       "        vertical-align: top;\n",
       "    }\n",
       "\n",
       "    .dataframe thead th {\n",
       "        text-align: right;\n",
       "    }\n",
       "</style>\n",
       "<table border=\"1\" class=\"dataframe\">\n",
       "  <thead>\n",
       "    <tr style=\"text-align: right;\">\n",
       "      <th></th>\n",
       "      <th>PassengerId</th>\n",
       "      <th>Survived</th>\n",
       "    </tr>\n",
       "  </thead>\n",
       "  <tbody>\n",
       "    <tr>\n",
       "      <th>0</th>\n",
       "      <td>892</td>\n",
       "      <td>0</td>\n",
       "    </tr>\n",
       "    <tr>\n",
       "      <th>1</th>\n",
       "      <td>893</td>\n",
       "      <td>0</td>\n",
       "    </tr>\n",
       "    <tr>\n",
       "      <th>2</th>\n",
       "      <td>894</td>\n",
       "      <td>0</td>\n",
       "    </tr>\n",
       "    <tr>\n",
       "      <th>3</th>\n",
       "      <td>895</td>\n",
       "      <td>0</td>\n",
       "    </tr>\n",
       "    <tr>\n",
       "      <th>4</th>\n",
       "      <td>896</td>\n",
       "      <td>1</td>\n",
       "    </tr>\n",
       "  </tbody>\n",
       "</table>\n",
       "</div>"
      ],
      "text/plain": [
       "   PassengerId  Survived\n",
       "0          892         0\n",
       "1          893         0\n",
       "2          894         0\n",
       "3          895         0\n",
       "4          896         1"
      ]
     },
     "execution_count": 73,
     "metadata": {},
     "output_type": "execute_result"
    }
   ],
   "source": [
    "ds.head()"
   ]
  },
  {
   "cell_type": "markdown",
   "id": "40a89882",
   "metadata": {},
   "source": [
    "### CatBoostClassifier (Classification using Gradient Boosting on Decision Trees)"
   ]
  },
  {
   "cell_type": "markdown",
   "id": "e3ea00f6",
   "metadata": {},
   "source": [
    "Define independent and dependent (target) features"
   ]
  },
  {
   "cell_type": "code",
   "execution_count": 74,
   "id": "a666eb2c",
   "metadata": {},
   "outputs": [],
   "source": [
    "y = df_train['Survived']\n",
    "X = df_train.drop('Survived', axis=1)\n",
    "\n",
    "# Divide train dataset into train and validation sets\n",
    "X_train, X_valid, y_train, y_valid = train_test_split(X, y, test_size=0.25, random_state=2022)"
   ]
  },
  {
   "cell_type": "markdown",
   "id": "39af6bb3",
   "metadata": {},
   "source": [
    "Define the model"
   ]
  },
  {
   "cell_type": "code",
   "execution_count": 75,
   "id": "08ddb18f",
   "metadata": {},
   "outputs": [],
   "source": [
    "model = cb.CatBoostClassifier(\n",
    "    iterations=5,\n",
    "    learning_rate=0.01,\n",
    "    depth=5,\n",
    "    loss_function=\"Logloss\",\n",
    "    eval_metric=\"Accuracy\",\n",
    "    random_state=2022\n",
    ")"
   ]
  },
  {
   "cell_type": "markdown",
   "id": "d11d0a28",
   "metadata": {},
   "source": [
    "Fit the model"
   ]
  },
  {
   "cell_type": "code",
   "execution_count": 76,
   "id": "a2f18499",
   "metadata": {},
   "outputs": [],
   "source": [
    "cat_features = ['Pclass', 'Cat_family', 'encoded_sex', 'encoded_embarked']"
   ]
  },
  {
   "cell_type": "code",
   "execution_count": 77,
   "id": "71040765",
   "metadata": {
    "scrolled": false
   },
   "outputs": [
    {
     "name": "stdout",
     "output_type": "stream",
     "text": [
      "0:\tlearn: 0.8053892\ttest: 0.8206278\tbest: 0.8206278 (0)\ttotal: 167ms\tremaining: 668ms\n",
      "1:\tlearn: 0.8023952\ttest: 0.8161435\tbest: 0.8206278 (0)\ttotal: 176ms\tremaining: 264ms\n",
      "2:\tlearn: 0.8053892\ttest: 0.8206278\tbest: 0.8206278 (0)\ttotal: 188ms\tremaining: 125ms\n",
      "3:\tlearn: 0.7814371\ttest: 0.8026906\tbest: 0.8206278 (0)\ttotal: 191ms\tremaining: 47.7ms\n",
      "4:\tlearn: 0.8053892\ttest: 0.8251121\tbest: 0.8251121 (4)\ttotal: 205ms\tremaining: 0us\n",
      "\n",
      "bestTest = 0.8251121076\n",
      "bestIteration = 4\n",
      "\n"
     ]
    },
    {
     "data": {
      "text/plain": [
       "<catboost.core.CatBoostClassifier at 0x15fb97937c0>"
      ]
     },
     "execution_count": 77,
     "metadata": {},
     "output_type": "execute_result"
    }
   ],
   "source": [
    "model.fit(X_train, y_train, cat_features=cat_features, plot=False, eval_set=(X_valid, y_valid))"
   ]
  },
  {
   "cell_type": "markdown",
   "id": "eb7a98c1",
   "metadata": {},
   "source": [
    "Predict the validation sets"
   ]
  },
  {
   "cell_type": "code",
   "execution_count": 78,
   "id": "3d7d2de9",
   "metadata": {},
   "outputs": [],
   "source": [
    "predictions = model.predict(X_valid)"
   ]
  },
  {
   "cell_type": "markdown",
   "id": "66e6054a",
   "metadata": {},
   "source": [
    "Checking the accuracy"
   ]
  },
  {
   "cell_type": "code",
   "execution_count": 79,
   "id": "233a4b08",
   "metadata": {},
   "outputs": [
    {
     "data": {
      "text/plain": [
       "0.8251121076233184"
      ]
     },
     "execution_count": 79,
     "metadata": {},
     "output_type": "execute_result"
    }
   ],
   "source": [
    "accuracy_score(y_valid, predictions)"
   ]
  },
  {
   "cell_type": "code",
   "execution_count": 80,
   "id": "cc629149",
   "metadata": {},
   "outputs": [
    {
     "data": {
      "text/plain": [
       "array([[129,  14],\n",
       "       [ 25,  55]], dtype=int64)"
      ]
     },
     "execution_count": 80,
     "metadata": {},
     "output_type": "execute_result"
    }
   ],
   "source": [
    "confusion_matrix(y_valid, predictions)"
   ]
  },
  {
   "cell_type": "markdown",
   "id": "62e926cf",
   "metadata": {},
   "source": [
    "Predict the test set"
   ]
  },
  {
   "cell_type": "code",
   "execution_count": 81,
   "id": "a752423d",
   "metadata": {},
   "outputs": [],
   "source": [
    "test_predictions = model.predict(df_test)"
   ]
  },
  {
   "cell_type": "markdown",
   "id": "66d91932",
   "metadata": {},
   "source": [
    "Check the confusion matrix and the accuracy score"
   ]
  },
  {
   "cell_type": "code",
   "execution_count": 82,
   "id": "26575d08",
   "metadata": {},
   "outputs": [
    {
     "data": {
      "text/plain": [
       "array([[266,   0],\n",
       "       [  4, 148]], dtype=int64)"
      ]
     },
     "execution_count": 82,
     "metadata": {},
     "output_type": "execute_result"
    }
   ],
   "source": [
    "confusion_matrix(dataset_result['Survived'], test_predictions)"
   ]
  },
  {
   "cell_type": "code",
   "execution_count": 83,
   "id": "b8765e14",
   "metadata": {},
   "outputs": [
    {
     "data": {
      "text/plain": [
       "0.9904306220095693"
      ]
     },
     "execution_count": 83,
     "metadata": {},
     "output_type": "execute_result"
    }
   ],
   "source": [
    "accuracy_score(dataset_result['Survived'], test_predictions)"
   ]
  },
  {
   "cell_type": "code",
   "execution_count": 84,
   "id": "6527b1d0",
   "metadata": {},
   "outputs": [],
   "source": [
    "ds = pd.DataFrame({\"PassengerId\":dataset_test['PassengerId'].values,\n",
    "                  \"Survived\": test_predictions,\n",
    "                  })"
   ]
  },
  {
   "cell_type": "code",
   "execution_count": 85,
   "id": "351d07e0",
   "metadata": {},
   "outputs": [
    {
     "data": {
      "text/html": [
       "<div>\n",
       "<style scoped>\n",
       "    .dataframe tbody tr th:only-of-type {\n",
       "        vertical-align: middle;\n",
       "    }\n",
       "\n",
       "    .dataframe tbody tr th {\n",
       "        vertical-align: top;\n",
       "    }\n",
       "\n",
       "    .dataframe thead th {\n",
       "        text-align: right;\n",
       "    }\n",
       "</style>\n",
       "<table border=\"1\" class=\"dataframe\">\n",
       "  <thead>\n",
       "    <tr style=\"text-align: right;\">\n",
       "      <th></th>\n",
       "      <th>PassengerId</th>\n",
       "      <th>Survived</th>\n",
       "    </tr>\n",
       "  </thead>\n",
       "  <tbody>\n",
       "    <tr>\n",
       "      <th>0</th>\n",
       "      <td>892</td>\n",
       "      <td>0</td>\n",
       "    </tr>\n",
       "    <tr>\n",
       "      <th>1</th>\n",
       "      <td>893</td>\n",
       "      <td>1</td>\n",
       "    </tr>\n",
       "    <tr>\n",
       "      <th>2</th>\n",
       "      <td>894</td>\n",
       "      <td>0</td>\n",
       "    </tr>\n",
       "    <tr>\n",
       "      <th>3</th>\n",
       "      <td>895</td>\n",
       "      <td>0</td>\n",
       "    </tr>\n",
       "    <tr>\n",
       "      <th>4</th>\n",
       "      <td>896</td>\n",
       "      <td>1</td>\n",
       "    </tr>\n",
       "  </tbody>\n",
       "</table>\n",
       "</div>"
      ],
      "text/plain": [
       "   PassengerId  Survived\n",
       "0          892         0\n",
       "1          893         1\n",
       "2          894         0\n",
       "3          895         0\n",
       "4          896         1"
      ]
     },
     "execution_count": 85,
     "metadata": {},
     "output_type": "execute_result"
    }
   ],
   "source": [
    "ds.head()"
   ]
  },
  {
   "cell_type": "markdown",
   "id": "b672926d",
   "metadata": {},
   "source": [
    "## What if `Fare` is excluded from the data?"
   ]
  },
  {
   "cell_type": "code",
   "execution_count": 86,
   "id": "b8e15e37",
   "metadata": {},
   "outputs": [],
   "source": [
    "df_train = df_train.drop(['scaled_fare'], axis=1)\n",
    "df_test = df_test.drop(['scaled_fare'], axis=1)\n",
    "\n",
    "y = df_train['Survived']\n",
    "X = df_train.drop('Survived', axis=1)\n",
    "\n",
    "# Divide train dataset into train and validation sets\n",
    "X_train, X_valid, y_train, y_valid = train_test_split(X, y, test_size=0.25, random_state=2022)"
   ]
  },
  {
   "cell_type": "markdown",
   "id": "a5eb43f8",
   "metadata": {},
   "source": [
    "Define the model"
   ]
  },
  {
   "cell_type": "code",
   "execution_count": 87,
   "id": "ec7bbd9e",
   "metadata": {},
   "outputs": [],
   "source": [
    "model = cb.CatBoostClassifier(\n",
    "    iterations=5,\n",
    "    learning_rate=0.01,\n",
    "    depth=5,\n",
    "    loss_function=\"Logloss\",\n",
    "    eval_metric=\"Accuracy\",\n",
    "    random_state=2022\n",
    ")"
   ]
  },
  {
   "cell_type": "markdown",
   "id": "3f39437f",
   "metadata": {},
   "source": [
    "Fit the model"
   ]
  },
  {
   "cell_type": "code",
   "execution_count": 88,
   "id": "fe520e18",
   "metadata": {},
   "outputs": [],
   "source": [
    "cat_features = ['Pclass', 'Cat_family', 'encoded_sex', 'encoded_embarked']"
   ]
  },
  {
   "cell_type": "code",
   "execution_count": 89,
   "id": "db87a88a",
   "metadata": {
    "scrolled": false
   },
   "outputs": [
    {
     "name": "stdout",
     "output_type": "stream",
     "text": [
      "0:\tlearn: 0.7814371\ttest: 0.8026906\tbest: 0.8026906 (0)\ttotal: 3.79ms\tremaining: 15.1ms\n",
      "1:\tlearn: 0.7814371\ttest: 0.8026906\tbest: 0.8026906 (0)\ttotal: 7.43ms\tremaining: 11.1ms\n",
      "2:\tlearn: 0.7814371\ttest: 0.8026906\tbest: 0.8026906 (0)\ttotal: 10.8ms\tremaining: 7.23ms\n",
      "3:\tlearn: 0.7814371\ttest: 0.8026906\tbest: 0.8026906 (0)\ttotal: 24.2ms\tremaining: 6.04ms\n",
      "4:\tlearn: 0.7814371\ttest: 0.8026906\tbest: 0.8026906 (0)\ttotal: 34.6ms\tremaining: 0us\n",
      "\n",
      "bestTest = 0.802690583\n",
      "bestIteration = 0\n",
      "\n",
      "Shrink model to first 1 iterations.\n"
     ]
    },
    {
     "data": {
      "text/plain": [
       "<catboost.core.CatBoostClassifier at 0x15fb97b7df0>"
      ]
     },
     "execution_count": 89,
     "metadata": {},
     "output_type": "execute_result"
    }
   ],
   "source": [
    "model.fit(X_train, y_train, cat_features=cat_features, plot=False, eval_set=(X_valid, y_valid))"
   ]
  },
  {
   "cell_type": "markdown",
   "id": "6409acb8",
   "metadata": {},
   "source": [
    "Predict the validation sets"
   ]
  },
  {
   "cell_type": "code",
   "execution_count": 90,
   "id": "1f2aa163",
   "metadata": {},
   "outputs": [],
   "source": [
    "predictions = model.predict(X_valid)"
   ]
  },
  {
   "cell_type": "markdown",
   "id": "9937c8d6",
   "metadata": {},
   "source": [
    "Checking the accuracy"
   ]
  },
  {
   "cell_type": "code",
   "execution_count": 91,
   "id": "aafb3f04",
   "metadata": {},
   "outputs": [
    {
     "data": {
      "text/plain": [
       "0.8026905829596412"
      ]
     },
     "execution_count": 91,
     "metadata": {},
     "output_type": "execute_result"
    }
   ],
   "source": [
    "accuracy_score(y_valid, predictions)"
   ]
  },
  {
   "cell_type": "code",
   "execution_count": 92,
   "id": "b7450dd4",
   "metadata": {},
   "outputs": [
    {
     "data": {
      "text/plain": [
       "array([[123,  20],\n",
       "       [ 24,  56]], dtype=int64)"
      ]
     },
     "execution_count": 92,
     "metadata": {},
     "output_type": "execute_result"
    }
   ],
   "source": [
    "confusion_matrix(y_valid, predictions)"
   ]
  },
  {
   "cell_type": "markdown",
   "id": "4685f29d",
   "metadata": {},
   "source": [
    "Predict the test set"
   ]
  },
  {
   "cell_type": "code",
   "execution_count": 93,
   "id": "60724b36",
   "metadata": {},
   "outputs": [],
   "source": [
    "test_predictions = model.predict(df_test)"
   ]
  },
  {
   "cell_type": "markdown",
   "id": "884f83b0",
   "metadata": {},
   "source": [
    "Check the confusion matrix and the accuracy score"
   ]
  },
  {
   "cell_type": "code",
   "execution_count": 94,
   "id": "c727ea34",
   "metadata": {},
   "outputs": [
    {
     "data": {
      "text/plain": [
       "array([[266,   0],\n",
       "       [  0, 152]], dtype=int64)"
      ]
     },
     "execution_count": 94,
     "metadata": {},
     "output_type": "execute_result"
    }
   ],
   "source": [
    "confusion_matrix(dataset_result['Survived'], test_predictions)"
   ]
  },
  {
   "cell_type": "code",
   "execution_count": 95,
   "id": "7c8dff51",
   "metadata": {},
   "outputs": [
    {
     "data": {
      "text/plain": [
       "1.0"
      ]
     },
     "execution_count": 95,
     "metadata": {},
     "output_type": "execute_result"
    }
   ],
   "source": [
    "accuracy_score(dataset_result['Survived'], test_predictions)"
   ]
  },
  {
   "cell_type": "code",
   "execution_count": 96,
   "id": "1b4750d7",
   "metadata": {},
   "outputs": [],
   "source": [
    "ds = pd.DataFrame({\"PassengerId\":dataset_test['PassengerId'].values,\n",
    "                  \"Survived\": test_predictions,\n",
    "                  })"
   ]
  },
  {
   "cell_type": "code",
   "execution_count": 97,
   "id": "8877cb17",
   "metadata": {},
   "outputs": [
    {
     "data": {
      "text/html": [
       "<div>\n",
       "<style scoped>\n",
       "    .dataframe tbody tr th:only-of-type {\n",
       "        vertical-align: middle;\n",
       "    }\n",
       "\n",
       "    .dataframe tbody tr th {\n",
       "        vertical-align: top;\n",
       "    }\n",
       "\n",
       "    .dataframe thead th {\n",
       "        text-align: right;\n",
       "    }\n",
       "</style>\n",
       "<table border=\"1\" class=\"dataframe\">\n",
       "  <thead>\n",
       "    <tr style=\"text-align: right;\">\n",
       "      <th></th>\n",
       "      <th>PassengerId</th>\n",
       "      <th>Survived</th>\n",
       "    </tr>\n",
       "  </thead>\n",
       "  <tbody>\n",
       "    <tr>\n",
       "      <th>0</th>\n",
       "      <td>892</td>\n",
       "      <td>0</td>\n",
       "    </tr>\n",
       "    <tr>\n",
       "      <th>1</th>\n",
       "      <td>893</td>\n",
       "      <td>1</td>\n",
       "    </tr>\n",
       "    <tr>\n",
       "      <th>2</th>\n",
       "      <td>894</td>\n",
       "      <td>0</td>\n",
       "    </tr>\n",
       "    <tr>\n",
       "      <th>3</th>\n",
       "      <td>895</td>\n",
       "      <td>0</td>\n",
       "    </tr>\n",
       "    <tr>\n",
       "      <th>4</th>\n",
       "      <td>896</td>\n",
       "      <td>1</td>\n",
       "    </tr>\n",
       "  </tbody>\n",
       "</table>\n",
       "</div>"
      ],
      "text/plain": [
       "   PassengerId  Survived\n",
       "0          892         0\n",
       "1          893         1\n",
       "2          894         0\n",
       "3          895         0\n",
       "4          896         1"
      ]
     },
     "execution_count": 97,
     "metadata": {},
     "output_type": "execute_result"
    }
   ],
   "source": [
    "ds.head()"
   ]
  },
  {
   "cell_type": "markdown",
   "id": "95b74002",
   "metadata": {},
   "source": [
    "Since we didn't drop any outliers, it's more optimized when `Fare` is excluded from data. For the next steps, we'll use this dataset. "
   ]
  },
  {
   "cell_type": "code",
   "execution_count": 98,
   "id": "ea705c29",
   "metadata": {},
   "outputs": [],
   "source": [
    "df_train.to_csv(\"train_clean.csv\", index=False)\n",
    "df_test.to_csv(\"test_clean.csv\", index=False)"
   ]
  },
  {
   "cell_type": "code",
   "execution_count": null,
   "id": "eb0bea0f",
   "metadata": {},
   "outputs": [],
   "source": []
  }
 ],
 "metadata": {
  "kernelspec": {
   "display_name": "Python 3 (ipykernel)",
   "language": "python",
   "name": "python3"
  },
  "language_info": {
   "codemirror_mode": {
    "name": "ipython",
    "version": 3
   },
   "file_extension": ".py",
   "mimetype": "text/x-python",
   "name": "python",
   "nbconvert_exporter": "python",
   "pygments_lexer": "ipython3",
   "version": "3.8.8"
  },
  "vscode": {
   "interpreter": {
    "hash": "88bfe685ae48d6b588350f55ffee6d369c6dc16004a8449bce6a42e664eafa62"
   }
  }
 },
 "nbformat": 4,
 "nbformat_minor": 5
}
