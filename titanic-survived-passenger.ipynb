{
 "cells": [
  {
   "cell_type": "markdown",
   "id": "6dbfb198",
   "metadata": {},
   "source": [
    "# Titanic Survived Passangers (Prediction)\n",
    "\n",
    "by: Irfan Imaduddin <br>\n",
    "date: 16 June 2022 <br>\n",
    "ref: https://www.kaggle.com/competitions/titanic <br>\n",
    "contact: irfanimaduddin[at]gmail.com <br>\n",
    "\n",
    "---"
   ]
  },
  {
   "cell_type": "markdown",
   "id": "f372c252",
   "metadata": {},
   "source": [
    "## Package Setup"
   ]
  },
  {
   "cell_type": "markdown",
   "id": "f21e2af9",
   "metadata": {},
   "source": [
    "Import modules"
   ]
  },
  {
   "cell_type": "code",
   "execution_count": 1,
   "id": "53b2ed68",
   "metadata": {},
   "outputs": [],
   "source": [
    "import ipywidgets\n",
    "import numpy as np\n",
    "import pandas as pd\n",
    "\n",
    "import seaborn as sns\n",
    "import matplotlib.pyplot as plt\n",
    "\n",
    "import catboost as cb\n",
    "\n",
    "from sklearn.metrics import accuracy_score, confusion_matrix\n",
    "from sklearn.linear_model import LogisticRegression\n",
    "from sklearn.model_selection import train_test_split\n",
    "from sklearn.preprocessing import LabelEncoder, MinMaxScaler, StandardScaler\n",
    "\n",
    "from sklearn.ensemble import RandomForestClassifier\n",
    "\n",
    "import warnings\n",
    "warnings.filterwarnings(\"ignore\")"
   ]
  },
  {
   "cell_type": "markdown",
   "id": "1fc81341",
   "metadata": {},
   "source": [
    "Read files"
   ]
  },
  {
   "cell_type": "code",
   "execution_count": 2,
   "id": "6b5a2e1a",
   "metadata": {},
   "outputs": [],
   "source": [
    "dataset_train = pd.read_csv(\"train.csv\")\n",
    "dataset_test = pd.read_csv(\"test.csv\")\n",
    "dataset_result = pd.read_csv(\"gender_submission.csv\")"
   ]
  },
  {
   "cell_type": "markdown",
   "id": "46013277",
   "metadata": {},
   "source": [
    "Inspect data"
   ]
  },
  {
   "cell_type": "code",
   "execution_count": 3,
   "id": "8a35f58d",
   "metadata": {},
   "outputs": [
    {
     "data": {
      "text/html": [
       "<div>\n",
       "<style scoped>\n",
       "    .dataframe tbody tr th:only-of-type {\n",
       "        vertical-align: middle;\n",
       "    }\n",
       "\n",
       "    .dataframe tbody tr th {\n",
       "        vertical-align: top;\n",
       "    }\n",
       "\n",
       "    .dataframe thead th {\n",
       "        text-align: right;\n",
       "    }\n",
       "</style>\n",
       "<table border=\"1\" class=\"dataframe\">\n",
       "  <thead>\n",
       "    <tr style=\"text-align: right;\">\n",
       "      <th></th>\n",
       "      <th>PassengerId</th>\n",
       "      <th>Survived</th>\n",
       "      <th>Pclass</th>\n",
       "      <th>Name</th>\n",
       "      <th>Sex</th>\n",
       "      <th>Age</th>\n",
       "      <th>SibSp</th>\n",
       "      <th>Parch</th>\n",
       "      <th>Ticket</th>\n",
       "      <th>Fare</th>\n",
       "      <th>Cabin</th>\n",
       "      <th>Embarked</th>\n",
       "    </tr>\n",
       "  </thead>\n",
       "  <tbody>\n",
       "    <tr>\n",
       "      <th>0</th>\n",
       "      <td>1</td>\n",
       "      <td>0</td>\n",
       "      <td>3</td>\n",
       "      <td>Braund, Mr. Owen Harris</td>\n",
       "      <td>male</td>\n",
       "      <td>22.0</td>\n",
       "      <td>1</td>\n",
       "      <td>0</td>\n",
       "      <td>A/5 21171</td>\n",
       "      <td>7.2500</td>\n",
       "      <td>NaN</td>\n",
       "      <td>S</td>\n",
       "    </tr>\n",
       "    <tr>\n",
       "      <th>1</th>\n",
       "      <td>2</td>\n",
       "      <td>1</td>\n",
       "      <td>1</td>\n",
       "      <td>Cumings, Mrs. John Bradley (Florence Briggs Th...</td>\n",
       "      <td>female</td>\n",
       "      <td>38.0</td>\n",
       "      <td>1</td>\n",
       "      <td>0</td>\n",
       "      <td>PC 17599</td>\n",
       "      <td>71.2833</td>\n",
       "      <td>C85</td>\n",
       "      <td>C</td>\n",
       "    </tr>\n",
       "    <tr>\n",
       "      <th>2</th>\n",
       "      <td>3</td>\n",
       "      <td>1</td>\n",
       "      <td>3</td>\n",
       "      <td>Heikkinen, Miss. Laina</td>\n",
       "      <td>female</td>\n",
       "      <td>26.0</td>\n",
       "      <td>0</td>\n",
       "      <td>0</td>\n",
       "      <td>STON/O2. 3101282</td>\n",
       "      <td>7.9250</td>\n",
       "      <td>NaN</td>\n",
       "      <td>S</td>\n",
       "    </tr>\n",
       "    <tr>\n",
       "      <th>3</th>\n",
       "      <td>4</td>\n",
       "      <td>1</td>\n",
       "      <td>1</td>\n",
       "      <td>Futrelle, Mrs. Jacques Heath (Lily May Peel)</td>\n",
       "      <td>female</td>\n",
       "      <td>35.0</td>\n",
       "      <td>1</td>\n",
       "      <td>0</td>\n",
       "      <td>113803</td>\n",
       "      <td>53.1000</td>\n",
       "      <td>C123</td>\n",
       "      <td>S</td>\n",
       "    </tr>\n",
       "    <tr>\n",
       "      <th>4</th>\n",
       "      <td>5</td>\n",
       "      <td>0</td>\n",
       "      <td>3</td>\n",
       "      <td>Allen, Mr. William Henry</td>\n",
       "      <td>male</td>\n",
       "      <td>35.0</td>\n",
       "      <td>0</td>\n",
       "      <td>0</td>\n",
       "      <td>373450</td>\n",
       "      <td>8.0500</td>\n",
       "      <td>NaN</td>\n",
       "      <td>S</td>\n",
       "    </tr>\n",
       "  </tbody>\n",
       "</table>\n",
       "</div>"
      ],
      "text/plain": [
       "   PassengerId  Survived  Pclass  \\\n",
       "0            1         0       3   \n",
       "1            2         1       1   \n",
       "2            3         1       3   \n",
       "3            4         1       1   \n",
       "4            5         0       3   \n",
       "\n",
       "                                                Name     Sex   Age  SibSp  \\\n",
       "0                            Braund, Mr. Owen Harris    male  22.0      1   \n",
       "1  Cumings, Mrs. John Bradley (Florence Briggs Th...  female  38.0      1   \n",
       "2                             Heikkinen, Miss. Laina  female  26.0      0   \n",
       "3       Futrelle, Mrs. Jacques Heath (Lily May Peel)  female  35.0      1   \n",
       "4                           Allen, Mr. William Henry    male  35.0      0   \n",
       "\n",
       "   Parch            Ticket     Fare Cabin Embarked  \n",
       "0      0         A/5 21171   7.2500   NaN        S  \n",
       "1      0          PC 17599  71.2833   C85        C  \n",
       "2      0  STON/O2. 3101282   7.9250   NaN        S  \n",
       "3      0            113803  53.1000  C123        S  \n",
       "4      0            373450   8.0500   NaN        S  "
      ]
     },
     "execution_count": 3,
     "metadata": {},
     "output_type": "execute_result"
    }
   ],
   "source": [
    "dataset_train.head()"
   ]
  },
  {
   "cell_type": "code",
   "execution_count": 4,
   "id": "717975e9",
   "metadata": {},
   "outputs": [
    {
     "data": {
      "text/html": [
       "<div>\n",
       "<style scoped>\n",
       "    .dataframe tbody tr th:only-of-type {\n",
       "        vertical-align: middle;\n",
       "    }\n",
       "\n",
       "    .dataframe tbody tr th {\n",
       "        vertical-align: top;\n",
       "    }\n",
       "\n",
       "    .dataframe thead th {\n",
       "        text-align: right;\n",
       "    }\n",
       "</style>\n",
       "<table border=\"1\" class=\"dataframe\">\n",
       "  <thead>\n",
       "    <tr style=\"text-align: right;\">\n",
       "      <th></th>\n",
       "      <th>PassengerId</th>\n",
       "      <th>Pclass</th>\n",
       "      <th>Name</th>\n",
       "      <th>Sex</th>\n",
       "      <th>Age</th>\n",
       "      <th>SibSp</th>\n",
       "      <th>Parch</th>\n",
       "      <th>Ticket</th>\n",
       "      <th>Fare</th>\n",
       "      <th>Cabin</th>\n",
       "      <th>Embarked</th>\n",
       "    </tr>\n",
       "  </thead>\n",
       "  <tbody>\n",
       "    <tr>\n",
       "      <th>0</th>\n",
       "      <td>892</td>\n",
       "      <td>3</td>\n",
       "      <td>Kelly, Mr. James</td>\n",
       "      <td>male</td>\n",
       "      <td>34.5</td>\n",
       "      <td>0</td>\n",
       "      <td>0</td>\n",
       "      <td>330911</td>\n",
       "      <td>7.8292</td>\n",
       "      <td>NaN</td>\n",
       "      <td>Q</td>\n",
       "    </tr>\n",
       "    <tr>\n",
       "      <th>1</th>\n",
       "      <td>893</td>\n",
       "      <td>3</td>\n",
       "      <td>Wilkes, Mrs. James (Ellen Needs)</td>\n",
       "      <td>female</td>\n",
       "      <td>47.0</td>\n",
       "      <td>1</td>\n",
       "      <td>0</td>\n",
       "      <td>363272</td>\n",
       "      <td>7.0000</td>\n",
       "      <td>NaN</td>\n",
       "      <td>S</td>\n",
       "    </tr>\n",
       "    <tr>\n",
       "      <th>2</th>\n",
       "      <td>894</td>\n",
       "      <td>2</td>\n",
       "      <td>Myles, Mr. Thomas Francis</td>\n",
       "      <td>male</td>\n",
       "      <td>62.0</td>\n",
       "      <td>0</td>\n",
       "      <td>0</td>\n",
       "      <td>240276</td>\n",
       "      <td>9.6875</td>\n",
       "      <td>NaN</td>\n",
       "      <td>Q</td>\n",
       "    </tr>\n",
       "    <tr>\n",
       "      <th>3</th>\n",
       "      <td>895</td>\n",
       "      <td>3</td>\n",
       "      <td>Wirz, Mr. Albert</td>\n",
       "      <td>male</td>\n",
       "      <td>27.0</td>\n",
       "      <td>0</td>\n",
       "      <td>0</td>\n",
       "      <td>315154</td>\n",
       "      <td>8.6625</td>\n",
       "      <td>NaN</td>\n",
       "      <td>S</td>\n",
       "    </tr>\n",
       "    <tr>\n",
       "      <th>4</th>\n",
       "      <td>896</td>\n",
       "      <td>3</td>\n",
       "      <td>Hirvonen, Mrs. Alexander (Helga E Lindqvist)</td>\n",
       "      <td>female</td>\n",
       "      <td>22.0</td>\n",
       "      <td>1</td>\n",
       "      <td>1</td>\n",
       "      <td>3101298</td>\n",
       "      <td>12.2875</td>\n",
       "      <td>NaN</td>\n",
       "      <td>S</td>\n",
       "    </tr>\n",
       "  </tbody>\n",
       "</table>\n",
       "</div>"
      ],
      "text/plain": [
       "   PassengerId  Pclass                                          Name     Sex  \\\n",
       "0          892       3                              Kelly, Mr. James    male   \n",
       "1          893       3              Wilkes, Mrs. James (Ellen Needs)  female   \n",
       "2          894       2                     Myles, Mr. Thomas Francis    male   \n",
       "3          895       3                              Wirz, Mr. Albert    male   \n",
       "4          896       3  Hirvonen, Mrs. Alexander (Helga E Lindqvist)  female   \n",
       "\n",
       "    Age  SibSp  Parch   Ticket     Fare Cabin Embarked  \n",
       "0  34.5      0      0   330911   7.8292   NaN        Q  \n",
       "1  47.0      1      0   363272   7.0000   NaN        S  \n",
       "2  62.0      0      0   240276   9.6875   NaN        Q  \n",
       "3  27.0      0      0   315154   8.6625   NaN        S  \n",
       "4  22.0      1      1  3101298  12.2875   NaN        S  "
      ]
     },
     "execution_count": 4,
     "metadata": {},
     "output_type": "execute_result"
    }
   ],
   "source": [
    "dataset_test.head()"
   ]
  },
  {
   "cell_type": "code",
   "execution_count": 5,
   "id": "a7229c2a",
   "metadata": {},
   "outputs": [
    {
     "name": "stdout",
     "output_type": "stream",
     "text": [
      "<class 'pandas.core.frame.DataFrame'>\n",
      "RangeIndex: 891 entries, 0 to 890\n",
      "Data columns (total 12 columns):\n",
      " #   Column       Non-Null Count  Dtype  \n",
      "---  ------       --------------  -----  \n",
      " 0   PassengerId  891 non-null    int64  \n",
      " 1   Survived     891 non-null    int64  \n",
      " 2   Pclass       891 non-null    int64  \n",
      " 3   Name         891 non-null    object \n",
      " 4   Sex          891 non-null    object \n",
      " 5   Age          714 non-null    float64\n",
      " 6   SibSp        891 non-null    int64  \n",
      " 7   Parch        891 non-null    int64  \n",
      " 8   Ticket       891 non-null    object \n",
      " 9   Fare         891 non-null    float64\n",
      " 10  Cabin        204 non-null    object \n",
      " 11  Embarked     889 non-null    object \n",
      "dtypes: float64(2), int64(5), object(5)\n",
      "memory usage: 83.7+ KB\n"
     ]
    }
   ],
   "source": [
    "dataset_train.info()"
   ]
  },
  {
   "cell_type": "code",
   "execution_count": 6,
   "id": "46114467",
   "metadata": {},
   "outputs": [
    {
     "name": "stdout",
     "output_type": "stream",
     "text": [
      "<class 'pandas.core.frame.DataFrame'>\n",
      "RangeIndex: 418 entries, 0 to 417\n",
      "Data columns (total 11 columns):\n",
      " #   Column       Non-Null Count  Dtype  \n",
      "---  ------       --------------  -----  \n",
      " 0   PassengerId  418 non-null    int64  \n",
      " 1   Pclass       418 non-null    int64  \n",
      " 2   Name         418 non-null    object \n",
      " 3   Sex          418 non-null    object \n",
      " 4   Age          332 non-null    float64\n",
      " 5   SibSp        418 non-null    int64  \n",
      " 6   Parch        418 non-null    int64  \n",
      " 7   Ticket       418 non-null    object \n",
      " 8   Fare         417 non-null    float64\n",
      " 9   Cabin        91 non-null     object \n",
      " 10  Embarked     418 non-null    object \n",
      "dtypes: float64(2), int64(4), object(5)\n",
      "memory usage: 36.0+ KB\n"
     ]
    }
   ],
   "source": [
    "dataset_test.info()"
   ]
  },
  {
   "cell_type": "code",
   "execution_count": 7,
   "id": "7cecb448",
   "metadata": {},
   "outputs": [
    {
     "name": "stdout",
     "output_type": "stream",
     "text": [
      "The mean and median of the age distribution are 30 and 28\n"
     ]
    },
    {
     "data": {
      "image/png": "[encoded data removed]",
      "text/plain": [
       "<Figure size 540x360 with 1 Axes>"
      ]
     },
     "metadata": {
      "needs_background": "light"
     },
     "output_type": "display_data"
    }
   ],
   "source": [
    "sns.displot(data=dataset_train, x='Age', kind=\"hist\", bins=35, kde=True, fill=True, aspect=1.5)\n",
    "\n",
    "plt.axvline(x=dataset_train['Age'].mean(), ymin=0, ymax=0.85, label='Mean', color=\"orange\", linewidth=2.5)\n",
    "plt.axvline(x=dataset_train['Age'].median(), ymin=0, ymax=0.85, label='Median', color=\"red\", linewidth=2.5)\n",
    "\n",
    "plt.legend()\n",
    "\n",
    "print(\"The mean and median of the age distribution are {} and {}\".format(round(dataset_train['Age'].mean()), round(dataset_train['Age'].median())))"
   ]
  },
  {
   "cell_type": "markdown",
   "id": "f56013b7",
   "metadata": {},
   "source": [
    "### Summary\n",
    "\n",
    "1. The **target** is **Survived** column which is a binary classification, `1` for survived passenger and `0` for not survived passenger. <br> <br>\n",
    "\n",
    "2. **Feature types** <br>\n",
    "    a. **Categorical** : Survived, Pclass, Sex, SibSp, Parch, Embarked <br>\n",
    "    b. **Numerical** : PassengerId, Age, Fare <br>\n",
    "    c. **Mixed** : Name, Ticket, Cabin <br> <br>\n",
    "  \n",
    "3. **What factors that make a person could survive from a sinking ship?** This will determine which columns will be used for the next steps. Let's breakdown each column by its description. <br>\n",
    "    a. `PassengerId` is a sequential value that distinguishes each individual in the dataset we are dealing now. It is already represented by each row in the dataset. So, this column is <font color='red'>NOT A FACTOR</font> why someone can survive. <br>\n",
    "    b. `Pclass` is a proxy for socio-economic status (SES) of each passenger. The values are `1`, `2` and `3` which represents for the first class (upper deck), the second class (middle deck) and the third class (lower deck), respectively. When a ship sinks, passengers on the upper deck will have a longer time to sink with the ship than on the middle or lower deck. It's a privilege. So, `Pclass` is <font color='green'>A FACTOR</font>. <br>\n",
    "    c. `Name` describes the name of a passenger. Everyday, we know that celebrities and influential people will always get a \"privilege\" in various ways. But when it becomes a disaster, everyone has an equal chance to survive. So, this one is <font color='red'>NOT A FACTOR</font>. <br>\n",
    "    d. `Sex`. As we know, men are actually stronger than women. This is a \"stereotype\". But somehow men can use their strength for rescuing themselves or weaker people. `Sex` can be <font color='green'>A FACTOR</font> to determine who will survive. <br>\n",
    "    e. `Age` is in years. Obviously we know that adults are more likely to have a chance to survive than babies, young children and the elderly. So, `Age` is <font color='green'>A FACTOR</font>. <br>\n",
    "    f. `SibSp` is number of siblings or spouses aboard the Titanic. When a person sails with his/her relatives, there will be a tendency for that person to think about even saving them when a disaster happens. This could be <font color='green'>A FACTOR</font> for someone to survive on the Titanic. <br>\n",
    "    g. `Parch` is number of parents or children aboard the Titanic. Same as `SibSp`, this also can be <font color='green'>A FACTOR</font> for someone to survive on the Titanic.<br>\n",
    "    h. `Ticket` explains the ticket number owned by each passenger. This is not related actually and somehow it is already represented by `Pclass`. So, the ticket number is <font color='red'>NOT A FACTOR</font>. <br>\n",
    "    i. `Fare` stands for passenger fare for a ticket. This feature is already represented by `Pclass`. So, this is <font color='red'>NOT A FACTOR</font>. <br>\n",
    "    j. `Cabin` is the cabin number for each passenger. This feature is also already represented by `Pclass`. So, this is <font color='red'>NOT A FACTOR</font>. <br>\n",
    "    k. `Embarked` represents port of embarkation for every passenger. The values are `C`, `Q` and `S` which stands for Cherbourg, Queenstown and Southampton, respectively. For some people, this feature is not a factor. But what if the place where a person came from has a culture of activity that makes him/her stronger than people from other places? So, in my opinion this will be <font color='green'>A FACTOR</font>. <br>\n",
    "    "
   ]
  },
  {
   "cell_type": "markdown",
   "id": "415ea361",
   "metadata": {},
   "source": [
    "## Data Cleaning"
   ]
  },
  {
   "cell_type": "code",
   "execution_count": 8,
   "id": "874d08c9",
   "metadata": {},
   "outputs": [],
   "source": [
    "df_train = dataset_train[['Survived', 'Pclass', 'Sex', 'Age', 'SibSp', 'Parch', 'Embarked']]\n",
    "df_test = dataset_test[['Pclass', 'Sex', 'Age', 'SibSp', 'Parch', 'Embarked']]"
   ]
  },
  {
   "cell_type": "code",
   "execution_count": 9,
   "id": "22bce5ac",
   "metadata": {},
   "outputs": [
    {
     "name": "stdout",
     "output_type": "stream",
     "text": [
      "<class 'pandas.core.frame.DataFrame'>\n",
      "RangeIndex: 891 entries, 0 to 890\n",
      "Data columns (total 7 columns):\n",
      " #   Column    Non-Null Count  Dtype  \n",
      "---  ------    --------------  -----  \n",
      " 0   Survived  891 non-null    int64  \n",
      " 1   Pclass    891 non-null    int64  \n",
      " 2   Sex       891 non-null    object \n",
      " 3   Age       714 non-null    float64\n",
      " 4   SibSp     891 non-null    int64  \n",
      " 5   Parch     891 non-null    int64  \n",
      " 6   Embarked  889 non-null    object \n",
      "dtypes: float64(1), int64(4), object(2)\n",
      "memory usage: 48.9+ KB\n"
     ]
    }
   ],
   "source": [
    "df_train.info()"
   ]
  },
  {
   "cell_type": "code",
   "execution_count": 10,
   "id": "7a28ba0b",
   "metadata": {},
   "outputs": [
    {
     "name": "stdout",
     "output_type": "stream",
     "text": [
      "<class 'pandas.core.frame.DataFrame'>\n",
      "RangeIndex: 418 entries, 0 to 417\n",
      "Data columns (total 6 columns):\n",
      " #   Column    Non-Null Count  Dtype  \n",
      "---  ------    --------------  -----  \n",
      " 0   Pclass    418 non-null    int64  \n",
      " 1   Sex       418 non-null    object \n",
      " 2   Age       332 non-null    float64\n",
      " 3   SibSp     418 non-null    int64  \n",
      " 4   Parch     418 non-null    int64  \n",
      " 5   Embarked  418 non-null    object \n",
      "dtypes: float64(1), int64(3), object(2)\n",
      "memory usage: 19.7+ KB\n"
     ]
    }
   ],
   "source": [
    "df_test.info()"
   ]
  },
  {
   "cell_type": "markdown",
   "id": "4f1c2526",
   "metadata": {},
   "source": [
    "Fill NaN values in `Age` with its average"
   ]
  },
  {
   "cell_type": "code",
   "execution_count": 11,
   "id": "b7e6cc22",
   "metadata": {},
   "outputs": [],
   "source": [
    "df_train['Age'].fillna(df_train['Age'].mean(),inplace = True)\n",
    "df_test['Age'].fillna(df_test['Age'].mean(),inplace = True)"
   ]
  },
  {
   "cell_type": "markdown",
   "id": "4396e23a",
   "metadata": {},
   "source": [
    "Fill NaN values in `Embarked` with random choice of embarked values."
   ]
  },
  {
   "cell_type": "code",
   "execution_count": 12,
   "id": "844a405a",
   "metadata": {},
   "outputs": [],
   "source": [
    "embarked_val = ['C', 'Q', 'S']\n",
    "\n",
    "np.random.seed(2022)\n",
    "df_train[\"Embarked\"].fillna(np.random.choice(embarked_val), inplace =True)"
   ]
  },
  {
   "cell_type": "markdown",
   "id": "acaac902",
   "metadata": {},
   "source": [
    "Changing data types"
   ]
  },
  {
   "cell_type": "code",
   "execution_count": 13,
   "id": "a734105c",
   "metadata": {},
   "outputs": [],
   "source": [
    "df_train['Survived'] = df_train['Survived'].astype('category')\n",
    "df_train['Pclass'] = df_train['Pclass'].astype('category')\n",
    "df_train['Sex'] = df_train['Sex'].astype('category')\n",
    "df_train['Embarked'] = df_train['Embarked'].astype('category')\n",
    "\n",
    "df_test['Pclass'] = df_test['Pclass'].astype('category')\n",
    "df_test['Sex'] = df_test['Sex'].astype('category')\n",
    "df_test['Embarked'] = df_test['Embarked'].astype('category')"
   ]
  },
  {
   "cell_type": "code",
   "execution_count": 14,
   "id": "1057ddfd",
   "metadata": {},
   "outputs": [
    {
     "name": "stdout",
     "output_type": "stream",
     "text": [
      "<class 'pandas.core.frame.DataFrame'>\n",
      "RangeIndex: 891 entries, 0 to 890\n",
      "Data columns (total 7 columns):\n",
      " #   Column    Non-Null Count  Dtype   \n",
      "---  ------    --------------  -----   \n",
      " 0   Survived  891 non-null    category\n",
      " 1   Pclass    891 non-null    category\n",
      " 2   Sex       891 non-null    category\n",
      " 3   Age       891 non-null    float64 \n",
      " 4   SibSp     891 non-null    int64   \n",
      " 5   Parch     891 non-null    int64   \n",
      " 6   Embarked  891 non-null    category\n",
      "dtypes: category(4), float64(1), int64(2)\n",
      "memory usage: 25.0 KB\n"
     ]
    }
   ],
   "source": [
    "df_train.info()"
   ]
  },
  {
   "cell_type": "code",
   "execution_count": 15,
   "id": "4a7db092",
   "metadata": {},
   "outputs": [
    {
     "name": "stdout",
     "output_type": "stream",
     "text": [
      "<class 'pandas.core.frame.DataFrame'>\n",
      "RangeIndex: 418 entries, 0 to 417\n",
      "Data columns (total 6 columns):\n",
      " #   Column    Non-Null Count  Dtype   \n",
      "---  ------    --------------  -----   \n",
      " 0   Pclass    418 non-null    category\n",
      " 1   Sex       418 non-null    category\n",
      " 2   Age       418 non-null    float64 \n",
      " 3   SibSp     418 non-null    int64   \n",
      " 4   Parch     418 non-null    int64   \n",
      " 5   Embarked  418 non-null    category\n",
      "dtypes: category(3), float64(1), int64(2)\n",
      "memory usage: 11.5 KB\n"
     ]
    }
   ],
   "source": [
    "df_test.info()"
   ]
  },
  {
   "cell_type": "markdown",
   "id": "793f9055",
   "metadata": {},
   "source": [
    "## Some Visualizations (Univariate)"
   ]
  },
  {
   "cell_type": "markdown",
   "id": "e133674b",
   "metadata": {},
   "source": [
    "The survived passengers"
   ]
  },
  {
   "cell_type": "code",
   "execution_count": 16,
   "id": "a273e5e0",
   "metadata": {},
   "outputs": [
    {
     "name": "stdout",
     "output_type": "stream",
     "text": [
      "Only 38.38% survived (total 891 passengers)\n"
     ]
    },
    {
     "data": {
      "image/png": "[encoded data removed]",
      "text/plain": [
       "<Figure size 640x480 with 1 Axes>"
      ]
     },
     "metadata": {},
     "output_type": "display_data"
    }
   ],
   "source": [
    "sns.countplot(data=df_train, x='Survived')\n",
    "\n",
    "survived_percentage = np.round((len(df_train[df_train['Survived'] == 1])/len(df_train))*100, 2)\n",
    "\n",
    "print(\"Only {}% survived (total {} passengers)\".format(survived_percentage, len(df_train)))"
   ]
  },
  {
   "cell_type": "markdown",
   "id": "0fcdca0c",
   "metadata": {},
   "source": [
    "The passenger classes"
   ]
  },
  {
   "cell_type": "code",
   "execution_count": 17,
   "id": "fa2362b8",
   "metadata": {},
   "outputs": [
    {
     "name": "stdout",
     "output_type": "stream",
     "text": [
      "24.24% in the upper deck and 55.11% in the lower deck\n"
     ]
    },
    {
     "data": {
      "image/png": "[encoded data removed]",
      "text/plain": [
       "<Figure size 640x480 with 1 Axes>"
      ]
     },
     "metadata": {},
     "output_type": "display_data"
    }
   ],
   "source": [
    "sns.countplot(data=df_train, x='Pclass')\n",
    "\n",
    "first_class = np.round(len(df_train[df_train['Pclass'] == 1])/len(df_train)*100, 2)\n",
    "second_class = np.round(len(df_train[df_train['Pclass'] == 2])/len(df_train)*100, 2)\n",
    "third_class = np.round(len(df_train[df_train['Pclass'] == 3])/len(df_train)*100, 2)\n",
    "\n",
    "print('{}% in the upper deck and {}% in the lower deck'.format(first_class, third_class))\n"
   ]
  },
  {
   "cell_type": "markdown",
   "id": "ab6e1c57",
   "metadata": {},
   "source": [
    "The sex distribution"
   ]
  },
  {
   "cell_type": "code",
   "execution_count": 18,
   "id": "80d94127",
   "metadata": {},
   "outputs": [
    {
     "name": "stdout",
     "output_type": "stream",
     "text": [
      "64.76% passengers are men (total 891 passengers)\n"
     ]
    },
    {
     "data": {
      "image/png": "[encoded data removed]",
      "text/plain": [
       "<Figure size 640x480 with 1 Axes>"
      ]
     },
     "metadata": {},
     "output_type": "display_data"
    }
   ],
   "source": [
    "sns.countplot(data=df_train, x='Sex')\n",
    "\n",
    "men_percentage = np.round((len(df_train[df_train['Sex'] == 'male'])/len(df_train))*100, 2)\n",
    "\n",
    "print(\"{}% passengers are men (total {} passengers)\".format(men_percentage, len(df_train)))"
   ]
  },
  {
   "cell_type": "markdown",
   "id": "509b2371",
   "metadata": {},
   "source": [
    "The age distribution"
   ]
  },
  {
   "cell_type": "code",
   "execution_count": 19,
   "id": "93a3c65d",
   "metadata": {},
   "outputs": [
    {
     "name": "stdout",
     "output_type": "stream",
     "text": [
      "The average and median of age distribution are equal (about 29.7 years old)\n"
     ]
    },
    {
     "data": {
      "image/png": "[encoded data removed]",
      "text/plain": [
       "<Figure size 750x500 with 1 Axes>"
      ]
     },
     "metadata": {},
     "output_type": "display_data"
    }
   ],
   "source": [
    "sns.displot(data=df_train, x='Age', kind=\"hist\", kde=True, aspect=1.5)\n",
    "plt.axvline(x=df_train['Age'].mean(), ymin=0, ymax=0.5, label='Mean', color=\"red\", linewidth=2.5)\n",
    "plt.axvline(x=df_train['Age'].median(), ymin=0, ymax=0.5, label='Median', color=\"blue\", linewidth=2.5)\n",
    "plt.legend()\n",
    "\n",
    "print('The average and median of age distribution are equal (about {} years old)'.format(np.round(df_train['Age'].mean(), 2)))"
   ]
  },
  {
   "cell_type": "markdown",
   "id": "8dce9546",
   "metadata": {},
   "source": [
    "Number of siblings or spouses"
   ]
  },
  {
   "cell_type": "code",
   "execution_count": 20,
   "id": "2ee61c33",
   "metadata": {},
   "outputs": [
    {
     "name": "stdout",
     "output_type": "stream",
     "text": [
      "68.24% passengers have no siblings or spuouses on the Titanic (total 891 passengers)\n"
     ]
    },
    {
     "data": {
      "image/png": "[encoded data removed]",
      "text/plain": [
       "<Figure size 640x480 with 1 Axes>"
      ]
     },
     "metadata": {},
     "output_type": "display_data"
    }
   ],
   "source": [
    "sns.countplot(data=df_train, x='SibSp')\n",
    "\n",
    "nosiblings_percentage = np.round((len(df_train[df_train['SibSp'] == 0])/len(df_train))*100, 2)\n",
    "\n",
    "print(\"{}% passengers have no siblings or spuouses on the Titanic (total {} passengers)\".format(nosiblings_percentage, len(df_train)))"
   ]
  },
  {
   "cell_type": "markdown",
   "id": "ce6da6af",
   "metadata": {},
   "source": [
    "Number of parents or children"
   ]
  },
  {
   "cell_type": "code",
   "execution_count": 21,
   "id": "a3efdce0",
   "metadata": {},
   "outputs": [
    {
     "name": "stdout",
     "output_type": "stream",
     "text": [
      "76.09% passengers have no parents or children on the Titanic (total 891 passengers)\n"
     ]
    },
    {
     "data": {
      "image/png": "[encoded data removed]",
      "text/plain": [
       "<Figure size 640x480 with 1 Axes>"
      ]
     },
     "metadata": {},
     "output_type": "display_data"
    }
   ],
   "source": [
    "sns.countplot(data=df_train, x='Parch')\n",
    "\n",
    "noparch_percentage = np.round((len(df_train[df_train['Parch'] == 0])/len(df_train))*100, 2)\n",
    "\n",
    "print(\"{}% passengers have no parents or children on the Titanic (total {} passengers)\".format(noparch_percentage, len(df_train)))"
   ]
  },
  {
   "cell_type": "markdown",
   "id": "cd8b3ceb",
   "metadata": {},
   "source": [
    "Location of embarkation"
   ]
  },
  {
   "cell_type": "code",
   "execution_count": 22,
   "id": "7e396fcd",
   "metadata": {},
   "outputs": [
    {
     "name": "stdout",
     "output_type": "stream",
     "text": [
      "72.28% passengers were embarked from Southampton (total 891 passengers)\n"
     ]
    },
    {
     "data": {
      "image/png": "[encoded data removed]",
      "text/plain": [
       "<Figure size 640x480 with 1 Axes>"
      ]
     },
     "metadata": {},
     "output_type": "display_data"
    }
   ],
   "source": [
    "sns.countplot(data=df_train, x='Embarked')\n",
    "\n",
    "most_embarked_percentage = np.round((len(df_train[df_train['Embarked'] == 'S'])/len(df_train))*100, 2)\n",
    "\n",
    "print(\"{}% passengers were embarked from Southampton (total {} passengers)\".format(most_embarked_percentage, len(df_train)))"
   ]
  },
  {
   "cell_type": "markdown",
   "id": "3f6663f6",
   "metadata": {},
   "source": [
    "## More Visualizations (Multivariate)"
   ]
  },
  {
   "cell_type": "markdown",
   "id": "da4c0dc2",
   "metadata": {},
   "source": [
    "Survivors by `Pclass`"
   ]
  },
  {
   "cell_type": "code",
   "execution_count": 23,
   "id": "7254426b",
   "metadata": {},
   "outputs": [
    {
     "name": "stdout",
     "output_type": "stream",
     "text": [
      "372 are not survived in lower deck and 136 are survived in upper deck\n"
     ]
    },
    {
     "data": {
      "image/png": "[encoded data removed]",
      "text/plain": [
       "<Figure size 640x480 with 1 Axes>"
      ]
     },
     "metadata": {},
     "output_type": "display_data"
    }
   ],
   "source": [
    "sns.countplot(df_train['Survived'], hue=df_train['Pclass']) \n",
    "\n",
    "notsurvived_lower = len(df_train[(df_train['Survived'] == 0) & (df_train['Pclass'] == 3)])\n",
    "survived_upper = len(df_train[(df_train['Survived'] == 1) & (df_train['Pclass'] == 1)])\n",
    "\n",
    "print('{} are not survived in lower deck and {} are survived in upper deck'.format(notsurvived_lower, survived_upper))"
   ]
  },
  {
   "cell_type": "code",
   "execution_count": 24,
   "id": "9ea7439a",
   "metadata": {},
   "outputs": [
    {
     "data": {
      "text/plain": [
       "<seaborn.axisgrid.FacetGrid at 0x1b4489fb820>"
      ]
     },
     "execution_count": 24,
     "metadata": {},
     "output_type": "execute_result"
    },
    {
     "data": {
      "image/png": "[encoded data removed]",
      "text/plain": [
       "<Figure size 500x500 with 1 Axes>"
      ]
     },
     "metadata": {},
     "output_type": "display_data"
    }
   ],
   "source": [
    "data = dataset_train\n",
    "\n",
    "data['cat_fare'] = pd.cut(data['Fare'], bins=[0, 8, 14, 30, 400], labels=[0, 1, 2, 3])\n",
    "\n",
    "sns.catplot(data=data, x='cat_fare',y='Survived',kind='point')"
   ]
  },
  {
   "cell_type": "markdown",
   "id": "49fce816",
   "metadata": {},
   "source": [
    "Survivors by `Sex`"
   ]
  },
  {
   "cell_type": "code",
   "execution_count": 25,
   "id": "3f57c284",
   "metadata": {},
   "outputs": [
    {
     "name": "stdout",
     "output_type": "stream",
     "text": [
      "468 men are not survived however 233 women are survived\n"
     ]
    },
    {
     "data": {
      "image/png": "[encoded data removed]",
      "text/plain": [
       "<Figure size 640x480 with 1 Axes>"
      ]
     },
     "metadata": {},
     "output_type": "display_data"
    }
   ],
   "source": [
    "sns.countplot(df_train['Survived'], hue=df_train['Sex']) \n",
    "\n",
    "notsurvived_male = len(df_train[(df_train['Survived'] == 0) & (df_train['Sex'] == 'male')])\n",
    "survived_women = len(df_train[(df_train['Survived'] == 1) & (df_train['Sex'] == 'female')])\n",
    "\n",
    "print('{} men are not survived however {} women are survived'.format(notsurvived_male, survived_women))"
   ]
  },
  {
   "cell_type": "markdown",
   "id": "c48fdd2d",
   "metadata": {},
   "source": [
    "Survivors by `Embarked`"
   ]
  },
  {
   "cell_type": "code",
   "execution_count": 26,
   "id": "34166a22",
   "metadata": {},
   "outputs": [
    {
     "name": "stdout",
     "output_type": "stream",
     "text": [
      "55.36% passengers from Cherbourg were survived where most of passengers from other places were not\n"
     ]
    },
    {
     "data": {
      "image/png": "[encoded data removed]",
      "text/plain": [
       "<Figure size 640x480 with 1 Axes>"
      ]
     },
     "metadata": {},
     "output_type": "display_data"
    }
   ],
   "source": [
    "sns.countplot(df_train['Embarked'], hue=df_train['Survived']) \n",
    "\n",
    "cherbourg_survived = np.round(len(df_train[(df_train['Embarked'] == 'C') & (df_train['Survived'] == 1)])/len(df_train[df_train['Embarked'] == 'C'])*100, 2) \n",
    "\n",
    "print(\"{}% passengers from Cherbourg were survived where most of passengers from other places were not\".format(cherbourg_survived))"
   ]
  },
  {
   "cell_type": "markdown",
   "id": "686be785",
   "metadata": {},
   "source": [
    "Passenger classes by embarkation place"
   ]
  },
  {
   "cell_type": "code",
   "execution_count": 27,
   "id": "39e7bd0a",
   "metadata": {},
   "outputs": [
    {
     "name": "stdout",
     "output_type": "stream",
     "text": [
      "Passengers from Queenstown are mostly in the lower deck\n"
     ]
    },
    {
     "data": {
      "image/png": "[encoded data removed]",
      "text/plain": [
       "<Figure size 640x480 with 1 Axes>"
      ]
     },
     "metadata": {},
     "output_type": "display_data"
    }
   ],
   "source": [
    "sns.countplot(df_train['Pclass'], hue=df_train['Embarked']) \n",
    "\n",
    "print('Passengers from Queenstown are mostly in the lower deck')"
   ]
  },
  {
   "cell_type": "markdown",
   "id": "9bff194a",
   "metadata": {},
   "source": [
    "Survivors by `Age`"
   ]
  },
  {
   "cell_type": "code",
   "execution_count": 28,
   "id": "9a77f74d",
   "metadata": {},
   "outputs": [
    {
     "name": "stdout",
     "output_type": "stream",
     "text": [
      "More than half passengers with age below 5 years old were survived\n"
     ]
    },
    {
     "data": {
      "image/png": "[encoded data removed]",
      "text/plain": [
       "<Figure size 822.111x500 with 1 Axes>"
      ]
     },
     "metadata": {},
     "output_type": "display_data"
    }
   ],
   "source": [
    "sns.displot(data=df_train, x='Age', hue=\"Survived\", kind=\"hist\", kde=True, fill=True, aspect=1.5)\n",
    "\n",
    "print(\"More than half passengers with age below 5 years old were survived\")"
   ]
  },
  {
   "cell_type": "markdown",
   "id": "ed21e2fd",
   "metadata": {},
   "source": [
    "Survived passengers by `Age`"
   ]
  },
  {
   "cell_type": "code",
   "execution_count": 29,
   "id": "121ea444",
   "metadata": {},
   "outputs": [
    {
     "data": {
      "text/plain": [
       "Text(0.5, 1.0, 'Survived passengers')"
      ]
     },
     "execution_count": 29,
     "metadata": {},
     "output_type": "execute_result"
    },
    {
     "data": {
      "image/png": "[encoded data removed]",
      "text/plain": [
       "<Figure size 848x500 with 1 Axes>"
      ]
     },
     "metadata": {},
     "output_type": "display_data"
    }
   ],
   "source": [
    "data = df_train[df_train['Survived'] == 1]\n",
    "\n",
    "sns.displot(data=data, x='Age', hue=\"Sex\", kind=\"hist\", kde=True, fill=True, aspect=1.5)\n",
    "\n",
    "plt.title(\"Survived passengers\")\n",
    "# print(\"More than half passengers with age below 5 years old were survived\")"
   ]
  },
  {
   "cell_type": "markdown",
   "id": "431148d3",
   "metadata": {},
   "source": [
    "Correlation map"
   ]
  },
  {
   "cell_type": "code",
   "execution_count": 30,
   "id": "592e6d7a",
   "metadata": {},
   "outputs": [
    {
     "name": "stdout",
     "output_type": "stream",
     "text": [
      "Relatives are least correlated (Siblings/spouses - Parents/children)\n"
     ]
    },
    {
     "data": {
      "image/png": "[encoded data removed]",
      "text/plain": [
       "<Figure size 640x480 with 2 Axes>"
      ]
     },
     "metadata": {},
     "output_type": "display_data"
    }
   ],
   "source": [
    "sns.heatmap(df_train.corr())\n",
    "\n",
    "print(\"Relatives are least correlated (Siblings/spouses - Parents/children)\")"
   ]
  },
  {
   "cell_type": "markdown",
   "id": "ba43e539",
   "metadata": {},
   "source": [
    "## Features Engineering"
   ]
  },
  {
   "cell_type": "markdown",
   "id": "2c7ffe7c",
   "metadata": {},
   "source": [
    "**Feature types** <br>\n",
    "    * **Categorical** : Survived, Pclass, Sex, SibSp, Parch, Embarked <br>\n",
    "    * **Numerical** : Age <br>  \n",
    "    \n",
    "Let's encode `Sex` and `Embarked` by using **LabelEncoder** and rescale the `Age` by using **StandardScaler**."
   ]
  },
  {
   "cell_type": "code",
   "execution_count": 31,
   "id": "90ac00cb",
   "metadata": {},
   "outputs": [],
   "source": [
    "encoder = LabelEncoder()\n",
    "scaler = StandardScaler()\n",
    "\n",
    "train_encoded_sex = encoder.fit_transform(df_train['Sex'].values)\n",
    "train_encoded_embarked = encoder.fit_transform(df_train['Embarked'].values)\n",
    "test_encoded_sex = encoder.fit_transform(df_test['Sex'].values)\n",
    "test_encoded_embarked = encoder.fit_transform(df_test['Embarked'].values)\n",
    "\n",
    "df_train['encoded_sex'] = train_encoded_sex\n",
    "df_train['encoded_embarked'] = train_encoded_embarked\n",
    "df_test['encoded_sex'] = test_encoded_sex\n",
    "df_test['encoded_embarked'] = test_encoded_embarked\n",
    "\n",
    "df_train['encoded_sex'] = df_train['encoded_sex'].astype('category')\n",
    "df_train['encoded_embarked'] = df_train['encoded_embarked'].astype('category')\n",
    "df_test['encoded_sex'] = df_test['encoded_sex'].astype('category')\n",
    "df_test['encoded_embarked'] = df_test['encoded_embarked'].astype('category')\n",
    "\n",
    "train_scaled_age = scaler.fit_transform(np.asarray(df_train['Age']).reshape(-1, 1))\n",
    "test_scaled_age = scaler.fit_transform(np.asarray(df_test['Age']).reshape(-1, 1))\n",
    "\n",
    "df_train['scaled_age'] = train_scaled_age.reshape(-1)\n",
    "df_test['scaled_age'] = test_scaled_age.reshape(-1)"
   ]
  },
  {
   "cell_type": "code",
   "execution_count": 32,
   "id": "7aef1a06",
   "metadata": {},
   "outputs": [],
   "source": [
    "df_train = df_train.drop(['Sex', 'Embarked', 'Age'], axis=1)\n",
    "df_test = df_test.drop(['Sex', 'Embarked', 'Age'], axis=1)"
   ]
  },
  {
   "cell_type": "markdown",
   "id": "6c332c0b",
   "metadata": {},
   "source": [
    "## Let's Get It Started!"
   ]
  },
  {
   "cell_type": "markdown",
   "id": "862adaf9",
   "metadata": {},
   "source": [
    "### Logistic Regression (aka logit, MaxEnt) Classifier"
   ]
  },
  {
   "cell_type": "markdown",
   "id": "52545710",
   "metadata": {},
   "source": [
    "Define independent and dependent (target) features"
   ]
  },
  {
   "cell_type": "code",
   "execution_count": 33,
   "id": "48da762a",
   "metadata": {},
   "outputs": [],
   "source": [
    "y = df_train['Survived']\n",
    "X = df_train.drop('Survived', axis=1)\n",
    "\n",
    "# Divide train dataset into train and validation sets\n",
    "X_train, X_valid, y_train, y_valid = train_test_split(X, y, test_size=0.25, random_state=2022)"
   ]
  },
  {
   "cell_type": "markdown",
   "id": "6e9fc3b5",
   "metadata": {},
   "source": [
    "Define the model"
   ]
  },
  {
   "cell_type": "code",
   "execution_count": 34,
   "id": "81d476b0",
   "metadata": {},
   "outputs": [],
   "source": [
    "model = LogisticRegression(max_iter=1000, n_jobs=2, random_state=2022)"
   ]
  },
  {
   "cell_type": "markdown",
   "id": "7d179d19",
   "metadata": {},
   "source": [
    "Fit the model"
   ]
  },
  {
   "cell_type": "code",
   "execution_count": 35,
   "id": "4bf61bee",
   "metadata": {},
   "outputs": [
    {
     "data": {
      "text/html": [
       "<style>#sk-container-id-1 {color: black;background-color: white;}#sk-container-id-1 pre{padding: 0;}#sk-container-id-1 div.sk-toggleable {background-color: white;}#sk-container-id-1 label.sk-toggleable__label {cursor: pointer;display: block;width: 100%;margin-bottom: 0;padding: 0.3em;box-sizing: border-box;text-align: center;}#sk-container-id-1 label.sk-toggleable__label-arrow:before {content: \"▸\";float: left;margin-right: 0.25em;color: #696969;}#sk-container-id-1 label.sk-toggleable__label-arrow:hover:before {color: black;}#sk-container-id-1 div.sk-estimator:hover label.sk-toggleable__label-arrow:before {color: black;}#sk-container-id-1 div.sk-toggleable__content {max-height: 0;max-width: 0;overflow: hidden;text-align: left;background-color: #f0f8ff;}#sk-container-id-1 div.sk-toggleable__content pre {margin: 0.2em;color: black;border-radius: 0.25em;background-color: #f0f8ff;}#sk-container-id-1 input.sk-toggleable__control:checked~div.sk-toggleable__content {max-height: 200px;max-width: 100%;overflow: auto;}#sk-container-id-1 input.sk-toggleable__control:checked~label.sk-toggleable__label-arrow:before {content: \"▾\";}#sk-container-id-1 div.sk-estimator input.sk-toggleable__control:checked~label.sk-toggleable__label {background-color: #d4ebff;}#sk-container-id-1 div.sk-label input.sk-toggleable__control:checked~label.sk-toggleable__label {background-color: #d4ebff;}#sk-container-id-1 input.sk-hidden--visually {border: 0;clip: rect(1px 1px 1px 1px);clip: rect(1px, 1px, 1px, 1px);height: 1px;margin: -1px;overflow: hidden;padding: 0;position: absolute;width: 1px;}#sk-container-id-1 div.sk-estimator {font-family: monospace;background-color: #f0f8ff;border: 1px dotted black;border-radius: 0.25em;box-sizing: border-box;margin-bottom: 0.5em;}#sk-container-id-1 div.sk-estimator:hover {background-color: #d4ebff;}#sk-container-id-1 div.sk-parallel-item::after {content: \"\";width: 100%;border-bottom: 1px solid gray;flex-grow: 1;}#sk-container-id-1 div.sk-label:hover label.sk-toggleable__label {background-color: #d4ebff;}#sk-container-id-1 div.sk-serial::before {content: \"\";position: absolute;border-left: 1px solid gray;box-sizing: border-box;top: 0;bottom: 0;left: 50%;z-index: 0;}#sk-container-id-1 div.sk-serial {display: flex;flex-direction: column;align-items: center;background-color: white;padding-right: 0.2em;padding-left: 0.2em;position: relative;}#sk-container-id-1 div.sk-item {position: relative;z-index: 1;}#sk-container-id-1 div.sk-parallel {display: flex;align-items: stretch;justify-content: center;background-color: white;position: relative;}#sk-container-id-1 div.sk-item::before, #sk-container-id-1 div.sk-parallel-item::before {content: \"\";position: absolute;border-left: 1px solid gray;box-sizing: border-box;top: 0;bottom: 0;left: 50%;z-index: -1;}#sk-container-id-1 div.sk-parallel-item {display: flex;flex-direction: column;z-index: 1;position: relative;background-color: white;}#sk-container-id-1 div.sk-parallel-item:first-child::after {align-self: flex-end;width: 50%;}#sk-container-id-1 div.sk-parallel-item:last-child::after {align-self: flex-start;width: 50%;}#sk-container-id-1 div.sk-parallel-item:only-child::after {width: 0;}#sk-container-id-1 div.sk-dashed-wrapped {border: 1px dashed gray;margin: 0 0.4em 0.5em 0.4em;box-sizing: border-box;padding-bottom: 0.4em;background-color: white;}#sk-container-id-1 div.sk-label label {font-family: monospace;font-weight: bold;display: inline-block;line-height: 1.2em;}#sk-container-id-1 div.sk-label-container {text-align: center;}#sk-container-id-1 div.sk-container {/* jupyter's `normalize.less` sets `[hidden] { display: none; }` but bootstrap.min.css set `[hidden] { display: none !important; }` so we also need the `!important` here to be able to override the default hidden behavior on the sphinx rendered scikit-learn.org. See: https://github.com/scikit-learn/scikit-learn/issues/21755 */display: inline-block !important;position: relative;}#sk-container-id-1 div.sk-text-repr-fallback {display: none;}</style><div id=\"sk-container-id-1\" class=\"sk-top-container\"><div class=\"sk-text-repr-fallback\"><pre>LogisticRegression(max_iter=1000, n_jobs=2, random_state=2022)</pre><b>In a Jupyter environment, please rerun this cell to show the HTML representation or trust the notebook. <br />On GitHub, the HTML representation is unable to render, please try loading this page with nbviewer.org.</b></div><div class=\"sk-container\" hidden><div class=\"sk-item\"><div class=\"sk-estimator sk-toggleable\"><input class=\"sk-toggleable__control sk-hidden--visually\" id=\"sk-estimator-id-1\" type=\"checkbox\" checked><label for=\"sk-estimator-id-1\" class=\"sk-toggleable__label sk-toggleable__label-arrow\">LogisticRegression</label><div class=\"sk-toggleable__content\"><pre>LogisticRegression(max_iter=1000, n_jobs=2, random_state=2022)</pre></div></div></div></div></div>"
      ],
      "text/plain": [
       "LogisticRegression(max_iter=1000, n_jobs=2, random_state=2022)"
      ]
     },
     "execution_count": 35,
     "metadata": {},
     "output_type": "execute_result"
    }
   ],
   "source": [
    "model.fit(X_train, y_train)"
   ]
  },
  {
   "cell_type": "markdown",
   "id": "61ba63ef",
   "metadata": {},
   "source": [
    "Predict the validation sets"
   ]
  },
  {
   "cell_type": "code",
   "execution_count": 36,
   "id": "fb245819",
   "metadata": {},
   "outputs": [],
   "source": [
    "predictions = model.predict(X_valid)"
   ]
  },
  {
   "cell_type": "code",
   "execution_count": 37,
   "id": "8bbe4c25",
   "metadata": {},
   "outputs": [
    {
     "data": {
      "text/plain": [
       "0.8251121076233184"
      ]
     },
     "execution_count": 37,
     "metadata": {},
     "output_type": "execute_result"
    }
   ],
   "source": [
    "model.score(X_valid, y_valid)"
   ]
  },
  {
   "cell_type": "markdown",
   "id": "054e30ef",
   "metadata": {},
   "source": [
    "Checking the accuracy"
   ]
  },
  {
   "cell_type": "code",
   "execution_count": 38,
   "id": "8a87e1a9",
   "metadata": {},
   "outputs": [
    {
     "data": {
      "text/plain": [
       "0.8251121076233184"
      ]
     },
     "execution_count": 38,
     "metadata": {},
     "output_type": "execute_result"
    }
   ],
   "source": [
    "accuracy_score(y_valid, predictions)"
   ]
  },
  {
   "cell_type": "code",
   "execution_count": 39,
   "id": "d4767f3d",
   "metadata": {},
   "outputs": [
    {
     "data": {
      "text/plain": [
       "array([[125,  18],\n",
       "       [ 21,  59]], dtype=int64)"
      ]
     },
     "execution_count": 39,
     "metadata": {},
     "output_type": "execute_result"
    }
   ],
   "source": [
    "confusion_matrix(y_valid, predictions)"
   ]
  },
  {
   "cell_type": "markdown",
   "id": "2f55a03a",
   "metadata": {},
   "source": [
    "Predict the test set"
   ]
  },
  {
   "cell_type": "code",
   "execution_count": 40,
   "id": "f6f71cd4",
   "metadata": {},
   "outputs": [],
   "source": [
    "test_predictions = model.predict(df_test)"
   ]
  },
  {
   "cell_type": "code",
   "execution_count": 41,
   "id": "0f89ded9",
   "metadata": {},
   "outputs": [
    {
     "data": {
      "text/plain": [
       "0.9401913875598086"
      ]
     },
     "execution_count": 41,
     "metadata": {},
     "output_type": "execute_result"
    }
   ],
   "source": [
    "accuracy_score(dataset_result['Survived'].values, test_predictions)"
   ]
  },
  {
   "cell_type": "code",
   "execution_count": 42,
   "id": "925a01bb",
   "metadata": {},
   "outputs": [
    {
     "data": {
      "text/plain": [
       "array([[251,  15],\n",
       "       [ 10, 142]], dtype=int64)"
      ]
     },
     "execution_count": 42,
     "metadata": {},
     "output_type": "execute_result"
    }
   ],
   "source": [
    "confusion_matrix(dataset_result['Survived'].values, test_predictions)"
   ]
  },
  {
   "cell_type": "code",
   "execution_count": 43,
   "id": "3989af16",
   "metadata": {},
   "outputs": [],
   "source": [
    "ds = pd.DataFrame({\"PassengerId\":dataset_test['PassengerId'].values,\n",
    "                  \"Survived\": test_predictions,\n",
    "                  })"
   ]
  },
  {
   "cell_type": "code",
   "execution_count": 44,
   "id": "eecdb0d0",
   "metadata": {},
   "outputs": [
    {
     "data": {
      "text/html": [
       "<div>\n",
       "<style scoped>\n",
       "    .dataframe tbody tr th:only-of-type {\n",
       "        vertical-align: middle;\n",
       "    }\n",
       "\n",
       "    .dataframe tbody tr th {\n",
       "        vertical-align: top;\n",
       "    }\n",
       "\n",
       "    .dataframe thead th {\n",
       "        text-align: right;\n",
       "    }\n",
       "</style>\n",
       "<table border=\"1\" class=\"dataframe\">\n",
       "  <thead>\n",
       "    <tr style=\"text-align: right;\">\n",
       "      <th></th>\n",
       "      <th>PassengerId</th>\n",
       "      <th>Survived</th>\n",
       "    </tr>\n",
       "  </thead>\n",
       "  <tbody>\n",
       "    <tr>\n",
       "      <th>0</th>\n",
       "      <td>892</td>\n",
       "      <td>0</td>\n",
       "    </tr>\n",
       "    <tr>\n",
       "      <th>1</th>\n",
       "      <td>893</td>\n",
       "      <td>0</td>\n",
       "    </tr>\n",
       "    <tr>\n",
       "      <th>2</th>\n",
       "      <td>894</td>\n",
       "      <td>0</td>\n",
       "    </tr>\n",
       "    <tr>\n",
       "      <th>3</th>\n",
       "      <td>895</td>\n",
       "      <td>0</td>\n",
       "    </tr>\n",
       "    <tr>\n",
       "      <th>4</th>\n",
       "      <td>896</td>\n",
       "      <td>1</td>\n",
       "    </tr>\n",
       "  </tbody>\n",
       "</table>\n",
       "</div>"
      ],
      "text/plain": [
       "   PassengerId  Survived\n",
       "0          892         0\n",
       "1          893         0\n",
       "2          894         0\n",
       "3          895         0\n",
       "4          896         1"
      ]
     },
     "execution_count": 44,
     "metadata": {},
     "output_type": "execute_result"
    }
   ],
   "source": [
    "ds.head()"
   ]
  },
  {
   "cell_type": "markdown",
   "id": "40a89882",
   "metadata": {},
   "source": [
    "### CatBoostClassifier (Classification using Gradient Boosting on Decision Trees)"
   ]
  },
  {
   "cell_type": "markdown",
   "id": "e3ea00f6",
   "metadata": {},
   "source": [
    "Define independent and dependent (target) features"
   ]
  },
  {
   "cell_type": "code",
   "execution_count": 45,
   "id": "a666eb2c",
   "metadata": {},
   "outputs": [],
   "source": [
    "y = df_train['Survived']\n",
    "X = df_train.drop('Survived', axis=1)\n",
    "\n",
    "# Divide train dataset into train and validation sets\n",
    "X_train, X_valid, y_train, y_valid = train_test_split(X, y, test_size=0.25, random_state=2022)"
   ]
  },
  {
   "cell_type": "markdown",
   "id": "39af6bb3",
   "metadata": {},
   "source": [
    "Define the model"
   ]
  },
  {
   "cell_type": "code",
   "execution_count": 46,
   "id": "08ddb18f",
   "metadata": {},
   "outputs": [],
   "source": [
    "model = cb.CatBoostClassifier(\n",
    "    iterations=10,\n",
    "    learning_rate=0.01,\n",
    "    depth=5,\n",
    "    loss_function=\"Logloss\",\n",
    "    eval_metric=\"Accuracy\",\n",
    "    random_state=2022\n",
    ")"
   ]
  },
  {
   "cell_type": "markdown",
   "id": "d11d0a28",
   "metadata": {},
   "source": [
    "Fit the model"
   ]
  },
  {
   "cell_type": "code",
   "execution_count": 47,
   "id": "a2f18499",
   "metadata": {},
   "outputs": [],
   "source": [
    "cat_features = ['Pclass', 'SibSp', 'Parch', 'encoded_sex', 'encoded_embarked']"
   ]
  },
  {
   "cell_type": "code",
   "execution_count": 48,
   "id": "71040765",
   "metadata": {},
   "outputs": [
    {
     "name": "stdout",
     "output_type": "stream",
     "text": [
      "0:\tlearn: 0.7919162\ttest: 0.7802691\tbest: 0.7802691 (0)\ttotal: 156ms\tremaining: 1.4s\n",
      "1:\tlearn: 0.7859281\ttest: 0.7892377\tbest: 0.7892377 (1)\ttotal: 164ms\tremaining: 658ms\n",
      "2:\tlearn: 0.7859281\ttest: 0.7892377\tbest: 0.7892377 (1)\ttotal: 173ms\tremaining: 404ms\n",
      "3:\tlearn: 0.7889222\ttest: 0.7937220\tbest: 0.7937220 (3)\ttotal: 188ms\tremaining: 282ms\n",
      "4:\tlearn: 0.7904192\ttest: 0.7937220\tbest: 0.7937220 (3)\ttotal: 202ms\tremaining: 202ms\n",
      "5:\tlearn: 0.7889222\ttest: 0.7937220\tbest: 0.7937220 (3)\ttotal: 210ms\tremaining: 140ms\n",
      "6:\tlearn: 0.7829341\ttest: 0.8026906\tbest: 0.8026906 (6)\ttotal: 220ms\tremaining: 94.1ms\n",
      "7:\tlearn: 0.7829341\ttest: 0.8026906\tbest: 0.8026906 (6)\ttotal: 230ms\tremaining: 57.5ms\n",
      "8:\tlearn: 0.7814371\ttest: 0.8026906\tbest: 0.8026906 (6)\ttotal: 240ms\tremaining: 26.6ms\n",
      "9:\tlearn: 0.7814371\ttest: 0.8026906\tbest: 0.8026906 (6)\ttotal: 245ms\tremaining: 0us\n",
      "\n",
      "bestTest = 0.802690583\n",
      "bestIteration = 6\n",
      "\n",
      "Shrink model to first 7 iterations.\n"
     ]
    },
    {
     "data": {
      "text/plain": [
       "<catboost.core.CatBoostClassifier at 0x1b448a7f700>"
      ]
     },
     "execution_count": 48,
     "metadata": {},
     "output_type": "execute_result"
    }
   ],
   "source": [
    "model.fit(X_train, y_train, cat_features=cat_features, plot=False, eval_set=(X_valid, y_valid))"
   ]
  },
  {
   "cell_type": "markdown",
   "id": "eb7a98c1",
   "metadata": {},
   "source": [
    "Predict the validation sets"
   ]
  },
  {
   "cell_type": "code",
   "execution_count": 49,
   "id": "3d7d2de9",
   "metadata": {},
   "outputs": [],
   "source": [
    "predictions = model.predict(X_valid)"
   ]
  },
  {
   "cell_type": "markdown",
   "id": "66e6054a",
   "metadata": {},
   "source": [
    "Checking the accuracy"
   ]
  },
  {
   "cell_type": "code",
   "execution_count": 50,
   "id": "233a4b08",
   "metadata": {},
   "outputs": [
    {
     "data": {
      "text/plain": [
       "0.8026905829596412"
      ]
     },
     "execution_count": 50,
     "metadata": {},
     "output_type": "execute_result"
    }
   ],
   "source": [
    "accuracy_score(y_valid, predictions)"
   ]
  },
  {
   "cell_type": "code",
   "execution_count": 51,
   "id": "cc629149",
   "metadata": {},
   "outputs": [
    {
     "data": {
      "text/plain": [
       "array([[123,  20],\n",
       "       [ 24,  56]], dtype=int64)"
      ]
     },
     "execution_count": 51,
     "metadata": {},
     "output_type": "execute_result"
    }
   ],
   "source": [
    "confusion_matrix(y_valid, predictions)"
   ]
  },
  {
   "cell_type": "markdown",
   "id": "62e926cf",
   "metadata": {},
   "source": [
    "Predict the test set"
   ]
  },
  {
   "cell_type": "code",
   "execution_count": 52,
   "id": "a752423d",
   "metadata": {},
   "outputs": [],
   "source": [
    "test_predictions = model.predict(df_test)"
   ]
  },
  {
   "cell_type": "code",
   "execution_count": 53,
   "id": "35bae590",
   "metadata": {},
   "outputs": [
    {
     "data": {
      "text/plain": [
       "1.0"
      ]
     },
     "execution_count": 53,
     "metadata": {},
     "output_type": "execute_result"
    }
   ],
   "source": [
    "accuracy_score(dataset_result['Survived'].values, test_predictions)"
   ]
  },
  {
   "cell_type": "code",
   "execution_count": 54,
   "id": "c5cf6b98",
   "metadata": {},
   "outputs": [
    {
     "data": {
      "text/plain": [
       "array([[266,   0],\n",
       "       [  0, 152]], dtype=int64)"
      ]
     },
     "execution_count": 54,
     "metadata": {},
     "output_type": "execute_result"
    }
   ],
   "source": [
    "confusion_matrix(dataset_result['Survived'].values, test_predictions)"
   ]
  },
  {
   "cell_type": "code",
   "execution_count": 55,
   "id": "6527b1d0",
   "metadata": {},
   "outputs": [],
   "source": [
    "ds = pd.DataFrame({\"PassengerId\":dataset_test['PassengerId'].values,\n",
    "                  \"Survived\": test_predictions,\n",
    "                  })"
   ]
  },
  {
   "cell_type": "code",
   "execution_count": 56,
   "id": "351d07e0",
   "metadata": {},
   "outputs": [
    {
     "data": {
      "text/html": [
       "<div>\n",
       "<style scoped>\n",
       "    .dataframe tbody tr th:only-of-type {\n",
       "        vertical-align: middle;\n",
       "    }\n",
       "\n",
       "    .dataframe tbody tr th {\n",
       "        vertical-align: top;\n",
       "    }\n",
       "\n",
       "    .dataframe thead th {\n",
       "        text-align: right;\n",
       "    }\n",
       "</style>\n",
       "<table border=\"1\" class=\"dataframe\">\n",
       "  <thead>\n",
       "    <tr style=\"text-align: right;\">\n",
       "      <th></th>\n",
       "      <th>PassengerId</th>\n",
       "      <th>Survived</th>\n",
       "    </tr>\n",
       "  </thead>\n",
       "  <tbody>\n",
       "    <tr>\n",
       "      <th>0</th>\n",
       "      <td>892</td>\n",
       "      <td>0</td>\n",
       "    </tr>\n",
       "    <tr>\n",
       "      <th>1</th>\n",
       "      <td>893</td>\n",
       "      <td>1</td>\n",
       "    </tr>\n",
       "    <tr>\n",
       "      <th>2</th>\n",
       "      <td>894</td>\n",
       "      <td>0</td>\n",
       "    </tr>\n",
       "    <tr>\n",
       "      <th>3</th>\n",
       "      <td>895</td>\n",
       "      <td>0</td>\n",
       "    </tr>\n",
       "    <tr>\n",
       "      <th>4</th>\n",
       "      <td>896</td>\n",
       "      <td>1</td>\n",
       "    </tr>\n",
       "  </tbody>\n",
       "</table>\n",
       "</div>"
      ],
      "text/plain": [
       "   PassengerId  Survived\n",
       "0          892         0\n",
       "1          893         1\n",
       "2          894         0\n",
       "3          895         0\n",
       "4          896         1"
      ]
     },
     "execution_count": 56,
     "metadata": {},
     "output_type": "execute_result"
    }
   ],
   "source": [
    "ds.head()"
   ]
  },
  {
   "cell_type": "markdown",
   "id": "b672926d",
   "metadata": {},
   "source": [
    "### Random Forest"
   ]
  },
  {
   "cell_type": "code",
   "execution_count": 57,
   "id": "6d1e79c7",
   "metadata": {},
   "outputs": [],
   "source": [
    "model = RandomForestClassifier(n_estimators=100, max_depth=3, random_state=2)"
   ]
  }
 ],
 "metadata": {
  "kernelspec": {
   "display_name": "Python 3 (ipykernel)",
   "language": "python",
   "name": "python3"
  },
  "language_info": {
   "codemirror_mode": {
    "name": "ipython",
    "version": 3
   },
   "file_extension": ".py",
   "mimetype": "text/x-python",
   "name": "python",
   "nbconvert_exporter": "python",
   "pygments_lexer": "ipython3",
   "version": "3.8.8"
  },
  "vscode": {
   "interpreter": {
    "hash": "88bfe685ae48d6b588350f55ffee6d369c6dc16004a8449bce6a42e664eafa62"
   }
  }
 },
 "nbformat": 4,
 "nbformat_minor": 5
}
