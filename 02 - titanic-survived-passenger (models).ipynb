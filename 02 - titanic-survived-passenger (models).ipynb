{
 "cells": [
  {
   "cell_type": "markdown",
   "id": "6dbfb198",
   "metadata": {},
   "source": [
    "# 02 - Tutorial Titanic Survived Passangers (Models Comparation) \n",
    "\n",
    "by: Irfan Imaduddin <br>\n",
    "contact: irfanimaduddin[at]gmail.com <br>\n",
    "\n",
    "---"
   ]
  },
  {
   "cell_type": "markdown",
   "id": "f372c252",
   "metadata": {},
   "source": [
    "## Setup"
   ]
  },
  {
   "cell_type": "markdown",
   "id": "f21e2af9",
   "metadata": {},
   "source": [
    "Import modules"
   ]
  },
  {
   "cell_type": "code",
   "execution_count": 1,
   "id": "53b2ed68",
   "metadata": {},
   "outputs": [],
   "source": [
    "import ipywidgets\n",
    "import numpy as np\n",
    "import pandas as pd\n",
    "\n",
    "import seaborn as sns\n",
    "import matplotlib.pyplot as plt\n",
    "\n",
    "from sklearn.model_selection import validation_curve\n",
    "from sklearn.metrics import (accuracy_score, \n",
    "                             confusion_matrix, \n",
    "                             ConfusionMatrixDisplay, \n",
    "                             classification_report, \n",
    "                             roc_auc_score, \n",
    "                             roc_curve)\n",
    "\n",
    "import warnings\n",
    "warnings.filterwarnings(\"ignore\")"
   ]
  },
  {
   "cell_type": "markdown",
   "id": "1fc81341",
   "metadata": {},
   "source": [
    "Read files"
   ]
  },
  {
   "cell_type": "code",
   "execution_count": 2,
   "id": "6b5a2e1a",
   "metadata": {},
   "outputs": [],
   "source": [
    "df_train = pd.read_csv(\"train_clean.csv\")\n",
    "df_test = pd.read_csv(\"test_clean.csv\")\n",
    "df_result = pd.read_csv(\"gender_submission.csv\")"
   ]
  },
  {
   "cell_type": "code",
   "execution_count": 3,
   "id": "088b6235",
   "metadata": {},
   "outputs": [],
   "source": [
    "df_train['Survived'] = df_train['Survived'].astype('category')\n",
    "df_train['Pclass'] = df_train['Pclass'].astype('category')\n",
    "df_train['Cat_family'] = df_train['Cat_family'].astype('category')\n",
    "df_train['encoded_sex'] = df_train['encoded_sex'].astype('category')\n",
    "df_train['encoded_embarked'] = df_train['encoded_embarked'].astype('category')\n",
    "\n",
    "df_test['Pclass'] = df_test['Pclass'].astype('category')\n",
    "df_test['Cat_family'] = df_test['Cat_family'].astype('category')\n",
    "df_test['encoded_sex'] = df_test['encoded_sex'].astype('category')\n",
    "df_test['encoded_embarked'] = df_test['encoded_embarked'].astype('category')"
   ]
  },
  {
   "cell_type": "markdown",
   "id": "46013277",
   "metadata": {},
   "source": [
    "## Inspect Data"
   ]
  },
  {
   "cell_type": "code",
   "execution_count": 4,
   "id": "8a35f58d",
   "metadata": {},
   "outputs": [
    {
     "data": {
      "text/html": [
       "<div>\n",
       "<style scoped>\n",
       "    .dataframe tbody tr th:only-of-type {\n",
       "        vertical-align: middle;\n",
       "    }\n",
       "\n",
       "    .dataframe tbody tr th {\n",
       "        vertical-align: top;\n",
       "    }\n",
       "\n",
       "    .dataframe thead th {\n",
       "        text-align: right;\n",
       "    }\n",
       "</style>\n",
       "<table border=\"1\" class=\"dataframe\">\n",
       "  <thead>\n",
       "    <tr style=\"text-align: right;\">\n",
       "      <th></th>\n",
       "      <th>Survived</th>\n",
       "      <th>Pclass</th>\n",
       "      <th>Cat_family</th>\n",
       "      <th>encoded_sex</th>\n",
       "      <th>encoded_embarked</th>\n",
       "      <th>scaled_age</th>\n",
       "    </tr>\n",
       "  </thead>\n",
       "  <tbody>\n",
       "    <tr>\n",
       "      <th>0</th>\n",
       "      <td>0</td>\n",
       "      <td>3</td>\n",
       "      <td>1</td>\n",
       "      <td>1</td>\n",
       "      <td>2</td>\n",
       "      <td>-0.565736</td>\n",
       "    </tr>\n",
       "    <tr>\n",
       "      <th>1</th>\n",
       "      <td>1</td>\n",
       "      <td>1</td>\n",
       "      <td>1</td>\n",
       "      <td>0</td>\n",
       "      <td>0</td>\n",
       "      <td>0.663861</td>\n",
       "    </tr>\n",
       "    <tr>\n",
       "      <th>2</th>\n",
       "      <td>1</td>\n",
       "      <td>3</td>\n",
       "      <td>1</td>\n",
       "      <td>0</td>\n",
       "      <td>2</td>\n",
       "      <td>-0.258337</td>\n",
       "    </tr>\n",
       "    <tr>\n",
       "      <th>3</th>\n",
       "      <td>1</td>\n",
       "      <td>1</td>\n",
       "      <td>1</td>\n",
       "      <td>0</td>\n",
       "      <td>2</td>\n",
       "      <td>0.433312</td>\n",
       "    </tr>\n",
       "    <tr>\n",
       "      <th>4</th>\n",
       "      <td>0</td>\n",
       "      <td>3</td>\n",
       "      <td>1</td>\n",
       "      <td>1</td>\n",
       "      <td>2</td>\n",
       "      <td>0.433312</td>\n",
       "    </tr>\n",
       "  </tbody>\n",
       "</table>\n",
       "</div>"
      ],
      "text/plain": [
       "  Survived Pclass Cat_family encoded_sex encoded_embarked  scaled_age\n",
       "0        0      3          1           1                2   -0.565736\n",
       "1        1      1          1           0                0    0.663861\n",
       "2        1      3          1           0                2   -0.258337\n",
       "3        1      1          1           0                2    0.433312\n",
       "4        0      3          1           1                2    0.433312"
      ]
     },
     "execution_count": 4,
     "metadata": {},
     "output_type": "execute_result"
    }
   ],
   "source": [
    "df_train.head()"
   ]
  },
  {
   "cell_type": "code",
   "execution_count": 5,
   "id": "a7229c2a",
   "metadata": {},
   "outputs": [
    {
     "name": "stdout",
     "output_type": "stream",
     "text": [
      "<class 'pandas.core.frame.DataFrame'>\n",
      "RangeIndex: 891 entries, 0 to 890\n",
      "Data columns (total 6 columns):\n",
      " #   Column            Non-Null Count  Dtype   \n",
      "---  ------            --------------  -----   \n",
      " 0   Survived          891 non-null    category\n",
      " 1   Pclass            891 non-null    category\n",
      " 2   Cat_family        891 non-null    category\n",
      " 3   encoded_sex       891 non-null    category\n",
      " 4   encoded_embarked  891 non-null    category\n",
      " 5   scaled_age        891 non-null    float64 \n",
      "dtypes: category(5), float64(1)\n",
      "memory usage: 11.9 KB\n"
     ]
    }
   ],
   "source": [
    "df_train.info()"
   ]
  },
  {
   "cell_type": "code",
   "execution_count": 6,
   "id": "717975e9",
   "metadata": {},
   "outputs": [
    {
     "data": {
      "text/html": [
       "<div>\n",
       "<style scoped>\n",
       "    .dataframe tbody tr th:only-of-type {\n",
       "        vertical-align: middle;\n",
       "    }\n",
       "\n",
       "    .dataframe tbody tr th {\n",
       "        vertical-align: top;\n",
       "    }\n",
       "\n",
       "    .dataframe thead th {\n",
       "        text-align: right;\n",
       "    }\n",
       "</style>\n",
       "<table border=\"1\" class=\"dataframe\">\n",
       "  <thead>\n",
       "    <tr style=\"text-align: right;\">\n",
       "      <th></th>\n",
       "      <th>Pclass</th>\n",
       "      <th>Cat_family</th>\n",
       "      <th>encoded_sex</th>\n",
       "      <th>encoded_embarked</th>\n",
       "      <th>scaled_age</th>\n",
       "    </tr>\n",
       "  </thead>\n",
       "  <tbody>\n",
       "    <tr>\n",
       "      <th>0</th>\n",
       "      <td>3</td>\n",
       "      <td>1</td>\n",
       "      <td>1</td>\n",
       "      <td>1</td>\n",
       "      <td>0.386231</td>\n",
       "    </tr>\n",
       "    <tr>\n",
       "      <th>1</th>\n",
       "      <td>3</td>\n",
       "      <td>1</td>\n",
       "      <td>0</td>\n",
       "      <td>2</td>\n",
       "      <td>1.371370</td>\n",
       "    </tr>\n",
       "    <tr>\n",
       "      <th>2</th>\n",
       "      <td>2</td>\n",
       "      <td>1</td>\n",
       "      <td>1</td>\n",
       "      <td>1</td>\n",
       "      <td>2.553537</td>\n",
       "    </tr>\n",
       "    <tr>\n",
       "      <th>3</th>\n",
       "      <td>3</td>\n",
       "      <td>1</td>\n",
       "      <td>1</td>\n",
       "      <td>2</td>\n",
       "      <td>-0.204852</td>\n",
       "    </tr>\n",
       "    <tr>\n",
       "      <th>4</th>\n",
       "      <td>3</td>\n",
       "      <td>1</td>\n",
       "      <td>0</td>\n",
       "      <td>2</td>\n",
       "      <td>-0.598908</td>\n",
       "    </tr>\n",
       "  </tbody>\n",
       "</table>\n",
       "</div>"
      ],
      "text/plain": [
       "  Pclass Cat_family encoded_sex encoded_embarked  scaled_age\n",
       "0      3          1           1                1    0.386231\n",
       "1      3          1           0                2    1.371370\n",
       "2      2          1           1                1    2.553537\n",
       "3      3          1           1                2   -0.204852\n",
       "4      3          1           0                2   -0.598908"
      ]
     },
     "execution_count": 6,
     "metadata": {},
     "output_type": "execute_result"
    }
   ],
   "source": [
    "df_test.head()"
   ]
  },
  {
   "cell_type": "code",
   "execution_count": 7,
   "id": "46114467",
   "metadata": {},
   "outputs": [
    {
     "name": "stdout",
     "output_type": "stream",
     "text": [
      "<class 'pandas.core.frame.DataFrame'>\n",
      "RangeIndex: 418 entries, 0 to 417\n",
      "Data columns (total 5 columns):\n",
      " #   Column            Non-Null Count  Dtype   \n",
      "---  ------            --------------  -----   \n",
      " 0   Pclass            418 non-null    category\n",
      " 1   Cat_family        418 non-null    category\n",
      " 2   encoded_sex       418 non-null    category\n",
      " 3   encoded_embarked  418 non-null    category\n",
      " 4   scaled_age        418 non-null    float64 \n",
      "dtypes: category(4), float64(1)\n",
      "memory usage: 5.4 KB\n"
     ]
    }
   ],
   "source": [
    "df_test.info()"
   ]
  },
  {
   "cell_type": "code",
   "execution_count": 8,
   "id": "6077976c",
   "metadata": {},
   "outputs": [
    {
     "data": {
      "text/html": [
       "<div>\n",
       "<style scoped>\n",
       "    .dataframe tbody tr th:only-of-type {\n",
       "        vertical-align: middle;\n",
       "    }\n",
       "\n",
       "    .dataframe tbody tr th {\n",
       "        vertical-align: top;\n",
       "    }\n",
       "\n",
       "    .dataframe thead th {\n",
       "        text-align: right;\n",
       "    }\n",
       "</style>\n",
       "<table border=\"1\" class=\"dataframe\">\n",
       "  <thead>\n",
       "    <tr style=\"text-align: right;\">\n",
       "      <th></th>\n",
       "      <th>PassengerId</th>\n",
       "      <th>Survived</th>\n",
       "    </tr>\n",
       "  </thead>\n",
       "  <tbody>\n",
       "    <tr>\n",
       "      <th>0</th>\n",
       "      <td>892</td>\n",
       "      <td>0</td>\n",
       "    </tr>\n",
       "    <tr>\n",
       "      <th>1</th>\n",
       "      <td>893</td>\n",
       "      <td>1</td>\n",
       "    </tr>\n",
       "    <tr>\n",
       "      <th>2</th>\n",
       "      <td>894</td>\n",
       "      <td>0</td>\n",
       "    </tr>\n",
       "    <tr>\n",
       "      <th>3</th>\n",
       "      <td>895</td>\n",
       "      <td>0</td>\n",
       "    </tr>\n",
       "    <tr>\n",
       "      <th>4</th>\n",
       "      <td>896</td>\n",
       "      <td>1</td>\n",
       "    </tr>\n",
       "  </tbody>\n",
       "</table>\n",
       "</div>"
      ],
      "text/plain": [
       "   PassengerId  Survived\n",
       "0          892         0\n",
       "1          893         1\n",
       "2          894         0\n",
       "3          895         0\n",
       "4          896         1"
      ]
     },
     "execution_count": 8,
     "metadata": {},
     "output_type": "execute_result"
    }
   ],
   "source": [
    "df_result.head()"
   ]
  },
  {
   "cell_type": "code",
   "execution_count": 9,
   "id": "c040746f",
   "metadata": {},
   "outputs": [
    {
     "name": "stdout",
     "output_type": "stream",
     "text": [
      "<class 'pandas.core.frame.DataFrame'>\n",
      "RangeIndex: 418 entries, 0 to 417\n",
      "Data columns (total 2 columns):\n",
      " #   Column       Non-Null Count  Dtype\n",
      "---  ------       --------------  -----\n",
      " 0   PassengerId  418 non-null    int64\n",
      " 1   Survived     418 non-null    int64\n",
      "dtypes: int64(2)\n",
      "memory usage: 6.7 KB\n"
     ]
    }
   ],
   "source": [
    "df_result.info()"
   ]
  },
  {
   "cell_type": "markdown",
   "id": "f56013b7",
   "metadata": {},
   "source": [
    "### Summary\n",
    "  \n",
    "1. **Variable Description** <br>\n",
    "    a. `Survived`: survival label as the **target** or **dependent** variable (`1` = survived passenger, `0` = not survived or died passenger). <br>\n",
    "    b. `Pclass`: passenger class. The values are `1`, `2` and `3` which represents for the first class (upper deck), the second class (middle deck) and the third class (lower deck), respectively. <br>\n",
    "    c. `Cat_family`: number of family abroad on the Titanic. Sum of number of siblings/spouses with parents/children. <br>\n",
    "    d. `encoded_sex`: encoded gender of passenger. (`1` for `male` and `0` for `female`) <br> \n",
    "    e. `encoded_embarked`: encoded port of embarkation for every passenger. `0` for `C` (Cherbourg), `1` for `Q` (Queenstown) and `2` for `S` (Southampton). <br>\n",
    "    f. `scaled_age`: scaled age of passenger using StandardScaler. <br><br>\n",
    "\n",
    "2. **Feature types** <br>\n",
    "    a. **Categorical** : `Survived`, `Pclass`, `Cat_family`, `encoded_sex`, `encoded_embarked`, `scaled_age` <br>\n",
    "    b. **Numerical** : `scaled_age` <br><br>\n",
    "\n",
    "3. **Length of dataset** <br>\n",
    "    a. `df_train` = 891 <br>\n",
    "    b. `df_test` = 418 <br>\n",
    "    c. `df_result` = 418 <br> <br>"
   ]
  },
  {
   "cell_type": "markdown",
   "id": "d39a2a1c",
   "metadata": {},
   "source": [
    "## Splitting Dataset"
   ]
  },
  {
   "cell_type": "markdown",
   "id": "52545710",
   "metadata": {},
   "source": [
    "Define independent and dependent (target) features"
   ]
  },
  {
   "cell_type": "code",
   "execution_count": 10,
   "id": "7befc732",
   "metadata": {},
   "outputs": [],
   "source": [
    "from sklearn.model_selection import train_test_split\n",
    "\n",
    "y = df_train['Survived']\n",
    "X = df_train.drop('Survived', axis=1)\n",
    "\n",
    "# Divide train dataset into train and validation sets\n",
    "X_train, X_valid, y_train, y_valid = train_test_split(\n",
    "    X, # Independent variables\n",
    "    y, # Dependent variable\n",
    "    test_size=0.25, # Fraction of test set\n",
    "    random_state=2022 # Random number seed\n",
    ")"
   ]
  },
  {
   "cell_type": "markdown",
   "id": "8affa0ff",
   "metadata": {},
   "source": [
    "## Run Individual Models\n",
    "\n",
    "Several models use in this notebook and will be compared are:\n",
    "* k-Nearest Neighbors\n",
    "* Naive Bayes\n",
    "* Logistic Regression\n",
    "* Decision Tree\n",
    "* Random Forest\n",
    "* Linear SVM\n",
    "* Non-linear SVM\n",
    "* Stochastic Gradient Descent\n",
    "* AdaBoostClassifier\n",
    "* CatBoostClassifier\n",
    "* XGBoostClassifier\n"
   ]
  },
  {
   "cell_type": "markdown",
   "id": "900f0178",
   "metadata": {},
   "source": [
    "### k-Nearest Neighbors"
   ]
  },
  {
   "cell_type": "markdown",
   "id": "7d356848",
   "metadata": {},
   "source": [
    "Training the model"
   ]
  },
  {
   "cell_type": "code",
   "execution_count": 11,
   "id": "bed4be12",
   "metadata": {},
   "outputs": [
    {
     "name": "stdout",
     "output_type": "stream",
     "text": [
      "Training accuracy = 83.86%\n"
     ]
    },
    {
     "data": {
      "image/png": "[encoded data removed]",
      "text/plain": [
       "<Figure size 432x288 with 2 Axes>"
      ]
     },
     "metadata": {
      "needs_background": "light"
     },
     "output_type": "display_data"
    }
   ],
   "source": [
    "from sklearn.neighbors import KNeighborsClassifier\n",
    "\n",
    "# Define model\n",
    "model = KNeighborsClassifier(\n",
    "    n_neighbors=15, # Number of neighbors to use\n",
    "    weights='uniform', # Weight function ('uniform or 'distance')\n",
    "    algorithm='auto', # ('auto', 'ball_tree', 'kd_tree', 'brute')\n",
    "    metric='manhattan', # The distance metric (\"minkowski\", \"euclidean\", \"manhattan\")\n",
    "    n_jobs=-1 # Number of parallel jobs to run\n",
    ")\n",
    "\n",
    "# Fit model\n",
    "model.fit(X_train, y_train)\n",
    "\n",
    "# Predic validation data\n",
    "predictions = model.predict(X_valid)\n",
    "\n",
    "# Check training accuracy\n",
    "print(\"Training accuracy = {}%\".format(np.round(accuracy_score(y_valid, predictions)*100, 2)))\n",
    "\n",
    "# Display confusion matrix\n",
    "ConfusionMatrixDisplay(confusion_matrix(y_valid, predictions)).plot()\n",
    "plt.show()"
   ]
  },
  {
   "cell_type": "markdown",
   "id": "aae43aa5",
   "metadata": {},
   "source": [
    "Testing the model"
   ]
  },
  {
   "cell_type": "code",
   "execution_count": 12,
   "id": "711f445c",
   "metadata": {},
   "outputs": [
    {
     "name": "stdout",
     "output_type": "stream",
     "text": [
      "Testing accuracy = 90.19%\n"
     ]
    },
    {
     "data": {
      "image/png": "[encoded data removed]",
      "text/plain": [
       "<Figure size 432x288 with 2 Axes>"
      ]
     },
     "metadata": {
      "needs_background": "light"
     },
     "output_type": "display_data"
    }
   ],
   "source": [
    "# Predict test data\n",
    "test_predictions = model.predict(df_test)\n",
    "\n",
    "# Check training accuracy\n",
    "print(\"Testing accuracy = {}%\".format(np.round(accuracy_score(df_result['Survived'], test_predictions)*100, 2)))\n",
    "\n",
    "# Display confusion matrix\n",
    "ConfusionMatrixDisplay(confusion_matrix(df_result['Survived'], test_predictions)).plot()\n",
    "plt.show()\n",
    "\n",
    "# Calculate ROC_AUC score\n",
    "auc_knn = roc_auc_score(df_result['Survived'], test_predictions)\n",
    "\n",
    "# Get values of ROC curve\n",
    "fpr_knn, tpr_knn, thresholds_knn = roc_curve(df_result['Survived'], test_predictions)"
   ]
  },
  {
   "cell_type": "markdown",
   "id": "751251eb",
   "metadata": {},
   "source": [
    "### Naive Bayes"
   ]
  },
  {
   "cell_type": "markdown",
   "id": "9908407b",
   "metadata": {},
   "source": [
    "Training the model"
   ]
  },
  {
   "cell_type": "code",
   "execution_count": 13,
   "id": "d6bb8bd9",
   "metadata": {},
   "outputs": [
    {
     "name": "stdout",
     "output_type": "stream",
     "text": [
      "Training accuracy = 81.17%\n"
     ]
    },
    {
     "data": {
      "image/png": "[encoded data removed]",
      "text/plain": [
       "<Figure size 432x288 with 2 Axes>"
      ]
     },
     "metadata": {
      "needs_background": "light"
     },
     "output_type": "display_data"
    }
   ],
   "source": [
    "from sklearn.naive_bayes import GaussianNB\n",
    "\n",
    "# Define model\n",
    "model = GaussianNB()\n",
    "\n",
    "# Fit model\n",
    "model.fit(X_train, y_train)\n",
    "\n",
    "# Predic validation data\n",
    "predictions = model.predict(X_valid)\n",
    "\n",
    "# Check training accuracy\n",
    "print(\"Training accuracy = {}%\".format(np.round(accuracy_score(y_valid, predictions)*100, 2)))\n",
    "\n",
    "# Display confusion matrix\n",
    "ConfusionMatrixDisplay(confusion_matrix(y_valid, predictions)).plot()\n",
    "plt.show()"
   ]
  },
  {
   "cell_type": "markdown",
   "id": "2c39d24e",
   "metadata": {},
   "source": [
    "Testing the model"
   ]
  },
  {
   "cell_type": "code",
   "execution_count": 14,
   "id": "f30f89fc",
   "metadata": {},
   "outputs": [
    {
     "name": "stdout",
     "output_type": "stream",
     "text": [
      "Testing accuracy = 89.71%\n"
     ]
    },
    {
     "data": {
      "image/png": "[encoded data removed]",
      "text/plain": [
       "<Figure size 432x288 with 2 Axes>"
      ]
     },
     "metadata": {
      "needs_background": "light"
     },
     "output_type": "display_data"
    }
   ],
   "source": [
    "# Predict test data\n",
    "test_predictions = model.predict(df_test)\n",
    "\n",
    "# Check training accuracy\n",
    "print(\"Testing accuracy = {}%\".format(np.round(accuracy_score(df_result['Survived'], test_predictions)*100, 2)))\n",
    "\n",
    "# Display confusion matrix\n",
    "ConfusionMatrixDisplay(confusion_matrix(df_result['Survived'], test_predictions)).plot()\n",
    "plt.show()\n",
    "\n",
    "# Calculate ROC_AUC score\n",
    "auc_nb = roc_auc_score(df_result['Survived'], test_predictions)\n",
    "\n",
    "# Get values of ROC curve\n",
    "fpr_nb, tpr_nb, thresholds_nb = roc_curve(df_result['Survived'], test_predictions)"
   ]
  },
  {
   "cell_type": "markdown",
   "id": "862adaf9",
   "metadata": {},
   "source": [
    "### Logistic Regression (aka logit, MaxEnt) Classifier\n",
    "\n",
    "[official documentation](https://scikit-learn.org/stable/modules/generated/sklearn.linear_model.LogisticRegression.html)"
   ]
  },
  {
   "cell_type": "markdown",
   "id": "6e9fc3b5",
   "metadata": {},
   "source": [
    "Training the model"
   ]
  },
  {
   "cell_type": "code",
   "execution_count": 15,
   "id": "81d476b0",
   "metadata": {},
   "outputs": [
    {
     "name": "stdout",
     "output_type": "stream",
     "text": [
      "Training accuracy = 83.41%\n"
     ]
    },
    {
     "data": {
      "image/png": "[encoded data removed]",
      "text/plain": [
       "<Figure size 432x288 with 2 Axes>"
      ]
     },
     "metadata": {
      "needs_background": "light"
     },
     "output_type": "display_data"
    }
   ],
   "source": [
    "from sklearn.linear_model import LogisticRegression\n",
    "\n",
    "# Define model\n",
    "model = LogisticRegression(\n",
    "    penalty='l2', # Penalty (‘l1’, ‘l2’, ‘elasticnet’, ‘none’)\n",
    "    C=1., # Inverse of regularization strength\n",
    "    random_state=2022, # Random number seed\n",
    "    solver='lbfgs', # (‘newton-cg’, ‘lbfgs’, ‘liblinear’, ‘sag’, ‘saga’) \n",
    "    max_iter=100, # Maximum number of iterations\n",
    "    multi_class='ovr', # ('auto', 'ovr', 'multinomial')\n",
    "    n_jobs=-1 # Number of CPU cores used\n",
    ")\n",
    "\n",
    "# Fit model\n",
    "model.fit(X_train, y_train)\n",
    "\n",
    "# Predic validation data\n",
    "predictions = model.predict(X_valid)\n",
    "\n",
    "# Check training accuracy\n",
    "print(\"Training accuracy = {}%\".format(np.round(accuracy_score(y_valid, predictions)*100, 2)))\n",
    "\n",
    "# Display confusion matrix\n",
    "ConfusionMatrixDisplay(confusion_matrix(y_valid, predictions)).plot()\n",
    "plt.show()"
   ]
  },
  {
   "cell_type": "markdown",
   "id": "d050bd9e",
   "metadata": {},
   "source": [
    "Testing the model"
   ]
  },
  {
   "cell_type": "code",
   "execution_count": 16,
   "id": "9dfd62c5",
   "metadata": {},
   "outputs": [
    {
     "name": "stdout",
     "output_type": "stream",
     "text": [
      "Testing accuracy = 93.3%\n"
     ]
    },
    {
     "data": {
      "image/png": "[encoded data removed]",
      "text/plain": [
       "<Figure size 432x288 with 2 Axes>"
      ]
     },
     "metadata": {
      "needs_background": "light"
     },
     "output_type": "display_data"
    }
   ],
   "source": [
    "# Predict test data\n",
    "test_predictions = model.predict(df_test)\n",
    "\n",
    "# Check training accuracy\n",
    "print(\"Testing accuracy = {}%\".format(np.round(accuracy_score(df_result['Survived'], test_predictions)*100, 2)))\n",
    "\n",
    "# Display confusion matrix\n",
    "ConfusionMatrixDisplay(confusion_matrix(df_result['Survived'], test_predictions)).plot()\n",
    "plt.show()\n",
    "\n",
    "# Calculate ROC_AUC score\n",
    "auc_lr = roc_auc_score(df_result['Survived'], test_predictions)\n",
    "\n",
    "# Get values of ROC curve\n",
    "fpr_lr, tpr_lr, thresholds_lr = roc_curve(df_result['Survived'], test_predictions)"
   ]
  },
  {
   "cell_type": "markdown",
   "id": "c5340252",
   "metadata": {},
   "source": [
    "### Decision Tree"
   ]
  },
  {
   "cell_type": "markdown",
   "id": "006ea3d8",
   "metadata": {},
   "source": [
    "Training the model"
   ]
  },
  {
   "cell_type": "code",
   "execution_count": 17,
   "id": "48f3b243",
   "metadata": {},
   "outputs": [
    {
     "name": "stdout",
     "output_type": "stream",
     "text": [
      "Training accuracy = 80.27%\n"
     ]
    },
    {
     "data": {
      "image/png": "[encoded data removed]",
      "text/plain": [
       "<Figure size 432x288 with 2 Axes>"
      ]
     },
     "metadata": {
      "needs_background": "light"
     },
     "output_type": "display_data"
    }
   ],
   "source": [
    "from sklearn.tree import DecisionTreeClassifier\n",
    "\n",
    "# Define model\n",
    "model = DecisionTreeClassifier(\n",
    "    criterion='gini', # The function to measure the quality of a split (“gini”, “entropy”, “log_loss”) \n",
    "    splitter='best', # Strategy used to choose the split at each node (\"best\" or \"random\")\n",
    "    max_depth=1, # Maximum depth of the tree\n",
    "    random_state=2022 # Random number seed\n",
    ")\n",
    "\n",
    "# Fit model\n",
    "model.fit(X_train, y_train)\n",
    "\n",
    "# Predic validation data\n",
    "predictions = model.predict(X_valid)\n",
    "\n",
    "# Check training accuracy\n",
    "print(\"Training accuracy = {}%\".format(np.round(accuracy_score(y_valid, predictions)*100, 2)))\n",
    "\n",
    "# Display confusion matrix\n",
    "ConfusionMatrixDisplay(confusion_matrix(y_valid, predictions)).plot()\n",
    "plt.show()"
   ]
  },
  {
   "cell_type": "markdown",
   "id": "6215b538",
   "metadata": {},
   "source": [
    "Testing the model"
   ]
  },
  {
   "cell_type": "code",
   "execution_count": 18,
   "id": "6f540707",
   "metadata": {},
   "outputs": [
    {
     "name": "stdout",
     "output_type": "stream",
     "text": [
      "Testing accuracy = 100.0%\n"
     ]
    },
    {
     "data": {
      "image/png": "[encoded data removed]",
      "text/plain": [
       "<Figure size 432x288 with 2 Axes>"
      ]
     },
     "metadata": {
      "needs_background": "light"
     },
     "output_type": "display_data"
    }
   ],
   "source": [
    "# Predict test data\n",
    "test_predictions = model.predict(df_test)\n",
    "\n",
    "# Check training accuracy\n",
    "print(\"Testing accuracy = {}%\".format(np.round(accuracy_score(df_result['Survived'], test_predictions)*100, 2)))\n",
    "\n",
    "# Display confusion matrix\n",
    "ConfusionMatrixDisplay(confusion_matrix(df_result['Survived'], test_predictions)).plot()\n",
    "plt.show()\n",
    "\n",
    "# Calculate ROC_AUC score\n",
    "auc_dt = roc_auc_score(df_result['Survived'], test_predictions)\n",
    "\n",
    "# Get values of ROC curve\n",
    "fpr_dt, tpr_dt, thresholds_dt = roc_curve(df_result['Survived'], test_predictions)"
   ]
  },
  {
   "cell_type": "markdown",
   "id": "a3d95db0",
   "metadata": {},
   "source": [
    "### Random Forest"
   ]
  },
  {
   "cell_type": "markdown",
   "id": "ae3115d0",
   "metadata": {},
   "source": [
    "Training the model"
   ]
  },
  {
   "cell_type": "code",
   "execution_count": 19,
   "id": "c1155375",
   "metadata": {},
   "outputs": [
    {
     "name": "stdout",
     "output_type": "stream",
     "text": [
      "Training accuracy = 80.27%\n"
     ]
    },
    {
     "data": {
      "image/png": "[encoded data removed]",
      "text/plain": [
       "<Figure size 432x288 with 2 Axes>"
      ]
     },
     "metadata": {
      "needs_background": "light"
     },
     "output_type": "display_data"
    }
   ],
   "source": [
    "from sklearn.ensemble import RandomForestClassifier\n",
    "\n",
    "# Define model\n",
    "model = RandomForestClassifier(\n",
    "    n_estimators=100, # Number of trees in the forest\n",
    "    criterion='gini', # The function to measure the quality of a split (“gini”, “entropy”, “log_loss”) \n",
    "    max_depth=1, # Maximum depth of the tree\n",
    "    random_state=2022 # Random number seed\n",
    ")\n",
    "\n",
    "# Fit model\n",
    "model.fit(X_train, y_train)\n",
    "\n",
    "# Predic validation data\n",
    "predictions = model.predict(X_valid)\n",
    "\n",
    "# Check training accuracy\n",
    "print(\"Training accuracy = {}%\".format(np.round(accuracy_score(y_valid, predictions)*100, 2)))\n",
    "\n",
    "# Display confusion matrix\n",
    "ConfusionMatrixDisplay(confusion_matrix(y_valid, predictions)).plot()\n",
    "plt.show()"
   ]
  },
  {
   "cell_type": "markdown",
   "id": "720205cc",
   "metadata": {},
   "source": [
    "Testing the model"
   ]
  },
  {
   "cell_type": "code",
   "execution_count": 20,
   "id": "600367cf",
   "metadata": {},
   "outputs": [
    {
     "name": "stdout",
     "output_type": "stream",
     "text": [
      "Testing accuracy = 100.0%\n"
     ]
    },
    {
     "data": {
      "image/png": "[encoded data removed]",
      "text/plain": [
       "<Figure size 432x288 with 2 Axes>"
      ]
     },
     "metadata": {
      "needs_background": "light"
     },
     "output_type": "display_data"
    }
   ],
   "source": [
    "# Predict test data\n",
    "test_predictions = model.predict(df_test)\n",
    "\n",
    "# Check training accuracy\n",
    "print(\"Testing accuracy = {}%\".format(np.round(accuracy_score(df_result['Survived'], test_predictions)*100, 2)))\n",
    "\n",
    "# Display confusion matrix\n",
    "ConfusionMatrixDisplay(confusion_matrix(df_result['Survived'], test_predictions)).plot()\n",
    "plt.show()\n",
    "\n",
    "# Calculate ROC_AUC score\n",
    "auc_rf = roc_auc_score(df_result['Survived'], test_predictions)\n",
    "\n",
    "# Get values of ROC curve\n",
    "fpr_rf, tpr_rf, thresholds_rf = roc_curve(df_result['Survived'], test_predictions)"
   ]
  },
  {
   "cell_type": "markdown",
   "id": "70cc854f",
   "metadata": {},
   "source": [
    "### Linear SVM"
   ]
  },
  {
   "cell_type": "markdown",
   "id": "8e2a32a6",
   "metadata": {},
   "source": [
    "Training the model"
   ]
  },
  {
   "cell_type": "code",
   "execution_count": 21,
   "id": "79be9408",
   "metadata": {},
   "outputs": [
    {
     "name": "stdout",
     "output_type": "stream",
     "text": [
      "Training accuracy = 80.27%\n"
     ]
    },
    {
     "data": {
      "image/png": "[encoded data removed]",
      "text/plain": [
       "<Figure size 432x288 with 2 Axes>"
      ]
     },
     "metadata": {
      "needs_background": "light"
     },
     "output_type": "display_data"
    }
   ],
   "source": [
    "from sklearn.svm import SVC\n",
    "\n",
    "# Define model\n",
    "model = SVC(\n",
    "    C=0.025, # Regularization parameter\n",
    "    kernel='linear', # Kernel type\n",
    "    degree=3, # Degree of the polynomial kernel function\n",
    "    gamma='scale', # Kernel coefficient for ‘rbf’, ‘poly’ and ‘sigmoid’. Values are 'scale' and 'auto'.\n",
    "    max_iter=-1, # Limit on iterations within solver\n",
    "    random_state=2022 # Random number seed\n",
    ")\n",
    "\n",
    "# Fit model\n",
    "model.fit(X_train, y_train)\n",
    "\n",
    "# Predic validation data\n",
    "predictions = model.predict(X_valid)\n",
    "\n",
    "# Check training accuracy\n",
    "print(\"Training accuracy = {}%\".format(np.round(accuracy_score(y_valid, predictions)*100, 2)))\n",
    "\n",
    "# Display confusion matrix\n",
    "ConfusionMatrixDisplay(confusion_matrix(y_valid, predictions)).plot()\n",
    "plt.show()"
   ]
  },
  {
   "cell_type": "markdown",
   "id": "34e390bf",
   "metadata": {},
   "source": [
    "Testing the model"
   ]
  },
  {
   "cell_type": "code",
   "execution_count": 22,
   "id": "b6327f6a",
   "metadata": {},
   "outputs": [
    {
     "name": "stdout",
     "output_type": "stream",
     "text": [
      "Testing accuracy = 100.0%\n"
     ]
    },
    {
     "data": {
      "image/png": "[encoded data removed]",
      "text/plain": [
       "<Figure size 432x288 with 2 Axes>"
      ]
     },
     "metadata": {
      "needs_background": "light"
     },
     "output_type": "display_data"
    }
   ],
   "source": [
    "# Predict test data\n",
    "test_predictions = model.predict(df_test)\n",
    "\n",
    "# Check training accuracy\n",
    "print(\"Testing accuracy = {}%\".format(np.round(accuracy_score(df_result['Survived'], test_predictions)*100, 2)))\n",
    "\n",
    "# Display confusion matrix\n",
    "ConfusionMatrixDisplay(confusion_matrix(df_result['Survived'], test_predictions)).plot()\n",
    "plt.show()\n",
    "\n",
    "# Calculate ROC_AUC score\n",
    "auc_lsvm = roc_auc_score(df_result['Survived'], test_predictions)\n",
    "\n",
    "# Get values of ROC curve\n",
    "fpr_lsvm, tpr_lsvm, thresholds_lsvm = roc_curve(df_result['Survived'], test_predictions)"
   ]
  },
  {
   "cell_type": "markdown",
   "id": "b45aa55f",
   "metadata": {},
   "source": [
    "### Non-linear SVM"
   ]
  },
  {
   "cell_type": "markdown",
   "id": "6165aa9d",
   "metadata": {},
   "source": [
    "Training the model"
   ]
  },
  {
   "cell_type": "code",
   "execution_count": 23,
   "id": "b7109920",
   "metadata": {},
   "outputs": [
    {
     "name": "stdout",
     "output_type": "stream",
     "text": [
      "Training accuracy = 82.96%\n"
     ]
    },
    {
     "data": {
      "image/png": "[encoded data removed]",
      "text/plain": [
       "<Figure size 432x288 with 2 Axes>"
      ]
     },
     "metadata": {
      "needs_background": "light"
     },
     "output_type": "display_data"
    }
   ],
   "source": [
    "from sklearn.svm import SVC\n",
    "\n",
    "# Define model\n",
    "model = SVC(\n",
    "    C=1., # Regularization parameter\n",
    "    kernel='rbf', # Kernel type ('linear', 'poly', 'rbf', 'sigmoid', 'precomputed')\n",
    "    degree=3, # Degree of the polynomial kernel function\n",
    "    gamma='scale', # Kernel coefficient for ‘rbf’, ‘poly’ and ‘sigmoid’. Values are 'scale' and 'auto'.\n",
    "    max_iter=-1, # Limit on iterations within solver\n",
    "    random_state=2022 # Random number seed\n",
    ")\n",
    "\n",
    "# Fit model\n",
    "model.fit(X_train, y_train)\n",
    "\n",
    "# Predic validation data\n",
    "predictions = model.predict(X_valid)\n",
    "\n",
    "# Check training accuracy\n",
    "print(\"Training accuracy = {}%\".format(np.round(accuracy_score(y_valid, predictions)*100, 2)))\n",
    "\n",
    "# Display confusion matrix\n",
    "ConfusionMatrixDisplay(confusion_matrix(y_valid, predictions)).plot()\n",
    "plt.show()"
   ]
  },
  {
   "cell_type": "markdown",
   "id": "3d686f1e",
   "metadata": {},
   "source": [
    "Testing the model"
   ]
  },
  {
   "cell_type": "code",
   "execution_count": 24,
   "id": "7f719c1d",
   "metadata": {},
   "outputs": [
    {
     "name": "stdout",
     "output_type": "stream",
     "text": [
      "Testing accuracy = 97.13%\n"
     ]
    },
    {
     "data": {
      "image/png": "[encoded data removed]",
      "text/plain": [
       "<Figure size 432x288 with 2 Axes>"
      ]
     },
     "metadata": {
      "needs_background": "light"
     },
     "output_type": "display_data"
    }
   ],
   "source": [
    "# Predict test data\n",
    "test_predictions = model.predict(df_test)\n",
    "\n",
    "# Check training accuracy\n",
    "print(\"Testing accuracy = {}%\".format(np.round(accuracy_score(df_result['Survived'], test_predictions)*100, 2)))\n",
    "\n",
    "# Display confusion matrix\n",
    "ConfusionMatrixDisplay(confusion_matrix(df_result['Survived'], test_predictions)).plot()\n",
    "plt.show()\n",
    "\n",
    "# Calculate ROC_AUC score\n",
    "auc_svm = roc_auc_score(df_result['Survived'], test_predictions)\n",
    "\n",
    "# Get values of ROC curve\n",
    "fpr_svm, tpr_svm, thresholds_svm = roc_curve(df_result['Survived'], test_predictions)"
   ]
  },
  {
   "cell_type": "markdown",
   "id": "105245e0",
   "metadata": {},
   "source": [
    "### Stochastic Gradient Descent"
   ]
  },
  {
   "cell_type": "markdown",
   "id": "29184e7c",
   "metadata": {},
   "source": [
    "Training the model"
   ]
  },
  {
   "cell_type": "code",
   "execution_count": 25,
   "id": "3d7d61d1",
   "metadata": {},
   "outputs": [
    {
     "name": "stdout",
     "output_type": "stream",
     "text": [
      "Training accuracy = 82.06%\n"
     ]
    },
    {
     "data": {
      "image/png": "[encoded data removed]",
      "text/plain": [
       "<Figure size 432x288 with 2 Axes>"
      ]
     },
     "metadata": {
      "needs_background": "light"
     },
     "output_type": "display_data"
    }
   ],
   "source": [
    "from sklearn.linear_model import SGDClassifier\n",
    "\n",
    "# Define model\n",
    "model = SGDClassifier(\n",
    "    loss='hinge', # Loss function (‘hinge’, ‘log_loss’, ‘log’, ‘modified_huber’, ‘squared_hinge’, ‘perceptron’, ‘squared_error’, ‘huber’, ‘epsilon_insensitive’, ‘squared_epsilon_insensitive’)\n",
    "    penalty='l2', # Regularization term (‘l2’, ‘l1’, ‘elasticnet’)\n",
    "    max_iter=1000, # Epochs\n",
    "    shuffle=True, # Shuffle training data\n",
    "    n_jobs=-1, # Number of CPUs to use\n",
    "    random_state=2022, # Random number seed \n",
    "    learning_rate='adaptive', # Learning rate schedule (‘constant’, ‘optimal’, ‘invscaling’, ‘adaptive’)\n",
    "    eta0=1.0 # Initial learning rate\n",
    ")\n",
    "\n",
    "# Fit model\n",
    "model.fit(X_train, y_train)\n",
    "\n",
    "# Predic validation data\n",
    "predictions = model.predict(X_valid)\n",
    "\n",
    "# Check training accuracy\n",
    "print(\"Training accuracy = {}%\".format(np.round(accuracy_score(y_valid, predictions)*100, 2)))\n",
    "\n",
    "# Display confusion matrix\n",
    "ConfusionMatrixDisplay(confusion_matrix(y_valid, predictions)).plot()\n",
    "plt.show()"
   ]
  },
  {
   "cell_type": "markdown",
   "id": "81ba1e97",
   "metadata": {},
   "source": [
    "Testing the model"
   ]
  },
  {
   "cell_type": "code",
   "execution_count": 26,
   "id": "fa5bd1e8",
   "metadata": {},
   "outputs": [
    {
     "name": "stdout",
     "output_type": "stream",
     "text": [
      "Testing accuracy = 98.09%\n"
     ]
    },
    {
     "data": {
      "image/png": "[encoded data removed]",
      "text/plain": [
       "<Figure size 432x288 with 2 Axes>"
      ]
     },
     "metadata": {
      "needs_background": "light"
     },
     "output_type": "display_data"
    }
   ],
   "source": [
    "# Predict test data\n",
    "test_predictions = model.predict(df_test)\n",
    "\n",
    "# Check training accuracy\n",
    "print(\"Testing accuracy = {}%\".format(np.round(accuracy_score(df_result['Survived'], test_predictions)*100, 2)))\n",
    "\n",
    "# Display confusion matrix\n",
    "ConfusionMatrixDisplay(confusion_matrix(df_result['Survived'], test_predictions)).plot()\n",
    "plt.show()\n",
    "\n",
    "# Calculate ROC_AUC score\n",
    "auc_sgd = roc_auc_score(df_result['Survived'], test_predictions)\n",
    "\n",
    "# Get values of ROC curve\n",
    "fpr_sgd, tpr_sgd, thresholds_sgd = roc_curve(df_result['Survived'], test_predictions)"
   ]
  },
  {
   "cell_type": "markdown",
   "id": "e44dd55a",
   "metadata": {},
   "source": [
    "### AdaBoostClassifier\n",
    "\n",
    "AdaBoostClassifier is a meta-estimator that begins by fitting a classifier on the original dataset and then fits additional copies of the classifier on the same dataset but where the weights of incorrectly classified instances are adjusted such that subsequent classifiers focus more on difficult cases. Please see the [official documentation](https://scikit-learn.org/stable/modules/generated/sklearn.ensemble.AdaBoostClassifier.html#sklearn.ensemble.AdaBoostClassifier)."
   ]
  },
  {
   "cell_type": "markdown",
   "id": "58b31856",
   "metadata": {},
   "source": [
    "Training the model"
   ]
  },
  {
   "cell_type": "code",
   "execution_count": 27,
   "id": "4353b2f3",
   "metadata": {},
   "outputs": [
    {
     "name": "stdout",
     "output_type": "stream",
     "text": [
      "Training accuracy = 80.27%\n"
     ]
    },
    {
     "data": {
      "image/png": "[encoded data removed]",
      "text/plain": [
       "<Figure size 432x288 with 2 Axes>"
      ]
     },
     "metadata": {
      "needs_background": "light"
     },
     "output_type": "display_data"
    }
   ],
   "source": [
    "from sklearn.ensemble import AdaBoostClassifier\n",
    "\n",
    "# Define model\n",
    "model = AdaBoostClassifier(\n",
    "    base_estimator=None,\n",
    "    n_estimators=100, # Maximum number of estimators\n",
    "    learning_rate=.001, # Learning rate\n",
    "    algorithm='SAMME.R', # (‘SAMME’, ‘SAMME.R’)\n",
    "    random_state=2022 # Random number seed\n",
    ")\n",
    "\n",
    "# Fit model\n",
    "model.fit(X_train, y_train)\n",
    "\n",
    "# Predic validation data\n",
    "predictions = model.predict(X_valid)\n",
    "\n",
    "# Check training accuracy\n",
    "print(\"Training accuracy = {}%\".format(np.round(accuracy_score(y_valid, predictions)*100, 2)))\n",
    "\n",
    "# Display confusion matrix\n",
    "ConfusionMatrixDisplay(confusion_matrix(y_valid, predictions)).plot()\n",
    "plt.show()"
   ]
  },
  {
   "cell_type": "markdown",
   "id": "41bdb969",
   "metadata": {},
   "source": [
    "Testing the model"
   ]
  },
  {
   "cell_type": "code",
   "execution_count": 28,
   "id": "8470fccb",
   "metadata": {},
   "outputs": [
    {
     "name": "stdout",
     "output_type": "stream",
     "text": [
      "Testing accuracy = 100.0%\n"
     ]
    },
    {
     "data": {
      "image/png": "[encoded data removed]",
      "text/plain": [
       "<Figure size 432x288 with 2 Axes>"
      ]
     },
     "metadata": {
      "needs_background": "light"
     },
     "output_type": "display_data"
    }
   ],
   "source": [
    "# Predict test data\n",
    "test_predictions = model.predict(df_test)\n",
    "\n",
    "# Check training accuracy\n",
    "print(\"Testing accuracy = {}%\".format(np.round(accuracy_score(df_result['Survived'], test_predictions)*100, 2)))\n",
    "\n",
    "# Display confusion matrix\n",
    "ConfusionMatrixDisplay(confusion_matrix(df_result['Survived'], test_predictions)).plot()\n",
    "plt.show()\n",
    "\n",
    "# Calculate ROC_AUC score\n",
    "auc_ada = roc_auc_score(df_result['Survived'], test_predictions)\n",
    "\n",
    "# Get values of ROC curve\n",
    "fpr_ada, tpr_ada, thresholds_ada = roc_curve(df_result['Survived'], test_predictions)"
   ]
  },
  {
   "cell_type": "markdown",
   "id": "40a89882",
   "metadata": {},
   "source": [
    "### CatBoostClassifier (Classification using Gradient Boosting on Decision Trees)"
   ]
  },
  {
   "cell_type": "markdown",
   "id": "39af6bb3",
   "metadata": {},
   "source": [
    "Training the model"
   ]
  },
  {
   "cell_type": "code",
   "execution_count": 29,
   "id": "08ddb18f",
   "metadata": {},
   "outputs": [
    {
     "name": "stdout",
     "output_type": "stream",
     "text": [
      "0:\tlearn: 0.7814371\ttest: 0.8026906\tbest: 0.8026906 (0)\ttotal: 148ms\tremaining: 593ms\n",
      "1:\tlearn: 0.7814371\ttest: 0.8026906\tbest: 0.8026906 (0)\ttotal: 152ms\tremaining: 228ms\n",
      "2:\tlearn: 0.7814371\ttest: 0.8026906\tbest: 0.8026906 (0)\ttotal: 158ms\tremaining: 105ms\n",
      "3:\tlearn: 0.7814371\ttest: 0.8026906\tbest: 0.8026906 (0)\ttotal: 173ms\tremaining: 43.2ms\n",
      "4:\tlearn: 0.7814371\ttest: 0.8026906\tbest: 0.8026906 (0)\ttotal: 184ms\tremaining: 0us\n",
      "\n",
      "bestTest = 0.802690583\n",
      "bestIteration = 0\n",
      "\n",
      "Shrink model to first 1 iterations.\n",
      "Training accuracy = 80.27%\n"
     ]
    },
    {
     "data": {
      "image/png": "[encoded data removed]",
      "text/plain": [
       "<Figure size 432x288 with 2 Axes>"
      ]
     },
     "metadata": {
      "needs_background": "light"
     },
     "output_type": "display_data"
    }
   ],
   "source": [
    "import catboost as cb\n",
    "\n",
    "# Define model\n",
    "model = cb.CatBoostClassifier(\n",
    "    iterations=5,\n",
    "    learning_rate=0.01,\n",
    "    depth=5,\n",
    "    loss_function=\"Logloss\",\n",
    "    eval_metric=\"Accuracy\",\n",
    "    random_state=2022\n",
    ")\n",
    "\n",
    "# Fit model\n",
    "cat_features = ['Pclass', 'Cat_family', 'encoded_sex', 'encoded_embarked']\n",
    "model.fit(X_train, y_train, cat_features=cat_features, plot=False, eval_set=(X_valid, y_valid))\n",
    "\n",
    "# Predic validation data\n",
    "predictions = model.predict(X_valid)\n",
    "\n",
    "# Check training accuracy\n",
    "print(\"Training accuracy = {}%\".format(np.round(accuracy_score(y_valid, predictions)*100, 2)))\n",
    "\n",
    "# Display confusion matrix\n",
    "ConfusionMatrixDisplay(confusion_matrix(y_valid, predictions)).plot()\n",
    "plt.show()"
   ]
  },
  {
   "cell_type": "markdown",
   "id": "bc47fdf2",
   "metadata": {},
   "source": [
    "Testing the model"
   ]
  },
  {
   "cell_type": "code",
   "execution_count": 30,
   "id": "a95b2c33",
   "metadata": {},
   "outputs": [
    {
     "name": "stdout",
     "output_type": "stream",
     "text": [
      "Testing accuracy = 100.0%\n"
     ]
    },
    {
     "data": {
      "image/png": "[encoded data removed]",
      "text/plain": [
       "<Figure size 432x288 with 2 Axes>"
      ]
     },
     "metadata": {
      "needs_background": "light"
     },
     "output_type": "display_data"
    }
   ],
   "source": [
    "# Predict test data\n",
    "test_predictions = model.predict(df_test)\n",
    "\n",
    "# Check training accuracy\n",
    "print(\"Testing accuracy = {}%\".format(np.round(accuracy_score(df_result['Survived'], test_predictions)*100, 2)))\n",
    "\n",
    "# Display confusion matrix\n",
    "ConfusionMatrixDisplay(confusion_matrix(df_result['Survived'], test_predictions)).plot()\n",
    "plt.show()\n",
    "\n",
    "# Calculate ROC_AUC score\n",
    "auc_cat = roc_auc_score(df_result['Survived'], test_predictions)\n",
    "\n",
    "# Get values of ROC curve\n",
    "fpr_cat, tpr_cat, thresholds_cat = roc_curve(df_result['Survived'], test_predictions)"
   ]
  },
  {
   "cell_type": "markdown",
   "id": "041e8c0c",
   "metadata": {},
   "source": [
    "### XGBoost\n",
    "\n",
    "XGBoost is an optimized distributed gradient boosting library designed to be highly efficient, flexible and portable. It implements machine learning algorithms under the Gradient Boosting framework. For now, XGBoost can't deal with categorical data type. So, let's change any feature which having categorical type. Further information, please see [official documentation](https://xgboost.readthedocs.io/en/latest/)."
   ]
  },
  {
   "cell_type": "markdown",
   "id": "e02e10f8",
   "metadata": {},
   "source": [
    "Change feature type and split train and valid data"
   ]
  },
  {
   "cell_type": "code",
   "execution_count": 31,
   "id": "00cb8cd3",
   "metadata": {},
   "outputs": [],
   "source": [
    "df_train['Survived'] = df_train['Survived'].astype('int')\n",
    "df_train['Pclass'] = df_train['Pclass'].astype('int')\n",
    "df_train['Cat_family'] = df_train['Cat_family'].astype('int')\n",
    "df_train['encoded_sex'] = df_train['encoded_sex'].astype('int')\n",
    "df_train['encoded_embarked'] = df_train['encoded_embarked'].astype('int')\n",
    "\n",
    "df_test['Pclass'] = df_test['Pclass'].astype('int')\n",
    "df_test['Cat_family'] = df_test['Cat_family'].astype('int')\n",
    "df_test['encoded_sex'] = df_test['encoded_sex'].astype('int')\n",
    "df_test['encoded_embarked'] = df_test['encoded_embarked'].astype('int')"
   ]
  },
  {
   "cell_type": "code",
   "execution_count": 32,
   "id": "9e35f488",
   "metadata": {},
   "outputs": [],
   "source": [
    "from sklearn.model_selection import train_test_split\n",
    "\n",
    "y = df_train['Survived']\n",
    "X = df_train.drop('Survived', axis=1)\n",
    "\n",
    "# Divide train dataset into train and validation sets\n",
    "X_train, X_valid, y_train, y_valid = train_test_split(\n",
    "    X, # Independent variables\n",
    "    y, # Dependent variable\n",
    "    test_size=0.25, # Fraction of test set\n",
    "    random_state=2022 # Random number seed\n",
    ")"
   ]
  },
  {
   "cell_type": "markdown",
   "id": "797fdfd6",
   "metadata": {},
   "source": [
    "Training the model"
   ]
  },
  {
   "cell_type": "code",
   "execution_count": 33,
   "id": "ef94f47e",
   "metadata": {},
   "outputs": [
    {
     "name": "stdout",
     "output_type": "stream",
     "text": [
      "Training accuracy = 80.27%\n"
     ]
    },
    {
     "data": {
      "image/png": "[encoded data removed]",
      "text/plain": [
       "<Figure size 432x288 with 2 Axes>"
      ]
     },
     "metadata": {
      "needs_background": "light"
     },
     "output_type": "display_data"
    }
   ],
   "source": [
    "import xgboost as xgb\n",
    "\n",
    "# Define model\n",
    "model = xgb.XGBClassifier(\n",
    "    n_estimators= 100, # Number of boosting rounds\n",
    "    max_depth=1, # Maximum tree depth for base learners\n",
    "    learning_rate = 0.01, # Boosting learning rate\n",
    "    objective= 'binary:logistic', # Learning task ()\n",
    "    n_jobs=-1, # Number of parallel threads used to run xgboost\n",
    "    gamma=1., # Minimum loss reduction required to make a further partition on a leaf node of the tree\n",
    "    min_child_weight= 2, # Minimum sum of instance weight(hessian) needed in a child\n",
    "    subsample=0.8, # Subsample ratio of the training instance\n",
    "    colsample_bytree=0.8, # Subsample ratio of columns when constructing each tree\n",
    "    scale_pos_weight=1, # Balancing of positive and negative weights\n",
    "    random_state=2022, # Random number seed\n",
    "    eval_metric=\"logloss\" # Metric used for monitoring the training result and early stopping\n",
    ")\n",
    "\n",
    "# Fit model\n",
    "model.fit(X_train, y_train)\n",
    "\n",
    "# Predic validation data\n",
    "predictions = model.predict(X_valid)\n",
    "\n",
    "# Check training accuracy\n",
    "print(\"Training accuracy = {}%\".format(np.round(accuracy_score(y_valid, predictions)*100, 2)))\n",
    "\n",
    "# Display confusion matrix\n",
    "ConfusionMatrixDisplay(confusion_matrix(y_valid, predictions)).plot()\n",
    "plt.show()"
   ]
  },
  {
   "cell_type": "markdown",
   "id": "1bff1dda",
   "metadata": {},
   "source": [
    "Options for some parameters:\n",
    "* **objective** (\"reg:squarederror\", \"reg:squaredlogerror\", \"reg:logistic\", \"reg:pseudohubererror\", \"reg:absoluteerror\", \"binary:logistic\", \"binary:logitraw\", \"binary:hinge\", \"count:poisson\", \"survival:cox\", \"survival:aft\", \"aft_loss_distribution\", \"multi:softmax\", \"multi:softprob\", \"rank:pairwise\", \"rank:ndcg\", \"rank:map\", \"reg:gamma\", \"reg:tweedie\")\n",
    "\n",
    "* **eval_metric** (\"rmse\", \"rmsle\", \"mae\", \"mape\", \"mphe\", \"logloss\", \"error\", \"error@t\", \"merror\", \"mlogloss\", \"auc\", \"aucpr\", \"ndcg\", \"map\", \"ndcg@n\", \"map@n\", \"ndcg-\", \"map-\", \"ndcg@n-\", \"map@n-\", \"poisson-nloglik\", \"gamma-nloglik\", \"cox-nloglik\", \"gamma-deviance\", \"tweedie-nloglik\", \"aft-nloglik\", \"interval-regression-accuracy\") "
   ]
  },
  {
   "cell_type": "markdown",
   "id": "8ea60086",
   "metadata": {},
   "source": [
    "Testing the model"
   ]
  },
  {
   "cell_type": "code",
   "execution_count": 34,
   "id": "9267935d",
   "metadata": {},
   "outputs": [
    {
     "name": "stdout",
     "output_type": "stream",
     "text": [
      "Testing accuracy = 100.0%\n"
     ]
    },
    {
     "data": {
      "image/png": "[encoded data removed]",
      "text/plain": [
       "<Figure size 432x288 with 2 Axes>"
      ]
     },
     "metadata": {
      "needs_background": "light"
     },
     "output_type": "display_data"
    }
   ],
   "source": [
    "# Predict test data\n",
    "test_predictions = model.predict(df_test)\n",
    "\n",
    "# Check training accuracy\n",
    "print(\"Testing accuracy = {}%\".format(np.round(accuracy_score(df_result['Survived'], test_predictions)*100, 2)))\n",
    "\n",
    "# Display confusion matrix\n",
    "ConfusionMatrixDisplay(confusion_matrix(df_result['Survived'], test_predictions)).plot()\n",
    "plt.show()\n",
    "\n",
    "# Calculate ROC_AUC score\n",
    "auc_xgb = roc_auc_score(df_result['Survived'], test_predictions)\n",
    "\n",
    "# Get values of ROC curve\n",
    "fpr_xgb, tpr_xgb, thresholds_xgb = roc_curve(df_result['Survived'], test_predictions)"
   ]
  },
  {
   "cell_type": "markdown",
   "id": "04d6b595",
   "metadata": {},
   "source": [
    "### Moreee"
   ]
  },
  {
   "cell_type": "markdown",
   "id": "61945856",
   "metadata": {},
   "source": [
    "## Comparing the models"
   ]
  },
  {
   "cell_type": "markdown",
   "id": "b134817d",
   "metadata": {},
   "source": [
    "ROC Curve"
   ]
  },
  {
   "cell_type": "code",
   "execution_count": 35,
   "id": "70919994",
   "metadata": {},
   "outputs": [
    {
     "data": {
      "image/png": "[encoded data removed]",
      "text/plain": [
       "<Figure size 864x504 with 1 Axes>"
      ]
     },
     "metadata": {
      "needs_background": "light"
     },
     "output_type": "display_data"
    }
   ],
   "source": [
    "plt.figure(figsize=(12, 7))\n",
    "plt.plot(fpr_knn, tpr_knn, label=f'AUC (k-Nearest Neighbors) = {auc_knn:.2f}')\n",
    "plt.plot(fpr_nb, tpr_nb, label=f'AUC (Naive Bayes) = {auc_nb:.2f}')\n",
    "plt.plot(fpr_lr, tpr_lr, label=f'AUC (Logistic Regression) = {auc_lr:.2f}')\n",
    "plt.plot(fpr_dt, tpr_dt, label=f'AUC (Decision Tree) = {auc_dt:.2f}')\n",
    "plt.plot(fpr_rf, tpr_rf, label=f'AUC (Random Forests) = {auc_rf:.2f}')\n",
    "plt.plot(fpr_lsvm, tpr_lsvm, label=f'AUC (Linear SVM) = {auc_lsvm:.2f}')\n",
    "plt.plot(fpr_svm, tpr_svm, label=f'AUC (Non-linear SVM) = {auc_svm:.2f}')\n",
    "plt.plot(fpr_sgd, tpr_sgd, label=f'AUC (Stochastic Gradient Descent) = {auc_sgd:.2f}')\n",
    "plt.plot(fpr_ada, tpr_ada, label=f'AUC (AdaBoost) = {auc_ada:.2f}')\n",
    "plt.plot(fpr_cat, tpr_cat, label=f'AUC (CatBoost) = {auc_cat:.2f}')\n",
    "plt.plot(fpr_xgb, tpr_xgb, label=f'AUC (XGBoost) = {auc_xgb:.2f}')\n",
    "plt.plot([0, 1], [0, 1], color='blue', linestyle='--', label='Baseline')\n",
    "plt.title('ROC Curve', size=20)\n",
    "plt.xlabel('False Positive Rate', size=14)\n",
    "plt.ylabel('True Positive Rate', size=14)\n",
    "plt.legend()\n",
    "plt.show()"
   ]
  },
  {
   "cell_type": "markdown",
   "id": "9f76c26f",
   "metadata": {},
   "source": [
    "ROC-AUC score"
   ]
  },
  {
   "cell_type": "code",
   "execution_count": 42,
   "id": "73c4d594",
   "metadata": {},
   "outputs": [],
   "source": [
    "index = [\n",
    "    \"k-Nearest Neighbors\",\n",
    "    \"Naive Bayes\",\n",
    "    \"Logistic Regression\", \n",
    "    \"Decision Tree\",\n",
    "    \"Random Forests\", \n",
    "    \"Linear SVM\",\n",
    "    \"Non-linear SVM\",\n",
    "    \"Stochastic Gradient Descent\",\n",
    "    \"AdaBoost\", \n",
    "    \"CatBoost\", \n",
    "    \"XGBoost\"\n",
    "]\n",
    "    \n",
    "roc_auc = [\n",
    "    auc_knn,\n",
    "    auc_nb,\n",
    "    auc_lr, \n",
    "    auc_dt,\n",
    "    auc_rf,\n",
    "    auc_lsvm,\n",
    "    auc_svm,\n",
    "    auc_sgd,\n",
    "    auc_ada,\n",
    "    auc_cat,\n",
    "    auc_xgb\n",
    "]\n",
    "\n",
    "data = pd.DataFrame(data=accuracy, index=index, columns=['roc_auc'])"
   ]
  },
  {
   "cell_type": "code",
   "execution_count": 43,
   "id": "96c0c75f",
   "metadata": {},
   "outputs": [
    {
     "data": {
      "image/png": "[encoded data removed]",
      "text/plain": [
       "<Figure size 360x576 with 1 Axes>"
      ]
     },
     "metadata": {},
     "output_type": "display_data"
    }
   ],
   "source": [
    "plt.figure(figsize=(5, 8))\n",
    "sns.set_theme(style=\"whitegrid\")\n",
    "ax = sns.barplot(data=data, x=\"roc_auc\", y=data.index)\n",
    "plt.show()"
   ]
  },
  {
   "cell_type": "code",
   "execution_count": null,
   "id": "e9f6403c",
   "metadata": {},
   "outputs": [],
   "source": []
  }
 ],
 "metadata": {
  "kernelspec": {
   "display_name": "Python 3 (ipykernel)",
   "language": "python",
   "name": "python3"
  },
  "language_info": {
   "codemirror_mode": {
    "name": "ipython",
    "version": 3
   },
   "file_extension": ".py",
   "mimetype": "text/x-python",
   "name": "python",
   "nbconvert_exporter": "python",
   "pygments_lexer": "ipython3",
   "version": "3.8.8"
  },
  "vscode": {
   "interpreter": {
    "hash": "88bfe685ae48d6b588350f55ffee6d369c6dc16004a8449bce6a42e664eafa62"
   }
  }
 },
 "nbformat": 4,
 "nbformat_minor": 5
}
